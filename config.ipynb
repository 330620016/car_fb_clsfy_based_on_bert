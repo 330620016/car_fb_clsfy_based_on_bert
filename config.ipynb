{
 "cells": [
  {
   "cell_type": "code",
   "execution_count": null,
   "metadata": {},
   "outputs": [],
   "source": [
    "def get_train_config(language: str):\n",
    "    OUTPUT_CKPT_DIR = OUTPUT_PB_DIR = VOCAB_FILE = BERT_CONFIG_FILE = INIT_CHECKPOINT = SHUFFLE_TFR = TRAIN_TFR = TEST_TFR = VALIDATE_TFR = \"\"\n",
    "    LABELS_LIST = []\n",
    "    if language == \"chinese\" or language == \"cn\" or language == \"CN\":\n",
    "        OUTPUT_CKPT_DIR = \"./output/chinese/checkpoint\"\n",
    "        OUTPUT_PB_DIR = \"./output/chinese/pb\"\n",
    "        VOCAB_FILE = \"./bert_pretrain_model/BERT_Base_Chinese/chinese_L-12_H-768_A-12/vocab.txt\"\n",
    "        BERT_CONFIG_FILE = \"./bert_pretrain_model/BERT_Base_Chinese/chinese_L-12_H-768_A-12/bert_config.json\"\n",
    "        INIT_CHECKPOINT = \"./bert_pretrain_model/BERT_Base_Chinese/chinese_L-12_H-768_A-12/bert_model.ckpt\"\n",
    "        SHUFFLE_TFR = \"./data/car_reviews_final/chinese/shuffle.tf_record\"\n",
    "        TRAIN_TFR = \"./data/car_reviews_final/chinese/train.tf_record\"\n",
    "        TEST_TFR = \"./data/car_reviews_final/chinese/test.tf_record\"\n",
    "        VALIDATE_TFR = \"./data/car_reviews_final/chinese/validate.tf_record\"\n",
    "        LABELS_LIST = ['外观', '操控', '动力', '安全辅助', '空间', '能耗', '内饰']\n",
    "    if language == \"english\" or language == \"en\" or language == \"EN\":\n",
    "        OUTPUT_CKPT_DIR = \"./output/english/checkpoint\"\n",
    "        OUTPUT_PB_DIR = \"./output/english/pb\"\n",
    "        VOCAB_FILE = \"./bert_pretrain_model/BERT_Base_Uncased/uncased_L-12_H-768_A-12/vocab.txt\"\n",
    "        BERT_CONFIG_FILE = \"./bert_pretrain_model/BERT_Base_Uncased/uncased_L-12_H-768_A-12/bert_config.json\"\n",
    "        INIT_CHECKPOINT = \"./bert_pretrain_model/BERT_Base_Uncased/uncased_L-12_H-768_A-12/bert_model.ckpt\"\n",
    "        SHUFFLE_TFR = \"./data/car_reviews_final/english/shuffle.tf_record\"\n",
    "        TRAIN_TFR = \"./data/car_reviews_final/english/train.tf_record\"\n",
    "        TEST_TFR = \"./data/car_reviews_final/english/test.tf_record\"\n",
    "        VALIDATE_TFR = \"./data/car_reviews_final/english/validate.tf_record\"\n",
    "        LABELS_LIST = [\n",
    "            'control', 'interior', 'power', 'energy', 'appearance', 'safety',\n",
    "            'space'\n",
    "        ]\n",
    "    return OUTPUT_CKPT_DIR, OUTPUT_PB_DIR, VOCAB_FILE, BERT_CONFIG_FILE, INIT_CHECKPOINT, SHUFFLE_TFR, TRAIN_TFR, TEST_TFR, VALIDATE_TFR, LABELS_LIST"
   ]
  },
  {
   "cell_type": "code",
   "execution_count": null,
   "metadata": {},
   "outputs": [],
   "source": [
    "def get_test_15s(language: str):\n",
    "    sentences = []\n",
    "    sentences_labels = []\n",
    "    if language == \"chinese\" or language == \"cn\" or language == \"CN\":\n",
    "        sentences = [\n",
    "            \"还没护磨合期，现在1800公里，油耗9.5L，比新车已经降了不少，，还有下降的趋势\",\n",
    "            \"现在还在磨合期，电脑标的9个多油，现在我自己也不知道百公里多少油。呵呵\",\n",
    "            \"外观远处看肌肉感不错，严重吐槽的是接缝不均匀，缝隙大，真是美国西部风格\",\n",
    "            \"第二排空间超级大，头部空间有两个拳头的距离，第三排稍微小，不过七座的车都这样吧\",\n",
    "            \"动力方面感觉足够家用，经常在城区跑，这动力还是不错的。不过没达到心理值。\",\n",
    "            \"动力，我个人感觉只能算够用，但是超过60以后的加速\", \"很好，我很满意，比我同学的悦动都省油，符合预期\",\n",
    "            \"橙色义表灯挺时尚，灰色内饰感觉档次不高，\", \"外观也比较满意，不满意也不会买啦！本人喜欢这个金色。\",\n",
    "            \"配置很不错，有很多的贴心配置，让人感到很温暖\",\n",
    "            \"有点偏高高速路段表现：高数上头的话还可以，就6.5-7.2的样子，在四驱就玩了，10-8\",\n",
    "            \"挺满意的，转向精准，操控敏捷，有两次差点跟公交车要摩擦了，一把把方向盘打过来了\",\n",
    "            \"转向准确，支撑也可以，比较适合家用，但是方向盘有点略大，在外边静的时候能听见‘莎莎’的声音\",\n",
    "            \"比较低，以魔都的堵车，8.8的油耗还是令我满意的，我花冠还要8.0，一个1.6一个2.0很满意了\",\n",
    "            \"开始觉得新手我也不是开车比较毛躁的人现在才知道提速真的慢特别是上高架的时候如果开了空调的话就更恼火。\"\n",
    "        ]\n",
    "        sentences_labels = [\n",
    "            \"能耗\", \"能耗\", \"外观\", \"空间\", \"动力\", \"动力\", \"能耗\", \"内饰\", \"外观\", \"安全辅助\", \"能耗\",\n",
    "            \"操控\", \"操控\", \"能耗\", \"动力\"\n",
    "        ]\n",
    "    if language == \"english\" or language == \"en\" or language == \"EN\":\n",
    "        sentences = [\n",
    "            \"Workmanship is not bad. only limited to the cost of plastic. but it is also law-abiding. The car imitation leather seat is soft and tough. sitting comfortably and looking at the grade.\",\n",
    "            \"The truth is really fuel-efficient. running long distances. basically 100 kilometers. around 6. I ran the best. once. 5.5 is very good.\",\n",
    "            \"Steering is precise. the chassis is solid; once I tried a 70-mile speed over a steep bend. maybe the Watt link really played a big role. and the overall feeling was particularly stable when the car was cornering.\",\n",
    "            \"The interior workmanship is also more meticulous. but the materials used are not as high-grade as the mid-level cars.\",\n",
    "            \"The direction is light and heavy. pointing to the exact gear. It’s a bit boring. The chassis is generally running fast. It feels like floating because of the high chassis.\",\n",
    "            \"Power is OK. overall. commercial. 1.5 power is completely enough.\",\n",
    "            \"Possible personal problems. It feels a bit off the mark. The steering wheel is heavy  the hydraulic pressure assistant is common . and the direction of the road is strong. It is suitable for the title of small guns. Others have no problem.\",\n",
    "            \"The space is relatively large in the compact level. which is slightly better than the Excelle horizontal space.\",\n",
    "            \"1.6T did not say. it is definitely the highest level of power. 80 points after the acceleration of the lever\",\n",
    "            \"It may be that the running-in period plus the new car is more cherished. anyway. the fuel consumption is higher than I expected.\",\n",
    "            \"There is nothing to say about the appearance. I like it. I think it is not bad.\",\n",
    "            \"The appearance is not said. I was attracted by its shape. I saw it at first sight. I believe many people are like this.\",\n",
    "            \"There is no bad smell of domestic cars. the interior work can be done. not rough.\",\n",
    "            \"The design of each function is very user-friendly and the workmanship is not bad. Basically no problem\",\n",
    "            \"There are a lot of driving AIDS that make you feel relax when you're driving\"\n",
    "        ]\n",
    "        sentences_labels = [\n",
    "            \"interior\", \"energy\", \"control\", \"interior\", \"control\", \"power\",\n",
    "            \"control\", \"space\", \"power\", \"energy\", \"appearance\", \"appearance\",\n",
    "            \"interior\", \"interior\", \"safety\"\n",
    "        ]\n",
    "    return sentences, sentences_labels"
   ]
  },
  {
   "cell_type": "code",
   "execution_count": 20,
   "metadata": {},
   "outputs": [],
   "source": [
    "%matplotlib inline"
   ]
  },
  {
   "cell_type": "code",
   "execution_count": 21,
   "metadata": {},
   "outputs": [],
   "source": [
    "import numpy as np"
   ]
  },
  {
   "cell_type": "code",
   "execution_count": 14,
   "metadata": {},
   "outputs": [],
   "source": [
    "import matplotlib.pyplot as plt"
   ]
  },
  {
   "cell_type": "code",
   "execution_count": 15,
   "metadata": {},
   "outputs": [],
   "source": [
    "from matplotlib import pyplot as plt1"
   ]
  },
  {
   "cell_type": "code",
   "execution_count": 27,
   "metadata": {},
   "outputs": [
    {
     "data": {
      "text/plain": [
       "[<matplotlib.lines.Line2D at 0x7ff3a2d421d0>]"
      ]
     },
     "execution_count": 27,
     "metadata": {},
     "output_type": "execute_result"
    },
    {
     "data": {
      "image/png": "[encoded data removed]",
      "text/plain": [
       "<Figure size 432x288 with 1 Axes>"
      ]
     },
     "metadata": {
      "needs_background": "light"
     },
     "output_type": "display_data"
    }
   ],
   "source": [
    "plt.plot(np.random.random(50).cumsum())"
   ]
  },
  {
   "cell_type": "code",
   "execution_count": 26,
   "metadata": {},
   "outputs": [
    {
     "data": {
      "text/plain": [
       "[<matplotlib.lines.Line2D at 0x7ff3a2ca29b0>]"
      ]
     },
     "execution_count": 26,
     "metadata": {},
     "output_type": "execute_result"
    },
    {
     "data": {
      "image/png": "[encoded data removed]",
      "text/plain": [
       "<Figure size 432x288 with 1 Axes>"
      ]
     },
     "metadata": {
      "needs_background": "light"
     },
     "output_type": "display_data"
    }
   ],
   "source": [
    "plt1.plot(np.random.random(50).cumsum())"
   ]
  },
  {
   "cell_type": "code",
   "execution_count": 28,
   "metadata": {},
   "outputs": [
    {
     "data": {
      "text/plain": [
       "1.5"
      ]
     },
     "execution_count": 28,
     "metadata": {},
     "output_type": "execute_result"
    }
   ],
   "source": [
    "3 / 2"
   ]
  },
  {
   "cell_type": "code",
   "execution_count": 29,
   "metadata": {},
   "outputs": [
    {
     "data": {
      "text/plain": [
       "1"
      ]
     },
     "execution_count": 29,
     "metadata": {},
     "output_type": "execute_result"
    }
   ],
   "source": [
    "3 // 2"
   ]
  },
  {
   "cell_type": "code",
   "execution_count": 30,
   "metadata": {},
   "outputs": [
    {
     "data": {
      "text/plain": [
       "3"
      ]
     },
     "execution_count": 30,
     "metadata": {},
     "output_type": "execute_result"
    }
   ],
   "source": [
    "1 | 2"
   ]
  },
  {
   "cell_type": "code",
   "execution_count": 31,
   "metadata": {},
   "outputs": [
    {
     "ename": "TypeError",
     "evalue": "unsupported operand type(s) for |: 'str' and 'str'",
     "output_type": "error",
     "traceback": [
      "\u001b[0;31m---------------------------------------------------------------------------\u001b[0m",
      "\u001b[0;31mTypeError\u001b[0m                                 Traceback (most recent call last)",
      "\u001b[0;32m<ipython-input-31-8f7042072328>\u001b[0m in \u001b[0;36m<module>\u001b[0;34m\u001b[0m\n\u001b[0;32m----> 1\u001b[0;31m \u001b[0;34m\"1\"\u001b[0m \u001b[0;34m|\u001b[0m \u001b[0;34m\"2\"\u001b[0m\u001b[0;34m\u001b[0m\u001b[0m\n\u001b[0m",
      "\u001b[0;31mTypeError\u001b[0m: unsupported operand type(s) for |: 'str' and 'str'"
     ]
    }
   ],
   "source": [
    "\"1\" | \"2\""
   ]
  },
  {
   "cell_type": "code",
   "execution_count": null,
   "metadata": {},
   "outputs": [],
   "source": []
  }
 ],
 "metadata": {
  "kernelspec": {
   "display_name": "Python 3",
   "language": "python",
   "name": "python3"
  },
  "language_info": {
   "codemirror_mode": {
    "name": "ipython",
    "version": 3
   },
   "file_extension": ".py",
   "mimetype": "text/x-python",
   "name": "python",
   "nbconvert_exporter": "python",
   "pygments_lexer": "ipython3",
   "version": "3.5.2"
  }
 },
 "nbformat": 4,
 "nbformat_minor": 2
}
