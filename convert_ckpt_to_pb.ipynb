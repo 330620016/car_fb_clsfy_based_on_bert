{
 "cells": [
  {
   "cell_type": "code",
   "execution_count": 1,
   "metadata": {
    "ExecuteTime": {
     "end_time": "2019-08-14T06:31:15.658189Z",
     "start_time": "2019-08-14T06:31:01.270594Z"
    }
   },
   "outputs": [],
   "source": [
    "import tensorflow as tf\n",
    "import os\n",
    "from tensorflow.python.tools import freeze_graph"
   ]
  },
  {
   "cell_type": "code",
   "execution_count": 3,
   "metadata": {
    "ExecuteTime": {
     "end_time": "2019-08-14T06:39:08.282367Z",
     "start_time": "2019-08-14T06:39:08.273040Z"
    }
   },
   "outputs": [],
   "source": [
    "os.environ[\"CUDA_VISIBLE_DEVICES\"] = \"1\""
   ]
  },
  {
   "cell_type": "code",
   "execution_count": 10,
   "metadata": {
    "ExecuteTime": {
     "end_time": "2019-08-14T06:41:53.124306Z",
     "start_time": "2019-08-14T06:41:53.119533Z"
    }
   },
   "outputs": [],
   "source": [
    "model_dir = \"./output/car_reviews\"\n",
    "meta_path = os.path.join(model_dir, \"model.ckpt-1394.meta\")"
   ]
  },
  {
   "cell_type": "code",
   "execution_count": 11,
   "metadata": {
    "ExecuteTime": {
     "end_time": "2019-08-14T06:42:09.531812Z",
     "start_time": "2019-08-14T06:42:09.526159Z"
    }
   },
   "outputs": [],
   "source": [
    "sess = tf.Session()"
   ]
  },
  {
   "cell_type": "code",
   "execution_count": 12,
   "metadata": {
    "ExecuteTime": {
     "end_time": "2019-08-14T06:42:06.784988Z",
     "start_time": "2019-08-14T06:41:57.912835Z"
    }
   },
   "outputs": [],
   "source": [
    "saver = tf.train.import_meta_graph(meta_path)"
   ]
  },
  {
   "cell_type": "code",
   "execution_count": 13,
   "metadata": {
    "ExecuteTime": {
     "end_time": "2019-08-14T06:42:57.775210Z",
     "start_time": "2019-08-14T06:42:41.189473Z"
    }
   },
   "outputs": [
    {
     "name": "stdout",
     "output_type": "stream",
     "text": [
      "INFO:tensorflow:Restoring parameters from ./output/car_reviews/model.ckpt-1394\n"
     ]
    }
   ],
   "source": [
    "saver.restore(sess, tf.train.latest_checkpoint(model_dir))"
   ]
  },
  {
   "cell_type": "code",
   "execution_count": 26,
   "metadata": {},
   "outputs": [],
   "source": [
    "node_names = [n.name for n in tf.get_default_graph().as_graph_def().node]"
   ]
  },
  {
   "cell_type": "code",
   "execution_count": 27,
   "metadata": {},
   "outputs": [],
   "source": [
    "for node_name in node_names:\n",
    "    if \"placeholder\" in node_name:\n",
    "        print(node_name)"
   ]
  },
  {
   "cell_type": "code",
   "execution_count": 19,
   "metadata": {
    "ExecuteTime": {
     "end_time": "2019-08-12T09:35:40.882921Z",
     "start_time": "2019-08-12T09:35:16.499122Z"
    }
   },
   "outputs": [
    {
     "name": "stdout",
     "output_type": "stream",
     "text": [
      "INFO:tensorflow:Restoring parameters from ./output/car_reviews/model.ckpt-1394\n",
      "INFO:tensorflow:Froze 201 variables.\n",
      "INFO:tensorflow:Converted 201 variables to const ops.\n"
     ]
    }
   ],
   "source": [
    "with tf.Session() as sess:\n",
    "    # restore the graph\n",
    "    saver = tf.train.import_meta_graph(meta_path)\n",
    "    # load weights\n",
    "    saver.restore(sess, tf.train.latest_checkpoint(model_dir))\n",
    "\n",
    "    output_node_names = [\"loss/Squeeze\", \"loss/Softmax\"]\n",
    "    #     Freeze the graph\n",
    "    frozen_graph_def = tf.graph_util.convert_variables_to_constants(\n",
    "        sess, sess.graph_def, output_node_names)\n",
    "    # Save the frozen graph\n",
    "    with open(os.path.join(model_dir, 'car_reviews.pb'), 'wb') as f:\n",
    "        f.write(frozen_graph_def.SerializeToString())"
   ]
  },
  {
   "cell_type": "code",
   "execution_count": null,
   "metadata": {},
   "outputs": [],
   "source": []
  }
 ],
 "metadata": {
  "kernelspec": {
   "display_name": "Python 3",
   "language": "python",
   "name": "python3"
  },
  "language_info": {
   "codemirror_mode": {
    "name": "ipython",
    "version": 3
   },
   "file_extension": ".py",
   "mimetype": "text/x-python",
   "name": "python",
   "nbconvert_exporter": "python",
   "pygments_lexer": "ipython3",
   "version": "3.5.2"
  }
 },
 "nbformat": 4,
 "nbformat_minor": 2
}
