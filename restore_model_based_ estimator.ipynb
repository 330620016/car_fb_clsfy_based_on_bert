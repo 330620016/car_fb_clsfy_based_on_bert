{
 "cells": [
  {
   "cell_type": "code",
   "execution_count": 1,
   "metadata": {},
   "outputs": [],
   "source": [
    "import tensorflow as tf\n",
    "import os\n",
    "from bert import run_classifier, modeling"
   ]
  },
  {
   "cell_type": "code",
   "execution_count": 2,
   "metadata": {},
   "outputs": [],
   "source": [
    "model_dir = \"./output\"\n",
    "bert_base_dir = \"./bert_base\"\n",
    "bert_config_file = os.path.join(bert_base_dir, \"bert_config.json\")\n",
    "init_checkpoint = os.path.join(bert_base_dir, \"bert_model.ckpt\")\n",
    "learning_rate = 2e-5\n",
    "num_train_steps = 12184\n",
    "num_warmup_steps = 1218"
   ]
  },
  {
   "cell_type": "code",
   "execution_count": 3,
   "metadata": {},
   "outputs": [],
   "source": [
    "bert_config = modeling.BertConfig.from_json_file(bert_config_file)"
   ]
  },
  {
   "cell_type": "code",
   "execution_count": 4,
   "metadata": {},
   "outputs": [],
   "source": [
    "model_fn = run_classifier.model_fn_builder(bert_config=bert_config,\n",
    "                                           num_labels=7,\n",
    "                                           init_checkpoint=init_checkpoint,\n",
    "                                           learning_rate=learning_rate,\n",
    "                                           num_train_steps=num_train_steps,\n",
    "                                           num_warmup_steps=num_warmup_steps,\n",
    "                                           use_tpu=False,\n",
    "                                           use_one_hot_embeddings=False)"
   ]
  },
  {
   "cell_type": "code",
   "execution_count": 6,
   "metadata": {},
   "outputs": [],
   "source": [
    "is_per_host = tf.contrib.tpu.InputPipelineConfig.PER_HOST_V2\n",
    "run_config = tf.contrib.tpu.RunConfig(\n",
    "    cluster=None,\n",
    "    master=None,\n",
    "    model_dir=model_dir,\n",
    "    save_checkpoints_steps=500,\n",
    "    tpu_config=tf.contrib.tpu.TPUConfig(\n",
    "        iterations_per_loop=50,\n",
    "        num_shards=8,\n",
    "        per_host_input_for_training=is_per_host))"
   ]
  },
  {
   "cell_type": "code",
   "execution_count": 7,
   "metadata": {},
   "outputs": [
    {
     "name": "stdout",
     "output_type": "stream",
     "text": [
      "WARNING:tensorflow:Estimator's model_fn (<function model_fn_builder.<locals>.model_fn at 0x7fee3324abf8>) includes params argument, but params are not passed to Estimator.\n",
      "INFO:tensorflow:Using config: {'_service': None, '_num_worker_replicas': 1, '_save_checkpoints_steps': 500, '_model_dir': './output', '_evaluation_master': '', '_save_checkpoints_secs': None, '_tf_random_seed': None, '_cluster': None, '_is_chief': True, '_num_ps_replicas': 0, '_task_type': 'worker', '_keep_checkpoint_max': 5, '_cluster_spec': <tensorflow.python.training.server_lib.ClusterSpec object at 0x7fee33253198>, '_session_config': None, '_log_step_count_steps': None, '_train_distribute': None, '_keep_checkpoint_every_n_hours': 10000, '_tpu_config': TPUConfig(iterations_per_loop=50, num_shards=8, computation_shape=None, per_host_input_for_training=3, tpu_job_name=None, initial_infeed_sleep_secs=None), '_device_fn': None, '_save_summary_steps': 100, '_master': '', '_global_id_in_cluster': 0, '_task_id': 0}\n",
      "INFO:tensorflow:_TPUContext: eval_on_tpu True\n",
      "WARNING:tensorflow:eval_on_tpu ignored because use_tpu is False.\n"
     ]
    }
   ],
   "source": [
    "estimator = tf.contrib.tpu.TPUEstimator(model_fn=model_fn,\n",
    "                                        model_dir=model_dir,\n",
    "                                        config=run_config,\n",
    "                                        use_tpu=False,\n",
    "                                        predict_batch_size=8,\n",
    "                                        warm_start_from=os.path.join(\n",
    "                                            model_dir, \"checkpoint\"))"
   ]
  },
  {
   "cell_type": "code",
   "execution_count": null,
   "metadata": {},
   "outputs": [],
   "source": []
  }
 ],
 "metadata": {
  "kernelspec": {
   "display_name": "Python 3",
   "language": "python",
   "name": "python3"
  },
  "language_info": {
   "codemirror_mode": {
    "name": "ipython",
    "version": 3
   },
   "file_extension": ".py",
   "mimetype": "text/x-python",
   "name": "python",
   "nbconvert_exporter": "python",
   "pygments_lexer": "ipython3",
   "version": "3.5.2"
  }
 },
 "nbformat": 4,
 "nbformat_minor": 2
}
