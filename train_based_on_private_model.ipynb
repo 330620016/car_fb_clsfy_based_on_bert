{
 "cells": [
  {
   "cell_type": "code",
   "execution_count": 40,
   "metadata": {},
   "outputs": [],
   "source": [
    "import tensorflow as tf\n",
    "import tensorflow_hub as hub\n",
    "from bert import tokenization, optimization, run_classifier\n",
    "import os\n",
    "import csv\n",
    "from datetime import datetime"
   ]
  },
  {
   "cell_type": "code",
   "execution_count": 44,
   "metadata": {},
   "outputs": [],
   "source": [
    "def create_model(is_training, input_ids, input_mask, segment_ids, labels,\n",
    "                 num_labels, bert_hub_module_handle):\n",
    "    \"\"\"\n",
    "    Creates a classification model\n",
    "    \"\"\"\n",
    "    tags = set()\n",
    "    if is_training:\n",
    "        tags.add(\"train\")\n",
    "    bert_module = hub.Module(bert_hub_module_handle,\n",
    "                            tags=tags,\n",
    "                            trainable=True)\n",
    "    bert_inputs = dict(input_ids=input_ids,\n",
    "                       input_mask=input_mask,\n",
    "                       segment_ids=segment_ids)\n",
    "    bert_outputs = bert_module(inputs=bert_inputs,\n",
    "                               signature=\"tokens\",\n",
    "                               as_dict=True)\n",
    "    output_layer = bert_outputs[\"pooled_output\"]\n",
    "    hidden_size = output_layer.shape[-1].value\n",
    "    output_weight = tf.get_variable(\n",
    "        \"output_weights\", [num_labels, hidden_size],\n",
    "        initializer=tf.truncated_normal_initializer(stddev=0.02))\n",
    "    output_bias = tf.get_variable(\"output_bias\", [num_labels],\n",
    "                                  initializer=tf.zeros_initializer())\n",
    "    with tf.variable_scope(\"loss\"):\n",
    "        if is_training:\n",
    "            output_layer = tf.nn.dropout(output_layer, keep_prob=0.9)\n",
    "        logits = tf.matmul(output_layer, output_weight, transpose_b=True)\n",
    "        logits = tf.nn.bias_add(logits, output_bias)\n",
    "        probabilities = tf.nn.softmax(logits, axis=-1)\n",
    "        log_probs = tf.nn.log_softmax(logits, axis=-1)\n",
    "        one_hot_labels = tf.one_hot(labels, depth=num_labels, dtype=tf.float32)\n",
    "        predicted_labels = tf.squeeze(\n",
    "            tf.argmax(log_probs, axis=-1, output_type=tf.int32))\n",
    "        per_example_loss = -tf.reduce_sum(one_hot_labels * log_probs, axis=-1)\n",
    "        loss = tf.reduce_mean(per_example_loss)\n",
    "        return (loss, per_example_loss, logits, probabilities, log_probs,\n",
    "                predicted_labels)"
   ]
  },
  {
   "cell_type": "code",
   "execution_count": 35,
   "metadata": {
    "code_folding": []
   },
   "outputs": [],
   "source": [
    "def model_fn_build(num_labels, learning_rate, num_train_steps,\n",
    "                   num_warmup_steps, bert_hub_module_handle):\n",
    "    def model_fn(features, labels, mode, params):\n",
    "        tf.logging.info(\"****** Features ******\")\n",
    "        for name in sorted(features.keys()):\n",
    "            tf.logging.info(\"name = %s, shape = %s\" %\n",
    "                            (name, features[name].shape))\n",
    "        input_ids = features[\"input_ids\"]\n",
    "        input_mask = features[\"input_mask\"]\n",
    "        segment_ids = features[\"segment_ids\"]\n",
    "        label_ids = features[\"label_ids\"]\n",
    "        is_training = (mode == tf.estimator.ModeKeys.TRAIN)\n",
    "        (total_loss, per_example_loss, logits, probabilities, log_probs,\n",
    "         predicted_labels) = create_model(is_training, input_ids, input_mask,\n",
    "                                          segment_ids, label_ids, num_labels,\n",
    "                                          bert_hub_module_handle)\n",
    "        output_spec = None\n",
    "        if mode == tf.estimator.ModeKeys.TRAIN:\n",
    "            train_op = optimization.create_optimizer(total_loss,\n",
    "                                                     learning_rate,\n",
    "                                                     num_train_steps,\n",
    "                                                     num_warmup_steps,\n",
    "                                                     use_tpu=False)\n",
    "            output_spec = tf.estimator.EstimatorSpec(mode=mode,\n",
    "                                                     loss=total_loss,\n",
    "                                                     train_op=train_op)\n",
    "        elif mode == tf.estimator.ModeKeys.EVAL:\n",
    "\n",
    "            def metric_fn(per_example_loss, label_ids, logits):\n",
    "                predictions = tf.argmax(logits, axis=-1, output_type=tf.int32)\n",
    "                accuracy = tf.metrics.accuracy(labels=label_ids,\n",
    "                                               predictions=predictions)\n",
    "                loss = tf.metrics.mean(per_example_loss)\n",
    "                return {\n",
    "                    \"eval_accuracy\": accuracy,\n",
    "                    \"eval_loss\": loss,\n",
    "                }\n",
    "\n",
    "            eval_metrics = metric_fn(per_example_loss, label_ids, logits)\n",
    "            output_spec = tf.estimator.EstimatorSpec(\n",
    "                mode=mode, loss=total_loss, eval_metric_ops=eval_metrics)\n",
    "        elif mode == tf.estimator.ModeKeys.PREDICT:\n",
    "            output_spec = tf.estimator.EstimatorSpec(mode=mode,\n",
    "                                                     predictions={\n",
    "                                                         \"probabilities\":\n",
    "                                                         probabilities,\n",
    "                                                         \"log_probs\":\n",
    "                                                         log_probs,\n",
    "                                                         \"predicted_labels\":\n",
    "                                                         predicted_labels\n",
    "                                                     })\n",
    "        else:\n",
    "            raise ValueError(\n",
    "                \"Only TRAIN, EVAL and PREDICT modes are supported: %s\" %\n",
    "                (mode))\n",
    "        return output_spec\n",
    "\n",
    "    return model_fn"
   ]
  },
  {
   "cell_type": "code",
   "execution_count": 5,
   "metadata": {
    "code_folding": []
   },
   "outputs": [],
   "source": [
    "def bbc_data_processor(data_dir, set_type, test_label):\n",
    "    file_path = os.path.join(data_dir, \"bbc_\" + set_type + \".csv\")\n",
    "    with tf.gfile.Open(file_path, \"r\") as f:\n",
    "        reader = csv.reader(f, delimiter=\",\", quotechar=None)\n",
    "        examples = []\n",
    "        labels = []\n",
    "        labels_test = []\n",
    "        for (i, line) in enumerate(reader):\n",
    "            if i == 0:\n",
    "                continue\n",
    "            guid = set_type + \"-\" + str(i)\n",
    "            text_a = tokenization.convert_to_unicode(line[1])\n",
    "            label = tokenization.convert_to_unicode(line[0])\n",
    "            labels.append(label)\n",
    "            if set_type == \"test\":\n",
    "                label = test_label\n",
    "            labels_test.append(label)\n",
    "            examples.append(\n",
    "                run_classifier.InputExample(guid=guid,\n",
    "                                            text_a=text_a,\n",
    "                                            text_b=None,\n",
    "                                            label=label))\n",
    "        return examples, labels, labels_test"
   ]
  },
  {
   "cell_type": "code",
   "execution_count": 6,
   "metadata": {},
   "outputs": [],
   "source": [
    "DATA_DIR = \"./data\""
   ]
  },
  {
   "cell_type": "code",
   "execution_count": 7,
   "metadata": {},
   "outputs": [],
   "source": [
    "train_InputExamples, train_labels, train_labels_test = bbc_data_processor(data_dir=DATA_DIR,set_type=\"train\",test_label=\"tech\")"
   ]
  },
  {
   "cell_type": "code",
   "execution_count": 8,
   "metadata": {},
   "outputs": [],
   "source": [
    "train_labels_list = list(set(train_labels))"
   ]
  },
  {
   "cell_type": "code",
   "execution_count": 10,
   "metadata": {},
   "outputs": [],
   "source": [
    "test_InputExamples,test_labels, test_labels_test = bbc_data_processor(data_dir=DATA_DIR,set_type=\"test\",test_label=\"tech\")"
   ]
  },
  {
   "cell_type": "code",
   "execution_count": 11,
   "metadata": {},
   "outputs": [],
   "source": [
    "test_labels_list = list(set(test_labels))"
   ]
  },
  {
   "cell_type": "code",
   "execution_count": 12,
   "metadata": {},
   "outputs": [],
   "source": [
    "BERT_MODEL_HUB = \"https://tfhub.dev/google/bert_uncased_L-12_H-768_A-12/1\""
   ]
  },
  {
   "cell_type": "code",
   "execution_count": 13,
   "metadata": {
    "code_folding": [
     0
    ]
   },
   "outputs": [],
   "source": [
    "def create_tokenizer_from_hub_module(bert_hub_module_handle):\n",
    "    \"\"\"Get the vocab file and casing info from the Hub module.\"\"\"\n",
    "    with tf.Graph().as_default():\n",
    "        bert_module = hub.Module(bert_hub_module_handle)\n",
    "        tokenization_info = bert_module(signature=\"tokenization_info\",\n",
    "                                        as_dict=True)\n",
    "        with tf.Session() as sess:\n",
    "            vocab_file, do_lower_case = sess.run([\n",
    "                tokenization_info[\"vocab_file\"],\n",
    "                tokenization_info[\"do_lower_case\"]\n",
    "            ])\n",
    "\n",
    "    return tokenization.FullTokenizer(vocab_file=vocab_file,\n",
    "                                           do_lower_case=do_lower_case)"
   ]
  },
  {
   "cell_type": "code",
   "execution_count": 14,
   "metadata": {},
   "outputs": [
    {
     "name": "stdout",
     "output_type": "stream",
     "text": [
      "INFO:tensorflow:Saver not created because there are no variables in the graph to restore\n"
     ]
    },
    {
     "name": "stderr",
     "output_type": "stream",
     "text": [
      "INFO:tensorflow:Saver not created because there are no variables in the graph to restore\n"
     ]
    },
    {
     "name": "stdout",
     "output_type": "stream",
     "text": [
      "WARNING:tensorflow:From /home/I342202/virtualenv_py3/lib/python3.5/site-packages/bert/tokenization.py:125: The name tf.gfile.GFile is deprecated. Please use tf.io.gfile.GFile instead.\n",
      "\n"
     ]
    },
    {
     "name": "stderr",
     "output_type": "stream",
     "text": [
      "WARNING:tensorflow:From /home/I342202/virtualenv_py3/lib/python3.5/site-packages/bert/tokenization.py:125: The name tf.gfile.GFile is deprecated. Please use tf.io.gfile.GFile instead.\n",
      "\n"
     ]
    }
   ],
   "source": [
    "tokenizer = create_tokenizer_from_hub_module(BERT_MODEL_HUB)"
   ]
  },
  {
   "cell_type": "code",
   "execution_count": 15,
   "metadata": {},
   "outputs": [
    {
     "data": {
      "text/plain": [
       "['this',\n",
       " 'here',\n",
       " \"'\",\n",
       " 's',\n",
       " 'an',\n",
       " 'example',\n",
       " 'of',\n",
       " 'using',\n",
       " 'the',\n",
       " 'bert',\n",
       " 'token',\n",
       " '##izer']"
      ]
     },
     "execution_count": 15,
     "metadata": {},
     "output_type": "execute_result"
    }
   ],
   "source": [
    "tokenizer.tokenize(\"This here's an example of using the BERT tokenizer\")"
   ]
  },
  {
   "cell_type": "code",
   "execution_count": 17,
   "metadata": {},
   "outputs": [],
   "source": [
    "MAX_SEQ_LENGTH = 128"
   ]
  },
  {
   "cell_type": "code",
   "execution_count": 18,
   "metadata": {},
   "outputs": [
    {
     "name": "stdout",
     "output_type": "stream",
     "text": [
      "WARNING:tensorflow:From /home/I342202/virtualenv_py3/lib/python3.5/site-packages/bert/run_classifier.py:774: The name tf.logging.info is deprecated. Please use tf.compat.v1.logging.info instead.\n",
      "\n"
     ]
    },
    {
     "name": "stderr",
     "output_type": "stream",
     "text": [
      "WARNING:tensorflow:From /home/I342202/virtualenv_py3/lib/python3.5/site-packages/bert/run_classifier.py:774: The name tf.logging.info is deprecated. Please use tf.compat.v1.logging.info instead.\n",
      "\n"
     ]
    },
    {
     "name": "stdout",
     "output_type": "stream",
     "text": [
      "INFO:tensorflow:Writing example 0 of 1780\n"
     ]
    },
    {
     "name": "stderr",
     "output_type": "stream",
     "text": [
      "INFO:tensorflow:Writing example 0 of 1780\n"
     ]
    },
    {
     "name": "stdout",
     "output_type": "stream",
     "text": [
      "INFO:tensorflow:*** Example ***\n"
     ]
    },
    {
     "name": "stderr",
     "output_type": "stream",
     "text": [
      "INFO:tensorflow:*** Example ***\n"
     ]
    },
    {
     "name": "stdout",
     "output_type": "stream",
     "text": [
      "INFO:tensorflow:guid: train-1\n"
     ]
    },
    {
     "name": "stderr",
     "output_type": "stream",
     "text": [
      "INFO:tensorflow:guid: train-1\n"
     ]
    },
    {
     "name": "stdout",
     "output_type": "stream",
     "text": [
      "INFO:tensorflow:tokens: [CLS] tv future in the hands of viewers with home theatre systems plasma high - definition tv ##s and digital video recorder ##s moving into the living room the way people watch tv will be radically different in five years time . that is according to an expert panel which gathered at the annual consumer electronics show in las vegas to discuss how these new technologies will impact one of our favourite past ##ime ##s . with the us leading the trend programmes and other content will be delivered to viewers via home networks through cable satellite telecom ##s companies and broadband service providers to front rooms and portable devices . one of the most talked - about technologies of ce ##s has been digital and personal [SEP]\n"
     ]
    },
    {
     "name": "stderr",
     "output_type": "stream",
     "text": [
      "INFO:tensorflow:tokens: [CLS] tv future in the hands of viewers with home theatre systems plasma high - definition tv ##s and digital video recorder ##s moving into the living room the way people watch tv will be radically different in five years time . that is according to an expert panel which gathered at the annual consumer electronics show in las vegas to discuss how these new technologies will impact one of our favourite past ##ime ##s . with the us leading the trend programmes and other content will be delivered to viewers via home networks through cable satellite telecom ##s companies and broadband service providers to front rooms and portable devices . one of the most talked - about technologies of ce ##s has been digital and personal [SEP]\n"
     ]
    },
    {
     "name": "stdout",
     "output_type": "stream",
     "text": [
      "INFO:tensorflow:input_ids: 101 2694 2925 1999 1996 2398 1997 7193 2007 2188 3004 3001 12123 2152 1011 6210 2694 2015 1998 3617 2678 14520 2015 3048 2046 1996 2542 2282 1996 2126 2111 3422 2694 2097 2022 25796 2367 1999 2274 2086 2051 1012 2008 2003 2429 2000 2019 6739 5997 2029 5935 2012 1996 3296 7325 8139 2265 1999 5869 7136 2000 6848 2129 2122 2047 6786 2097 4254 2028 1997 2256 8837 2627 14428 2015 1012 2007 1996 2149 2877 1996 9874 8497 1998 2060 4180 2097 2022 5359 2000 7193 3081 2188 6125 2083 5830 5871 18126 2015 3316 1998 19595 2326 11670 2000 2392 4734 1998 12109 5733 1012 2028 1997 1996 2087 5720 1011 2055 6786 1997 8292 2015 2038 2042 3617 1998 3167 102\n"
     ]
    },
    {
     "name": "stderr",
     "output_type": "stream",
     "text": [
      "INFO:tensorflow:input_ids: 101 2694 2925 1999 1996 2398 1997 7193 2007 2188 3004 3001 12123 2152 1011 6210 2694 2015 1998 3617 2678 14520 2015 3048 2046 1996 2542 2282 1996 2126 2111 3422 2694 2097 2022 25796 2367 1999 2274 2086 2051 1012 2008 2003 2429 2000 2019 6739 5997 2029 5935 2012 1996 3296 7325 8139 2265 1999 5869 7136 2000 6848 2129 2122 2047 6786 2097 4254 2028 1997 2256 8837 2627 14428 2015 1012 2007 1996 2149 2877 1996 9874 8497 1998 2060 4180 2097 2022 5359 2000 7193 3081 2188 6125 2083 5830 5871 18126 2015 3316 1998 19595 2326 11670 2000 2392 4734 1998 12109 5733 1012 2028 1997 1996 2087 5720 1011 2055 6786 1997 8292 2015 2038 2042 3617 1998 3167 102\n"
     ]
    },
    {
     "name": "stdout",
     "output_type": "stream",
     "text": [
      "INFO:tensorflow:input_mask: 1 1 1 1 1 1 1 1 1 1 1 1 1 1 1 1 1 1 1 1 1 1 1 1 1 1 1 1 1 1 1 1 1 1 1 1 1 1 1 1 1 1 1 1 1 1 1 1 1 1 1 1 1 1 1 1 1 1 1 1 1 1 1 1 1 1 1 1 1 1 1 1 1 1 1 1 1 1 1 1 1 1 1 1 1 1 1 1 1 1 1 1 1 1 1 1 1 1 1 1 1 1 1 1 1 1 1 1 1 1 1 1 1 1 1 1 1 1 1 1 1 1 1 1 1 1 1 1\n"
     ]
    },
    {
     "name": "stderr",
     "output_type": "stream",
     "text": [
      "INFO:tensorflow:input_mask: 1 1 1 1 1 1 1 1 1 1 1 1 1 1 1 1 1 1 1 1 1 1 1 1 1 1 1 1 1 1 1 1 1 1 1 1 1 1 1 1 1 1 1 1 1 1 1 1 1 1 1 1 1 1 1 1 1 1 1 1 1 1 1 1 1 1 1 1 1 1 1 1 1 1 1 1 1 1 1 1 1 1 1 1 1 1 1 1 1 1 1 1 1 1 1 1 1 1 1 1 1 1 1 1 1 1 1 1 1 1 1 1 1 1 1 1 1 1 1 1 1 1 1 1 1 1 1 1\n"
     ]
    },
    {
     "name": "stdout",
     "output_type": "stream",
     "text": [
      "INFO:tensorflow:segment_ids: 0 0 0 0 0 0 0 0 0 0 0 0 0 0 0 0 0 0 0 0 0 0 0 0 0 0 0 0 0 0 0 0 0 0 0 0 0 0 0 0 0 0 0 0 0 0 0 0 0 0 0 0 0 0 0 0 0 0 0 0 0 0 0 0 0 0 0 0 0 0 0 0 0 0 0 0 0 0 0 0 0 0 0 0 0 0 0 0 0 0 0 0 0 0 0 0 0 0 0 0 0 0 0 0 0 0 0 0 0 0 0 0 0 0 0 0 0 0 0 0 0 0 0 0 0 0 0 0\n"
     ]
    },
    {
     "name": "stderr",
     "output_type": "stream",
     "text": [
      "INFO:tensorflow:segment_ids: 0 0 0 0 0 0 0 0 0 0 0 0 0 0 0 0 0 0 0 0 0 0 0 0 0 0 0 0 0 0 0 0 0 0 0 0 0 0 0 0 0 0 0 0 0 0 0 0 0 0 0 0 0 0 0 0 0 0 0 0 0 0 0 0 0 0 0 0 0 0 0 0 0 0 0 0 0 0 0 0 0 0 0 0 0 0 0 0 0 0 0 0 0 0 0 0 0 0 0 0 0 0 0 0 0 0 0 0 0 0 0 0 0 0 0 0 0 0 0 0 0 0 0 0 0 0 0 0\n"
     ]
    },
    {
     "name": "stdout",
     "output_type": "stream",
     "text": [
      "INFO:tensorflow:label: tech (id = 0)\n"
     ]
    },
    {
     "name": "stderr",
     "output_type": "stream",
     "text": [
      "INFO:tensorflow:label: tech (id = 0)\n"
     ]
    },
    {
     "name": "stdout",
     "output_type": "stream",
     "text": [
      "INFO:tensorflow:*** Example ***\n"
     ]
    },
    {
     "name": "stderr",
     "output_type": "stream",
     "text": [
      "INFO:tensorflow:*** Example ***\n"
     ]
    },
    {
     "name": "stdout",
     "output_type": "stream",
     "text": [
      "INFO:tensorflow:guid: train-2\n"
     ]
    },
    {
     "name": "stderr",
     "output_type": "stream",
     "text": [
      "INFO:tensorflow:guid: train-2\n"
     ]
    },
    {
     "name": "stdout",
     "output_type": "stream",
     "text": [
      "INFO:tensorflow:tokens: [CLS] world ##com boss left books alone former world ##com boss bernie e ##bber ##s who is accused of overseeing an $ 11 ##bn ( £5 . 8 ##bn ) fraud never made accounting decisions a witness has told ju ##ror ##s . david myers made the comments under questioning by defence lawyers who have been arguing that mr e ##bber ##s was not responsible for world ##com s problems . the phone company collapsed in 2002 and prosecutors claim that losses were hidden to protect the firm s shares . mr myers has already pleaded guilty to fraud and is assisting prosecutors . on monday defence lawyer reid wei ##nga ##rte ##n tried to distance his client from the allegations . during cross examination he asked [SEP]\n"
     ]
    },
    {
     "name": "stderr",
     "output_type": "stream",
     "text": [
      "INFO:tensorflow:tokens: [CLS] world ##com boss left books alone former world ##com boss bernie e ##bber ##s who is accused of overseeing an $ 11 ##bn ( £5 . 8 ##bn ) fraud never made accounting decisions a witness has told ju ##ror ##s . david myers made the comments under questioning by defence lawyers who have been arguing that mr e ##bber ##s was not responsible for world ##com s problems . the phone company collapsed in 2002 and prosecutors claim that losses were hidden to protect the firm s shares . mr myers has already pleaded guilty to fraud and is assisting prosecutors . on monday defence lawyer reid wei ##nga ##rte ##n tried to distance his client from the allegations . during cross examination he asked [SEP]\n"
     ]
    },
    {
     "name": "stdout",
     "output_type": "stream",
     "text": [
      "INFO:tensorflow:input_ids: 101 2088 9006 5795 2187 2808 2894 2280 2088 9006 5795 15941 1041 29325 2015 2040 2003 5496 1997 19642 2019 1002 2340 24700 1006 27813 1012 1022 24700 1007 9861 2196 2081 9529 6567 1037 7409 2038 2409 18414 29165 2015 1012 2585 13854 2081 1996 7928 2104 11242 2011 4721 9559 2040 2031 2042 9177 2008 2720 1041 29325 2015 2001 2025 3625 2005 2088 9006 1055 3471 1012 1996 3042 2194 7798 1999 2526 1998 19608 4366 2008 6409 2020 5023 2000 4047 1996 3813 1055 6661 1012 2720 13854 2038 2525 12254 5905 2000 9861 1998 2003 13951 19608 1012 2006 6928 4721 5160 9027 11417 13807 19731 2078 2699 2000 3292 2010 7396 2013 1996 9989 1012 2076 2892 7749 2002 2356 102\n"
     ]
    },
    {
     "name": "stderr",
     "output_type": "stream",
     "text": [
      "INFO:tensorflow:input_ids: 101 2088 9006 5795 2187 2808 2894 2280 2088 9006 5795 15941 1041 29325 2015 2040 2003 5496 1997 19642 2019 1002 2340 24700 1006 27813 1012 1022 24700 1007 9861 2196 2081 9529 6567 1037 7409 2038 2409 18414 29165 2015 1012 2585 13854 2081 1996 7928 2104 11242 2011 4721 9559 2040 2031 2042 9177 2008 2720 1041 29325 2015 2001 2025 3625 2005 2088 9006 1055 3471 1012 1996 3042 2194 7798 1999 2526 1998 19608 4366 2008 6409 2020 5023 2000 4047 1996 3813 1055 6661 1012 2720 13854 2038 2525 12254 5905 2000 9861 1998 2003 13951 19608 1012 2006 6928 4721 5160 9027 11417 13807 19731 2078 2699 2000 3292 2010 7396 2013 1996 9989 1012 2076 2892 7749 2002 2356 102\n"
     ]
    },
    {
     "name": "stdout",
     "output_type": "stream",
     "text": [
      "INFO:tensorflow:input_mask: 1 1 1 1 1 1 1 1 1 1 1 1 1 1 1 1 1 1 1 1 1 1 1 1 1 1 1 1 1 1 1 1 1 1 1 1 1 1 1 1 1 1 1 1 1 1 1 1 1 1 1 1 1 1 1 1 1 1 1 1 1 1 1 1 1 1 1 1 1 1 1 1 1 1 1 1 1 1 1 1 1 1 1 1 1 1 1 1 1 1 1 1 1 1 1 1 1 1 1 1 1 1 1 1 1 1 1 1 1 1 1 1 1 1 1 1 1 1 1 1 1 1 1 1 1 1 1 1\n"
     ]
    },
    {
     "name": "stderr",
     "output_type": "stream",
     "text": [
      "INFO:tensorflow:input_mask: 1 1 1 1 1 1 1 1 1 1 1 1 1 1 1 1 1 1 1 1 1 1 1 1 1 1 1 1 1 1 1 1 1 1 1 1 1 1 1 1 1 1 1 1 1 1 1 1 1 1 1 1 1 1 1 1 1 1 1 1 1 1 1 1 1 1 1 1 1 1 1 1 1 1 1 1 1 1 1 1 1 1 1 1 1 1 1 1 1 1 1 1 1 1 1 1 1 1 1 1 1 1 1 1 1 1 1 1 1 1 1 1 1 1 1 1 1 1 1 1 1 1 1 1 1 1 1 1\n"
     ]
    },
    {
     "name": "stdout",
     "output_type": "stream",
     "text": [
      "INFO:tensorflow:segment_ids: 0 0 0 0 0 0 0 0 0 0 0 0 0 0 0 0 0 0 0 0 0 0 0 0 0 0 0 0 0 0 0 0 0 0 0 0 0 0 0 0 0 0 0 0 0 0 0 0 0 0 0 0 0 0 0 0 0 0 0 0 0 0 0 0 0 0 0 0 0 0 0 0 0 0 0 0 0 0 0 0 0 0 0 0 0 0 0 0 0 0 0 0 0 0 0 0 0 0 0 0 0 0 0 0 0 0 0 0 0 0 0 0 0 0 0 0 0 0 0 0 0 0 0 0 0 0 0 0\n"
     ]
    },
    {
     "name": "stderr",
     "output_type": "stream",
     "text": [
      "INFO:tensorflow:segment_ids: 0 0 0 0 0 0 0 0 0 0 0 0 0 0 0 0 0 0 0 0 0 0 0 0 0 0 0 0 0 0 0 0 0 0 0 0 0 0 0 0 0 0 0 0 0 0 0 0 0 0 0 0 0 0 0 0 0 0 0 0 0 0 0 0 0 0 0 0 0 0 0 0 0 0 0 0 0 0 0 0 0 0 0 0 0 0 0 0 0 0 0 0 0 0 0 0 0 0 0 0 0 0 0 0 0 0 0 0 0 0 0 0 0 0 0 0 0 0 0 0 0 0 0 0 0 0 0 0\n"
     ]
    },
    {
     "name": "stdout",
     "output_type": "stream",
     "text": [
      "INFO:tensorflow:label: business (id = 3)\n"
     ]
    },
    {
     "name": "stderr",
     "output_type": "stream",
     "text": [
      "INFO:tensorflow:label: business (id = 3)\n"
     ]
    },
    {
     "name": "stdout",
     "output_type": "stream",
     "text": [
      "INFO:tensorflow:*** Example ***\n"
     ]
    },
    {
     "name": "stderr",
     "output_type": "stream",
     "text": [
      "INFO:tensorflow:*** Example ***\n"
     ]
    },
    {
     "name": "stdout",
     "output_type": "stream",
     "text": [
      "INFO:tensorflow:guid: train-3\n"
     ]
    },
    {
     "name": "stderr",
     "output_type": "stream",
     "text": [
      "INFO:tensorflow:guid: train-3\n"
     ]
    },
    {
     "name": "stdout",
     "output_type": "stream",
     "text": [
      "INFO:tensorflow:tokens: [CLS] tigers wary of farrell gamble leicester say they will not be rushed into making a bid for andy farrell should the great britain rugby league captain decide to switch codes . we and anybody else involved in the process are still some way away from going to the next stage tigers boss john wells told bbc radio leicester . at the moment there are still a lot of unknown ##s about andy farrell not least his medical situation . whoever does take him on is going to take a big big gamble . farrell who has had persistent knee problems had an operation on his knee five weeks ago and is expected to be out for another three months . leicester and sara ##cens are believed [SEP]\n"
     ]
    },
    {
     "name": "stderr",
     "output_type": "stream",
     "text": [
      "INFO:tensorflow:tokens: [CLS] tigers wary of farrell gamble leicester say they will not be rushed into making a bid for andy farrell should the great britain rugby league captain decide to switch codes . we and anybody else involved in the process are still some way away from going to the next stage tigers boss john wells told bbc radio leicester . at the moment there are still a lot of unknown ##s about andy farrell not least his medical situation . whoever does take him on is going to take a big big gamble . farrell who has had persistent knee problems had an operation on his knee five weeks ago and is expected to be out for another three months . leicester and sara ##cens are believed [SEP]\n"
     ]
    },
    {
     "name": "stdout",
     "output_type": "stream",
     "text": [
      "INFO:tensorflow:input_ids: 101 7600 15705 1997 16248 18503 11258 2360 2027 2097 2025 2022 6760 2046 2437 1037 7226 2005 5557 16248 2323 1996 2307 3725 4043 2223 2952 5630 2000 6942 9537 1012 2057 1998 10334 2842 2920 1999 1996 2832 2024 2145 2070 2126 2185 2013 2183 2000 1996 2279 2754 7600 5795 2198 7051 2409 4035 2557 11258 1012 2012 1996 2617 2045 2024 2145 1037 2843 1997 4242 2015 2055 5557 16248 2025 2560 2010 2966 3663 1012 9444 2515 2202 2032 2006 2003 2183 2000 2202 1037 2502 2502 18503 1012 16248 2040 2038 2018 14516 6181 3471 2018 2019 3169 2006 2010 6181 2274 3134 3283 1998 2003 3517 2000 2022 2041 2005 2178 2093 2706 1012 11258 1998 7354 19023 2024 3373 102\n"
     ]
    },
    {
     "name": "stderr",
     "output_type": "stream",
     "text": [
      "INFO:tensorflow:input_ids: 101 7600 15705 1997 16248 18503 11258 2360 2027 2097 2025 2022 6760 2046 2437 1037 7226 2005 5557 16248 2323 1996 2307 3725 4043 2223 2952 5630 2000 6942 9537 1012 2057 1998 10334 2842 2920 1999 1996 2832 2024 2145 2070 2126 2185 2013 2183 2000 1996 2279 2754 7600 5795 2198 7051 2409 4035 2557 11258 1012 2012 1996 2617 2045 2024 2145 1037 2843 1997 4242 2015 2055 5557 16248 2025 2560 2010 2966 3663 1012 9444 2515 2202 2032 2006 2003 2183 2000 2202 1037 2502 2502 18503 1012 16248 2040 2038 2018 14516 6181 3471 2018 2019 3169 2006 2010 6181 2274 3134 3283 1998 2003 3517 2000 2022 2041 2005 2178 2093 2706 1012 11258 1998 7354 19023 2024 3373 102\n"
     ]
    },
    {
     "name": "stdout",
     "output_type": "stream",
     "text": [
      "INFO:tensorflow:input_mask: 1 1 1 1 1 1 1 1 1 1 1 1 1 1 1 1 1 1 1 1 1 1 1 1 1 1 1 1 1 1 1 1 1 1 1 1 1 1 1 1 1 1 1 1 1 1 1 1 1 1 1 1 1 1 1 1 1 1 1 1 1 1 1 1 1 1 1 1 1 1 1 1 1 1 1 1 1 1 1 1 1 1 1 1 1 1 1 1 1 1 1 1 1 1 1 1 1 1 1 1 1 1 1 1 1 1 1 1 1 1 1 1 1 1 1 1 1 1 1 1 1 1 1 1 1 1 1 1\n"
     ]
    },
    {
     "name": "stderr",
     "output_type": "stream",
     "text": [
      "INFO:tensorflow:input_mask: 1 1 1 1 1 1 1 1 1 1 1 1 1 1 1 1 1 1 1 1 1 1 1 1 1 1 1 1 1 1 1 1 1 1 1 1 1 1 1 1 1 1 1 1 1 1 1 1 1 1 1 1 1 1 1 1 1 1 1 1 1 1 1 1 1 1 1 1 1 1 1 1 1 1 1 1 1 1 1 1 1 1 1 1 1 1 1 1 1 1 1 1 1 1 1 1 1 1 1 1 1 1 1 1 1 1 1 1 1 1 1 1 1 1 1 1 1 1 1 1 1 1 1 1 1 1 1 1\n"
     ]
    },
    {
     "name": "stdout",
     "output_type": "stream",
     "text": [
      "INFO:tensorflow:segment_ids: 0 0 0 0 0 0 0 0 0 0 0 0 0 0 0 0 0 0 0 0 0 0 0 0 0 0 0 0 0 0 0 0 0 0 0 0 0 0 0 0 0 0 0 0 0 0 0 0 0 0 0 0 0 0 0 0 0 0 0 0 0 0 0 0 0 0 0 0 0 0 0 0 0 0 0 0 0 0 0 0 0 0 0 0 0 0 0 0 0 0 0 0 0 0 0 0 0 0 0 0 0 0 0 0 0 0 0 0 0 0 0 0 0 0 0 0 0 0 0 0 0 0 0 0 0 0 0 0\n"
     ]
    },
    {
     "name": "stderr",
     "output_type": "stream",
     "text": [
      "INFO:tensorflow:segment_ids: 0 0 0 0 0 0 0 0 0 0 0 0 0 0 0 0 0 0 0 0 0 0 0 0 0 0 0 0 0 0 0 0 0 0 0 0 0 0 0 0 0 0 0 0 0 0 0 0 0 0 0 0 0 0 0 0 0 0 0 0 0 0 0 0 0 0 0 0 0 0 0 0 0 0 0 0 0 0 0 0 0 0 0 0 0 0 0 0 0 0 0 0 0 0 0 0 0 0 0 0 0 0 0 0 0 0 0 0 0 0 0 0 0 0 0 0 0 0 0 0 0 0 0 0 0 0 0 0\n"
     ]
    },
    {
     "name": "stdout",
     "output_type": "stream",
     "text": [
      "INFO:tensorflow:label: sport (id = 2)\n"
     ]
    },
    {
     "name": "stderr",
     "output_type": "stream",
     "text": [
      "INFO:tensorflow:label: sport (id = 2)\n"
     ]
    },
    {
     "name": "stdout",
     "output_type": "stream",
     "text": [
      "INFO:tensorflow:*** Example ***\n"
     ]
    },
    {
     "name": "stderr",
     "output_type": "stream",
     "text": [
      "INFO:tensorflow:*** Example ***\n"
     ]
    },
    {
     "name": "stdout",
     "output_type": "stream",
     "text": [
      "INFO:tensorflow:guid: train-4\n"
     ]
    },
    {
     "name": "stderr",
     "output_type": "stream",
     "text": [
      "INFO:tensorflow:guid: train-4\n"
     ]
    },
    {
     "name": "stdout",
     "output_type": "stream",
     "text": [
      "INFO:tensorflow:tokens: [CLS] ye ##ading face newcastle in fa cup premiership side newcastle united face a trip to ry ##man premier league leaders ye ##ading in the fa cup third round . the game - arguably the highlight of the draw - is a potential money - spin ##ner for non - league ye ##ading who beat sl ##ough in the second round . conference side exeter city who knocked out doncaster on saturday will travel to old trafford to meet holders manchester united in january . arsenal were drawn at home to stoke and chelsea will play host to sc ##unt ##horpe . the only other non - league side in the draw are hi ##nc ##kley united who held brentford to a goal ##less draw on sunday [SEP]\n"
     ]
    },
    {
     "name": "stderr",
     "output_type": "stream",
     "text": [
      "INFO:tensorflow:tokens: [CLS] ye ##ading face newcastle in fa cup premiership side newcastle united face a trip to ry ##man premier league leaders ye ##ading in the fa cup third round . the game - arguably the highlight of the draw - is a potential money - spin ##ner for non - league ye ##ading who beat sl ##ough in the second round . conference side exeter city who knocked out doncaster on saturday will travel to old trafford to meet holders manchester united in january . arsenal were drawn at home to stoke and chelsea will play host to sc ##unt ##horpe . the only other non - league side in the draw are hi ##nc ##kley united who held brentford to a goal ##less draw on sunday [SEP]\n"
     ]
    },
    {
     "name": "stdout",
     "output_type": "stream",
     "text": [
      "INFO:tensorflow:input_ids: 101 6300 23782 2227 8142 1999 6904 2452 11264 2217 8142 2142 2227 1037 4440 2000 29431 2386 4239 2223 4177 6300 23782 1999 1996 6904 2452 2353 2461 1012 1996 2208 1011 15835 1996 12944 1997 1996 4009 1011 2003 1037 4022 2769 1011 6714 3678 2005 2512 1011 2223 6300 23782 2040 3786 22889 10593 1999 1996 2117 2461 1012 3034 2217 12869 2103 2040 6573 2041 18895 2006 5095 2097 3604 2000 2214 26894 2000 3113 13304 5087 2142 1999 2254 1012 9433 2020 4567 2012 2188 2000 13299 1998 9295 2097 2377 3677 2000 8040 16671 22044 1012 1996 2069 2060 2512 1011 2223 2217 1999 1996 4009 2024 7632 12273 22315 2142 2040 2218 26550 2000 1037 3125 3238 4009 2006 4465 102\n"
     ]
    },
    {
     "name": "stderr",
     "output_type": "stream",
     "text": [
      "INFO:tensorflow:input_ids: 101 6300 23782 2227 8142 1999 6904 2452 11264 2217 8142 2142 2227 1037 4440 2000 29431 2386 4239 2223 4177 6300 23782 1999 1996 6904 2452 2353 2461 1012 1996 2208 1011 15835 1996 12944 1997 1996 4009 1011 2003 1037 4022 2769 1011 6714 3678 2005 2512 1011 2223 6300 23782 2040 3786 22889 10593 1999 1996 2117 2461 1012 3034 2217 12869 2103 2040 6573 2041 18895 2006 5095 2097 3604 2000 2214 26894 2000 3113 13304 5087 2142 1999 2254 1012 9433 2020 4567 2012 2188 2000 13299 1998 9295 2097 2377 3677 2000 8040 16671 22044 1012 1996 2069 2060 2512 1011 2223 2217 1999 1996 4009 2024 7632 12273 22315 2142 2040 2218 26550 2000 1037 3125 3238 4009 2006 4465 102\n"
     ]
    },
    {
     "name": "stdout",
     "output_type": "stream",
     "text": [
      "INFO:tensorflow:input_mask: 1 1 1 1 1 1 1 1 1 1 1 1 1 1 1 1 1 1 1 1 1 1 1 1 1 1 1 1 1 1 1 1 1 1 1 1 1 1 1 1 1 1 1 1 1 1 1 1 1 1 1 1 1 1 1 1 1 1 1 1 1 1 1 1 1 1 1 1 1 1 1 1 1 1 1 1 1 1 1 1 1 1 1 1 1 1 1 1 1 1 1 1 1 1 1 1 1 1 1 1 1 1 1 1 1 1 1 1 1 1 1 1 1 1 1 1 1 1 1 1 1 1 1 1 1 1 1 1\n"
     ]
    },
    {
     "name": "stderr",
     "output_type": "stream",
     "text": [
      "INFO:tensorflow:input_mask: 1 1 1 1 1 1 1 1 1 1 1 1 1 1 1 1 1 1 1 1 1 1 1 1 1 1 1 1 1 1 1 1 1 1 1 1 1 1 1 1 1 1 1 1 1 1 1 1 1 1 1 1 1 1 1 1 1 1 1 1 1 1 1 1 1 1 1 1 1 1 1 1 1 1 1 1 1 1 1 1 1 1 1 1 1 1 1 1 1 1 1 1 1 1 1 1 1 1 1 1 1 1 1 1 1 1 1 1 1 1 1 1 1 1 1 1 1 1 1 1 1 1 1 1 1 1 1 1\n"
     ]
    },
    {
     "name": "stdout",
     "output_type": "stream",
     "text": [
      "INFO:tensorflow:segment_ids: 0 0 0 0 0 0 0 0 0 0 0 0 0 0 0 0 0 0 0 0 0 0 0 0 0 0 0 0 0 0 0 0 0 0 0 0 0 0 0 0 0 0 0 0 0 0 0 0 0 0 0 0 0 0 0 0 0 0 0 0 0 0 0 0 0 0 0 0 0 0 0 0 0 0 0 0 0 0 0 0 0 0 0 0 0 0 0 0 0 0 0 0 0 0 0 0 0 0 0 0 0 0 0 0 0 0 0 0 0 0 0 0 0 0 0 0 0 0 0 0 0 0 0 0 0 0 0 0\n"
     ]
    },
    {
     "name": "stderr",
     "output_type": "stream",
     "text": [
      "INFO:tensorflow:segment_ids: 0 0 0 0 0 0 0 0 0 0 0 0 0 0 0 0 0 0 0 0 0 0 0 0 0 0 0 0 0 0 0 0 0 0 0 0 0 0 0 0 0 0 0 0 0 0 0 0 0 0 0 0 0 0 0 0 0 0 0 0 0 0 0 0 0 0 0 0 0 0 0 0 0 0 0 0 0 0 0 0 0 0 0 0 0 0 0 0 0 0 0 0 0 0 0 0 0 0 0 0 0 0 0 0 0 0 0 0 0 0 0 0 0 0 0 0 0 0 0 0 0 0 0 0 0 0 0 0\n"
     ]
    },
    {
     "name": "stdout",
     "output_type": "stream",
     "text": [
      "INFO:tensorflow:label: sport (id = 2)\n"
     ]
    },
    {
     "name": "stderr",
     "output_type": "stream",
     "text": [
      "INFO:tensorflow:label: sport (id = 2)\n"
     ]
    },
    {
     "name": "stdout",
     "output_type": "stream",
     "text": [
      "INFO:tensorflow:*** Example ***\n"
     ]
    },
    {
     "name": "stderr",
     "output_type": "stream",
     "text": [
      "INFO:tensorflow:*** Example ***\n"
     ]
    },
    {
     "name": "stdout",
     "output_type": "stream",
     "text": [
      "INFO:tensorflow:guid: train-5\n"
     ]
    },
    {
     "name": "stderr",
     "output_type": "stream",
     "text": [
      "INFO:tensorflow:guid: train-5\n"
     ]
    },
    {
     "name": "stdout",
     "output_type": "stream",
     "text": [
      "INFO:tensorflow:tokens: [CLS] ocean s twelve raids box office ocean s twelve the crime cape ##r sequel starring george cl ##oon ##ey brad pitt and julia roberts has gone straight to number one in the us box office chart . it took $ 40 . 8 ##m ( £2 ##1 ##m ) in weekend ticket sales according to studio estimates . the sequel follows the master criminals as they try to pull off three major he ##ists across europe . it knocked last week s number one national treasure into third place . wesley s ##ni ##pes blade : trinity was in second taking $ 16 . 1 ##m ( £ ##8 . 4 ##m ) . rounding out the top five was animated fable the polar express starring [SEP]\n"
     ]
    },
    {
     "name": "stderr",
     "output_type": "stream",
     "text": [
      "INFO:tensorflow:tokens: [CLS] ocean s twelve raids box office ocean s twelve the crime cape ##r sequel starring george cl ##oon ##ey brad pitt and julia roberts has gone straight to number one in the us box office chart . it took $ 40 . 8 ##m ( £2 ##1 ##m ) in weekend ticket sales according to studio estimates . the sequel follows the master criminals as they try to pull off three major he ##ists across europe . it knocked last week s number one national treasure into third place . wesley s ##ni ##pes blade : trinity was in second taking $ 16 . 1 ##m ( £ ##8 . 4 ##m ) . rounding out the top five was animated fable the polar express starring [SEP]\n"
     ]
    },
    {
     "name": "stdout",
     "output_type": "stream",
     "text": [
      "INFO:tensorflow:input_ids: 101 4153 1055 4376 11217 3482 2436 4153 1055 4376 1996 4126 4880 2099 8297 4626 2577 18856 7828 3240 8226 15091 1998 6423 7031 2038 2908 3442 2000 2193 2028 1999 1996 2149 3482 2436 3673 1012 2009 2165 1002 2871 1012 1022 2213 1006 21853 2487 2213 1007 1999 5353 7281 4341 2429 2000 2996 10035 1012 1996 8297 4076 1996 3040 12290 2004 2027 3046 2000 4139 2125 2093 2350 2002 5130 2408 2885 1012 2009 6573 2197 2733 1055 2193 2028 2120 8813 2046 2353 2173 1012 11482 1055 3490 10374 6085 1024 7124 2001 1999 2117 2635 1002 2385 1012 1015 2213 1006 1069 2620 1012 1018 2213 1007 1012 26939 2041 1996 2327 2274 2001 6579 28458 1996 11508 4671 4626 102\n"
     ]
    },
    {
     "name": "stderr",
     "output_type": "stream",
     "text": [
      "INFO:tensorflow:input_ids: 101 4153 1055 4376 11217 3482 2436 4153 1055 4376 1996 4126 4880 2099 8297 4626 2577 18856 7828 3240 8226 15091 1998 6423 7031 2038 2908 3442 2000 2193 2028 1999 1996 2149 3482 2436 3673 1012 2009 2165 1002 2871 1012 1022 2213 1006 21853 2487 2213 1007 1999 5353 7281 4341 2429 2000 2996 10035 1012 1996 8297 4076 1996 3040 12290 2004 2027 3046 2000 4139 2125 2093 2350 2002 5130 2408 2885 1012 2009 6573 2197 2733 1055 2193 2028 2120 8813 2046 2353 2173 1012 11482 1055 3490 10374 6085 1024 7124 2001 1999 2117 2635 1002 2385 1012 1015 2213 1006 1069 2620 1012 1018 2213 1007 1012 26939 2041 1996 2327 2274 2001 6579 28458 1996 11508 4671 4626 102\n"
     ]
    },
    {
     "name": "stdout",
     "output_type": "stream",
     "text": [
      "INFO:tensorflow:input_mask: 1 1 1 1 1 1 1 1 1 1 1 1 1 1 1 1 1 1 1 1 1 1 1 1 1 1 1 1 1 1 1 1 1 1 1 1 1 1 1 1 1 1 1 1 1 1 1 1 1 1 1 1 1 1 1 1 1 1 1 1 1 1 1 1 1 1 1 1 1 1 1 1 1 1 1 1 1 1 1 1 1 1 1 1 1 1 1 1 1 1 1 1 1 1 1 1 1 1 1 1 1 1 1 1 1 1 1 1 1 1 1 1 1 1 1 1 1 1 1 1 1 1 1 1 1 1 1 1\n"
     ]
    },
    {
     "name": "stderr",
     "output_type": "stream",
     "text": [
      "INFO:tensorflow:input_mask: 1 1 1 1 1 1 1 1 1 1 1 1 1 1 1 1 1 1 1 1 1 1 1 1 1 1 1 1 1 1 1 1 1 1 1 1 1 1 1 1 1 1 1 1 1 1 1 1 1 1 1 1 1 1 1 1 1 1 1 1 1 1 1 1 1 1 1 1 1 1 1 1 1 1 1 1 1 1 1 1 1 1 1 1 1 1 1 1 1 1 1 1 1 1 1 1 1 1 1 1 1 1 1 1 1 1 1 1 1 1 1 1 1 1 1 1 1 1 1 1 1 1 1 1 1 1 1 1\n"
     ]
    },
    {
     "name": "stdout",
     "output_type": "stream",
     "text": [
      "INFO:tensorflow:segment_ids: 0 0 0 0 0 0 0 0 0 0 0 0 0 0 0 0 0 0 0 0 0 0 0 0 0 0 0 0 0 0 0 0 0 0 0 0 0 0 0 0 0 0 0 0 0 0 0 0 0 0 0 0 0 0 0 0 0 0 0 0 0 0 0 0 0 0 0 0 0 0 0 0 0 0 0 0 0 0 0 0 0 0 0 0 0 0 0 0 0 0 0 0 0 0 0 0 0 0 0 0 0 0 0 0 0 0 0 0 0 0 0 0 0 0 0 0 0 0 0 0 0 0 0 0 0 0 0 0\n"
     ]
    },
    {
     "name": "stderr",
     "output_type": "stream",
     "text": [
      "INFO:tensorflow:segment_ids: 0 0 0 0 0 0 0 0 0 0 0 0 0 0 0 0 0 0 0 0 0 0 0 0 0 0 0 0 0 0 0 0 0 0 0 0 0 0 0 0 0 0 0 0 0 0 0 0 0 0 0 0 0 0 0 0 0 0 0 0 0 0 0 0 0 0 0 0 0 0 0 0 0 0 0 0 0 0 0 0 0 0 0 0 0 0 0 0 0 0 0 0 0 0 0 0 0 0 0 0 0 0 0 0 0 0 0 0 0 0 0 0 0 0 0 0 0 0 0 0 0 0 0 0 0 0 0 0\n"
     ]
    },
    {
     "name": "stdout",
     "output_type": "stream",
     "text": [
      "INFO:tensorflow:label: entertainment (id = 1)\n"
     ]
    },
    {
     "name": "stderr",
     "output_type": "stream",
     "text": [
      "INFO:tensorflow:label: entertainment (id = 1)\n"
     ]
    }
   ],
   "source": [
    "train_features = run_classifier.convert_examples_to_features(train_InputExamples, train_labels_list, MAX_SEQ_LENGTH, tokenizer)"
   ]
  },
  {
   "cell_type": "code",
   "execution_count": 19,
   "metadata": {},
   "outputs": [
    {
     "data": {
      "text/plain": [
       "1780"
      ]
     },
     "execution_count": 19,
     "metadata": {},
     "output_type": "execute_result"
    }
   ],
   "source": [
    "len(train_features)"
   ]
  },
  {
   "cell_type": "code",
   "execution_count": 22,
   "metadata": {},
   "outputs": [
    {
     "name": "stdout",
     "output_type": "stream",
     "text": [
      "INFO:tensorflow:Writing example 0 of 445\n"
     ]
    },
    {
     "name": "stderr",
     "output_type": "stream",
     "text": [
      "INFO:tensorflow:Writing example 0 of 445\n"
     ]
    },
    {
     "name": "stdout",
     "output_type": "stream",
     "text": [
      "INFO:tensorflow:*** Example ***\n"
     ]
    },
    {
     "name": "stderr",
     "output_type": "stream",
     "text": [
      "INFO:tensorflow:*** Example ***\n"
     ]
    },
    {
     "name": "stdout",
     "output_type": "stream",
     "text": [
      "INFO:tensorflow:guid: test-1\n"
     ]
    },
    {
     "name": "stderr",
     "output_type": "stream",
     "text": [
      "INFO:tensorflow:guid: test-1\n"
     ]
    },
    {
     "name": "stdout",
     "output_type": "stream",
     "text": [
      "INFO:tensorflow:tokens: [CLS] ho ##bb ##it picture four years away lord of the rings director peter jackson has said that it will be up to four years before he starts work on a film version of the ho ##bb ##it . the oscar winner said on a visit to sydney there was a desire to make it but not before lengthy negotiations . i think it s gonna be a lot of lawyers sitting in a room trying to thrash out a deal before it will ever happen said the new zealand ##er . the rights to jr ##r tolkien s book are split between two major film studios . jackson who is currently filming a remake of hollywood classic king kong said he thought that the sale of [SEP]\n"
     ]
    },
    {
     "name": "stderr",
     "output_type": "stream",
     "text": [
      "INFO:tensorflow:tokens: [CLS] ho ##bb ##it picture four years away lord of the rings director peter jackson has said that it will be up to four years before he starts work on a film version of the ho ##bb ##it . the oscar winner said on a visit to sydney there was a desire to make it but not before lengthy negotiations . i think it s gonna be a lot of lawyers sitting in a room trying to thrash out a deal before it will ever happen said the new zealand ##er . the rights to jr ##r tolkien s book are split between two major film studios . jackson who is currently filming a remake of hollywood classic king kong said he thought that the sale of [SEP]\n"
     ]
    },
    {
     "name": "stdout",
     "output_type": "stream",
     "text": [
      "INFO:tensorflow:input_ids: 101 7570 10322 4183 3861 2176 2086 2185 2935 1997 1996 7635 2472 2848 4027 2038 2056 2008 2009 2097 2022 2039 2000 2176 2086 2077 2002 4627 2147 2006 1037 2143 2544 1997 1996 7570 10322 4183 1012 1996 7436 3453 2056 2006 1037 3942 2000 3994 2045 2001 1037 4792 2000 2191 2009 2021 2025 2077 12401 7776 1012 1045 2228 2009 1055 6069 2022 1037 2843 1997 9559 3564 1999 1037 2282 2667 2000 27042 2041 1037 3066 2077 2009 2097 2412 4148 2056 1996 2047 3414 2121 1012 1996 2916 2000 3781 2099 23602 1055 2338 2024 3975 2090 2048 2350 2143 4835 1012 4027 2040 2003 2747 7467 1037 12661 1997 5365 4438 2332 4290 2056 2002 2245 2008 1996 5096 1997 102\n"
     ]
    },
    {
     "name": "stderr",
     "output_type": "stream",
     "text": [
      "INFO:tensorflow:input_ids: 101 7570 10322 4183 3861 2176 2086 2185 2935 1997 1996 7635 2472 2848 4027 2038 2056 2008 2009 2097 2022 2039 2000 2176 2086 2077 2002 4627 2147 2006 1037 2143 2544 1997 1996 7570 10322 4183 1012 1996 7436 3453 2056 2006 1037 3942 2000 3994 2045 2001 1037 4792 2000 2191 2009 2021 2025 2077 12401 7776 1012 1045 2228 2009 1055 6069 2022 1037 2843 1997 9559 3564 1999 1037 2282 2667 2000 27042 2041 1037 3066 2077 2009 2097 2412 4148 2056 1996 2047 3414 2121 1012 1996 2916 2000 3781 2099 23602 1055 2338 2024 3975 2090 2048 2350 2143 4835 1012 4027 2040 2003 2747 7467 1037 12661 1997 5365 4438 2332 4290 2056 2002 2245 2008 1996 5096 1997 102\n"
     ]
    },
    {
     "name": "stdout",
     "output_type": "stream",
     "text": [
      "INFO:tensorflow:input_mask: 1 1 1 1 1 1 1 1 1 1 1 1 1 1 1 1 1 1 1 1 1 1 1 1 1 1 1 1 1 1 1 1 1 1 1 1 1 1 1 1 1 1 1 1 1 1 1 1 1 1 1 1 1 1 1 1 1 1 1 1 1 1 1 1 1 1 1 1 1 1 1 1 1 1 1 1 1 1 1 1 1 1 1 1 1 1 1 1 1 1 1 1 1 1 1 1 1 1 1 1 1 1 1 1 1 1 1 1 1 1 1 1 1 1 1 1 1 1 1 1 1 1 1 1 1 1 1 1\n"
     ]
    },
    {
     "name": "stderr",
     "output_type": "stream",
     "text": [
      "INFO:tensorflow:input_mask: 1 1 1 1 1 1 1 1 1 1 1 1 1 1 1 1 1 1 1 1 1 1 1 1 1 1 1 1 1 1 1 1 1 1 1 1 1 1 1 1 1 1 1 1 1 1 1 1 1 1 1 1 1 1 1 1 1 1 1 1 1 1 1 1 1 1 1 1 1 1 1 1 1 1 1 1 1 1 1 1 1 1 1 1 1 1 1 1 1 1 1 1 1 1 1 1 1 1 1 1 1 1 1 1 1 1 1 1 1 1 1 1 1 1 1 1 1 1 1 1 1 1 1 1 1 1 1 1\n"
     ]
    },
    {
     "name": "stdout",
     "output_type": "stream",
     "text": [
      "INFO:tensorflow:segment_ids: 0 0 0 0 0 0 0 0 0 0 0 0 0 0 0 0 0 0 0 0 0 0 0 0 0 0 0 0 0 0 0 0 0 0 0 0 0 0 0 0 0 0 0 0 0 0 0 0 0 0 0 0 0 0 0 0 0 0 0 0 0 0 0 0 0 0 0 0 0 0 0 0 0 0 0 0 0 0 0 0 0 0 0 0 0 0 0 0 0 0 0 0 0 0 0 0 0 0 0 0 0 0 0 0 0 0 0 0 0 0 0 0 0 0 0 0 0 0 0 0 0 0 0 0 0 0 0 0\n"
     ]
    },
    {
     "name": "stderr",
     "output_type": "stream",
     "text": [
      "INFO:tensorflow:segment_ids: 0 0 0 0 0 0 0 0 0 0 0 0 0 0 0 0 0 0 0 0 0 0 0 0 0 0 0 0 0 0 0 0 0 0 0 0 0 0 0 0 0 0 0 0 0 0 0 0 0 0 0 0 0 0 0 0 0 0 0 0 0 0 0 0 0 0 0 0 0 0 0 0 0 0 0 0 0 0 0 0 0 0 0 0 0 0 0 0 0 0 0 0 0 0 0 0 0 0 0 0 0 0 0 0 0 0 0 0 0 0 0 0 0 0 0 0 0 0 0 0 0 0 0 0 0 0 0 0\n"
     ]
    },
    {
     "name": "stdout",
     "output_type": "stream",
     "text": [
      "INFO:tensorflow:label: tech (id = 0)\n"
     ]
    },
    {
     "name": "stderr",
     "output_type": "stream",
     "text": [
      "INFO:tensorflow:label: tech (id = 0)\n"
     ]
    },
    {
     "name": "stdout",
     "output_type": "stream",
     "text": [
      "INFO:tensorflow:*** Example ***\n"
     ]
    },
    {
     "name": "stderr",
     "output_type": "stream",
     "text": [
      "INFO:tensorflow:*** Example ***\n"
     ]
    },
    {
     "name": "stdout",
     "output_type": "stream",
     "text": [
      "INFO:tensorflow:guid: test-2\n"
     ]
    },
    {
     "name": "stderr",
     "output_type": "stream",
     "text": [
      "INFO:tensorflow:guid: test-2\n"
     ]
    },
    {
     "name": "stdout",
     "output_type": "stream",
     "text": [
      "INFO:tensorflow:tokens: [CLS] game firm holds cast auditions video game firm bio ##ware is to hold open auditions for people to become cast members for future games . the company which makes role playing games such as knights of the old republic and never ##win ##ter nights is seeking people aged 18 to 99 . the canada - based company says it was looking for a wide variety of people to use as face models for characters . everyone chosen to appear in a video game will receive a performer s fee for the use of their image . the company is inviting people to come along to a shopping mall in west edmonton alberta on friday and saturday bringing along a piece of photo identification . there are [SEP]\n"
     ]
    },
    {
     "name": "stderr",
     "output_type": "stream",
     "text": [
      "INFO:tensorflow:tokens: [CLS] game firm holds cast auditions video game firm bio ##ware is to hold open auditions for people to become cast members for future games . the company which makes role playing games such as knights of the old republic and never ##win ##ter nights is seeking people aged 18 to 99 . the canada - based company says it was looking for a wide variety of people to use as face models for characters . everyone chosen to appear in a video game will receive a performer s fee for the use of their image . the company is inviting people to come along to a shopping mall in west edmonton alberta on friday and saturday bringing along a piece of photo identification . there are [SEP]\n"
     ]
    },
    {
     "name": "stdout",
     "output_type": "stream",
     "text": [
      "INFO:tensorflow:input_ids: 101 2208 3813 4324 3459 21732 2678 2208 3813 16012 8059 2003 2000 2907 2330 21732 2005 2111 2000 2468 3459 2372 2005 2925 2399 1012 1996 2194 2029 3084 2535 2652 2399 2107 2004 7307 1997 1996 2214 3072 1998 2196 10105 3334 6385 2003 6224 2111 4793 2324 2000 5585 1012 1996 2710 1011 2241 2194 2758 2009 2001 2559 2005 1037 2898 3528 1997 2111 2000 2224 2004 2227 4275 2005 3494 1012 3071 4217 2000 3711 1999 1037 2678 2208 2097 4374 1037 9256 1055 7408 2005 1996 2224 1997 2037 3746 1012 1996 2194 2003 15085 2111 2000 2272 2247 2000 1037 6023 6670 1999 2225 10522 7649 2006 5958 1998 5095 5026 2247 1037 3538 1997 6302 8720 1012 2045 2024 102\n"
     ]
    },
    {
     "name": "stderr",
     "output_type": "stream",
     "text": [
      "INFO:tensorflow:input_ids: 101 2208 3813 4324 3459 21732 2678 2208 3813 16012 8059 2003 2000 2907 2330 21732 2005 2111 2000 2468 3459 2372 2005 2925 2399 1012 1996 2194 2029 3084 2535 2652 2399 2107 2004 7307 1997 1996 2214 3072 1998 2196 10105 3334 6385 2003 6224 2111 4793 2324 2000 5585 1012 1996 2710 1011 2241 2194 2758 2009 2001 2559 2005 1037 2898 3528 1997 2111 2000 2224 2004 2227 4275 2005 3494 1012 3071 4217 2000 3711 1999 1037 2678 2208 2097 4374 1037 9256 1055 7408 2005 1996 2224 1997 2037 3746 1012 1996 2194 2003 15085 2111 2000 2272 2247 2000 1037 6023 6670 1999 2225 10522 7649 2006 5958 1998 5095 5026 2247 1037 3538 1997 6302 8720 1012 2045 2024 102\n"
     ]
    },
    {
     "name": "stdout",
     "output_type": "stream",
     "text": [
      "INFO:tensorflow:input_mask: 1 1 1 1 1 1 1 1 1 1 1 1 1 1 1 1 1 1 1 1 1 1 1 1 1 1 1 1 1 1 1 1 1 1 1 1 1 1 1 1 1 1 1 1 1 1 1 1 1 1 1 1 1 1 1 1 1 1 1 1 1 1 1 1 1 1 1 1 1 1 1 1 1 1 1 1 1 1 1 1 1 1 1 1 1 1 1 1 1 1 1 1 1 1 1 1 1 1 1 1 1 1 1 1 1 1 1 1 1 1 1 1 1 1 1 1 1 1 1 1 1 1 1 1 1 1 1 1\n"
     ]
    },
    {
     "name": "stderr",
     "output_type": "stream",
     "text": [
      "INFO:tensorflow:input_mask: 1 1 1 1 1 1 1 1 1 1 1 1 1 1 1 1 1 1 1 1 1 1 1 1 1 1 1 1 1 1 1 1 1 1 1 1 1 1 1 1 1 1 1 1 1 1 1 1 1 1 1 1 1 1 1 1 1 1 1 1 1 1 1 1 1 1 1 1 1 1 1 1 1 1 1 1 1 1 1 1 1 1 1 1 1 1 1 1 1 1 1 1 1 1 1 1 1 1 1 1 1 1 1 1 1 1 1 1 1 1 1 1 1 1 1 1 1 1 1 1 1 1 1 1 1 1 1 1\n"
     ]
    },
    {
     "name": "stdout",
     "output_type": "stream",
     "text": [
      "INFO:tensorflow:segment_ids: 0 0 0 0 0 0 0 0 0 0 0 0 0 0 0 0 0 0 0 0 0 0 0 0 0 0 0 0 0 0 0 0 0 0 0 0 0 0 0 0 0 0 0 0 0 0 0 0 0 0 0 0 0 0 0 0 0 0 0 0 0 0 0 0 0 0 0 0 0 0 0 0 0 0 0 0 0 0 0 0 0 0 0 0 0 0 0 0 0 0 0 0 0 0 0 0 0 0 0 0 0 0 0 0 0 0 0 0 0 0 0 0 0 0 0 0 0 0 0 0 0 0 0 0 0 0 0 0\n"
     ]
    },
    {
     "name": "stderr",
     "output_type": "stream",
     "text": [
      "INFO:tensorflow:segment_ids: 0 0 0 0 0 0 0 0 0 0 0 0 0 0 0 0 0 0 0 0 0 0 0 0 0 0 0 0 0 0 0 0 0 0 0 0 0 0 0 0 0 0 0 0 0 0 0 0 0 0 0 0 0 0 0 0 0 0 0 0 0 0 0 0 0 0 0 0 0 0 0 0 0 0 0 0 0 0 0 0 0 0 0 0 0 0 0 0 0 0 0 0 0 0 0 0 0 0 0 0 0 0 0 0 0 0 0 0 0 0 0 0 0 0 0 0 0 0 0 0 0 0 0 0 0 0 0 0\n"
     ]
    },
    {
     "name": "stdout",
     "output_type": "stream",
     "text": [
      "INFO:tensorflow:label: tech (id = 0)\n"
     ]
    },
    {
     "name": "stderr",
     "output_type": "stream",
     "text": [
      "INFO:tensorflow:label: tech (id = 0)\n"
     ]
    },
    {
     "name": "stdout",
     "output_type": "stream",
     "text": [
      "INFO:tensorflow:*** Example ***\n"
     ]
    },
    {
     "name": "stderr",
     "output_type": "stream",
     "text": [
      "INFO:tensorflow:*** Example ***\n"
     ]
    },
    {
     "name": "stdout",
     "output_type": "stream",
     "text": [
      "INFO:tensorflow:guid: test-3\n"
     ]
    },
    {
     "name": "stderr",
     "output_type": "stream",
     "text": [
      "INFO:tensorflow:guid: test-3\n"
     ]
    },
    {
     "name": "stdout",
     "output_type": "stream",
     "text": [
      "INFO:tensorflow:tokens: [CLS] clarke plans migrant point scheme anyone planning to move to the uk will have to pass a test to prove they can contribute to the country home secretary charles clarke has said . he is proposing a points system similar to australia s but would avoid the quota system planned by the tori ##es . mr clarke who will un ##ve ##il his plans on monday said economic migration helped the uk but needed proper policing . the li ##b dem ##s say they will look at his plans but tory liam fox said his party offered a clear choice on the issue . the conservative party co - chairman said the british electorate had a choice between a labour government that had done nothing for [SEP]\n"
     ]
    },
    {
     "name": "stderr",
     "output_type": "stream",
     "text": [
      "INFO:tensorflow:tokens: [CLS] clarke plans migrant point scheme anyone planning to move to the uk will have to pass a test to prove they can contribute to the country home secretary charles clarke has said . he is proposing a points system similar to australia s but would avoid the quota system planned by the tori ##es . mr clarke who will un ##ve ##il his plans on monday said economic migration helped the uk but needed proper policing . the li ##b dem ##s say they will look at his plans but tory liam fox said his party offered a clear choice on the issue . the conservative party co - chairman said the british electorate had a choice between a labour government that had done nothing for [SEP]\n"
     ]
    },
    {
     "name": "stdout",
     "output_type": "stream",
     "text": [
      "INFO:tensorflow:input_ids: 101 8359 3488 20731 2391 5679 3087 4041 2000 2693 2000 1996 2866 2097 2031 2000 3413 1037 3231 2000 6011 2027 2064 9002 2000 1996 2406 2188 3187 2798 8359 2038 2056 1012 2002 2003 21991 1037 2685 2291 2714 2000 2660 1055 2021 2052 4468 1996 20563 2291 3740 2011 1996 23413 2229 1012 2720 8359 2040 2097 4895 3726 4014 2010 3488 2006 6928 2056 3171 9230 3271 1996 2866 2021 2734 5372 21107 1012 1996 5622 2497 17183 2015 2360 2027 2097 2298 2012 2010 3488 2021 17117 8230 4419 2056 2010 2283 3253 1037 3154 3601 2006 1996 3277 1012 1996 4603 2283 2522 1011 3472 2056 1996 2329 13694 2018 1037 3601 2090 1037 4428 2231 2008 2018 2589 2498 2005 102\n"
     ]
    },
    {
     "name": "stderr",
     "output_type": "stream",
     "text": [
      "INFO:tensorflow:input_ids: 101 8359 3488 20731 2391 5679 3087 4041 2000 2693 2000 1996 2866 2097 2031 2000 3413 1037 3231 2000 6011 2027 2064 9002 2000 1996 2406 2188 3187 2798 8359 2038 2056 1012 2002 2003 21991 1037 2685 2291 2714 2000 2660 1055 2021 2052 4468 1996 20563 2291 3740 2011 1996 23413 2229 1012 2720 8359 2040 2097 4895 3726 4014 2010 3488 2006 6928 2056 3171 9230 3271 1996 2866 2021 2734 5372 21107 1012 1996 5622 2497 17183 2015 2360 2027 2097 2298 2012 2010 3488 2021 17117 8230 4419 2056 2010 2283 3253 1037 3154 3601 2006 1996 3277 1012 1996 4603 2283 2522 1011 3472 2056 1996 2329 13694 2018 1037 3601 2090 1037 4428 2231 2008 2018 2589 2498 2005 102\n"
     ]
    },
    {
     "name": "stdout",
     "output_type": "stream",
     "text": [
      "INFO:tensorflow:input_mask: 1 1 1 1 1 1 1 1 1 1 1 1 1 1 1 1 1 1 1 1 1 1 1 1 1 1 1 1 1 1 1 1 1 1 1 1 1 1 1 1 1 1 1 1 1 1 1 1 1 1 1 1 1 1 1 1 1 1 1 1 1 1 1 1 1 1 1 1 1 1 1 1 1 1 1 1 1 1 1 1 1 1 1 1 1 1 1 1 1 1 1 1 1 1 1 1 1 1 1 1 1 1 1 1 1 1 1 1 1 1 1 1 1 1 1 1 1 1 1 1 1 1 1 1 1 1 1 1\n"
     ]
    },
    {
     "name": "stderr",
     "output_type": "stream",
     "text": [
      "INFO:tensorflow:input_mask: 1 1 1 1 1 1 1 1 1 1 1 1 1 1 1 1 1 1 1 1 1 1 1 1 1 1 1 1 1 1 1 1 1 1 1 1 1 1 1 1 1 1 1 1 1 1 1 1 1 1 1 1 1 1 1 1 1 1 1 1 1 1 1 1 1 1 1 1 1 1 1 1 1 1 1 1 1 1 1 1 1 1 1 1 1 1 1 1 1 1 1 1 1 1 1 1 1 1 1 1 1 1 1 1 1 1 1 1 1 1 1 1 1 1 1 1 1 1 1 1 1 1 1 1 1 1 1 1\n"
     ]
    },
    {
     "name": "stdout",
     "output_type": "stream",
     "text": [
      "INFO:tensorflow:segment_ids: 0 0 0 0 0 0 0 0 0 0 0 0 0 0 0 0 0 0 0 0 0 0 0 0 0 0 0 0 0 0 0 0 0 0 0 0 0 0 0 0 0 0 0 0 0 0 0 0 0 0 0 0 0 0 0 0 0 0 0 0 0 0 0 0 0 0 0 0 0 0 0 0 0 0 0 0 0 0 0 0 0 0 0 0 0 0 0 0 0 0 0 0 0 0 0 0 0 0 0 0 0 0 0 0 0 0 0 0 0 0 0 0 0 0 0 0 0 0 0 0 0 0 0 0 0 0 0 0\n"
     ]
    },
    {
     "name": "stderr",
     "output_type": "stream",
     "text": [
      "INFO:tensorflow:segment_ids: 0 0 0 0 0 0 0 0 0 0 0 0 0 0 0 0 0 0 0 0 0 0 0 0 0 0 0 0 0 0 0 0 0 0 0 0 0 0 0 0 0 0 0 0 0 0 0 0 0 0 0 0 0 0 0 0 0 0 0 0 0 0 0 0 0 0 0 0 0 0 0 0 0 0 0 0 0 0 0 0 0 0 0 0 0 0 0 0 0 0 0 0 0 0 0 0 0 0 0 0 0 0 0 0 0 0 0 0 0 0 0 0 0 0 0 0 0 0 0 0 0 0 0 0 0 0 0 0\n"
     ]
    },
    {
     "name": "stdout",
     "output_type": "stream",
     "text": [
      "INFO:tensorflow:label: tech (id = 0)\n"
     ]
    },
    {
     "name": "stderr",
     "output_type": "stream",
     "text": [
      "INFO:tensorflow:label: tech (id = 0)\n"
     ]
    },
    {
     "name": "stdout",
     "output_type": "stream",
     "text": [
      "INFO:tensorflow:*** Example ***\n"
     ]
    },
    {
     "name": "stderr",
     "output_type": "stream",
     "text": [
      "INFO:tensorflow:*** Example ***\n"
     ]
    },
    {
     "name": "stdout",
     "output_type": "stream",
     "text": [
      "INFO:tensorflow:guid: test-4\n"
     ]
    },
    {
     "name": "stderr",
     "output_type": "stream",
     "text": [
      "INFO:tensorflow:guid: test-4\n"
     ]
    },
    {
     "name": "stdout",
     "output_type": "stream",
     "text": [
      "INFO:tensorflow:tokens: [CLS] radcliffe will compete in london paula radcliffe will compete in the flora london marathon this year after deciding her schedule for 2005 . the 31 - year - old won the race in 2002 on her marathon debut defended her title 12 months later and will now seek a third title in the 17 april race . it doesn t get any better than this for the 25th anniversary said race director david bedford . after announcing the greatest men s field ever we now have the greatest women s distance runner ever . three years ago radcliffe smashed the women s world record in two hours 18 minutes 15 seconds . the bedford star returned to london 12 months later lowering her mixed - race [SEP]\n"
     ]
    },
    {
     "name": "stderr",
     "output_type": "stream",
     "text": [
      "INFO:tensorflow:tokens: [CLS] radcliffe will compete in london paula radcliffe will compete in the flora london marathon this year after deciding her schedule for 2005 . the 31 - year - old won the race in 2002 on her marathon debut defended her title 12 months later and will now seek a third title in the 17 april race . it doesn t get any better than this for the 25th anniversary said race director david bedford . after announcing the greatest men s field ever we now have the greatest women s distance runner ever . three years ago radcliffe smashed the women s world record in two hours 18 minutes 15 seconds . the bedford star returned to london 12 months later lowering her mixed - race [SEP]\n"
     ]
    },
    {
     "name": "stdout",
     "output_type": "stream",
     "text": [
      "INFO:tensorflow:input_ids: 101 22603 2097 5566 1999 2414 13723 22603 2097 5566 1999 1996 10088 2414 8589 2023 2095 2044 10561 2014 6134 2005 2384 1012 1996 2861 1011 2095 1011 2214 2180 1996 2679 1999 2526 2006 2014 8589 2834 8047 2014 2516 2260 2706 2101 1998 2097 2085 6148 1037 2353 2516 1999 1996 2459 2258 2679 1012 2009 2987 1056 2131 2151 2488 2084 2023 2005 1996 10965 5315 2056 2679 2472 2585 12003 1012 2044 13856 1996 4602 2273 1055 2492 2412 2057 2085 2031 1996 4602 2308 1055 3292 5479 2412 1012 2093 2086 3283 22603 14368 1996 2308 1055 2088 2501 1999 2048 2847 2324 2781 2321 3823 1012 1996 12003 2732 2513 2000 2414 2260 2706 2101 13845 2014 3816 1011 2679 102\n"
     ]
    },
    {
     "name": "stderr",
     "output_type": "stream",
     "text": [
      "INFO:tensorflow:input_ids: 101 22603 2097 5566 1999 2414 13723 22603 2097 5566 1999 1996 10088 2414 8589 2023 2095 2044 10561 2014 6134 2005 2384 1012 1996 2861 1011 2095 1011 2214 2180 1996 2679 1999 2526 2006 2014 8589 2834 8047 2014 2516 2260 2706 2101 1998 2097 2085 6148 1037 2353 2516 1999 1996 2459 2258 2679 1012 2009 2987 1056 2131 2151 2488 2084 2023 2005 1996 10965 5315 2056 2679 2472 2585 12003 1012 2044 13856 1996 4602 2273 1055 2492 2412 2057 2085 2031 1996 4602 2308 1055 3292 5479 2412 1012 2093 2086 3283 22603 14368 1996 2308 1055 2088 2501 1999 2048 2847 2324 2781 2321 3823 1012 1996 12003 2732 2513 2000 2414 2260 2706 2101 13845 2014 3816 1011 2679 102\n"
     ]
    },
    {
     "name": "stdout",
     "output_type": "stream",
     "text": [
      "INFO:tensorflow:input_mask: 1 1 1 1 1 1 1 1 1 1 1 1 1 1 1 1 1 1 1 1 1 1 1 1 1 1 1 1 1 1 1 1 1 1 1 1 1 1 1 1 1 1 1 1 1 1 1 1 1 1 1 1 1 1 1 1 1 1 1 1 1 1 1 1 1 1 1 1 1 1 1 1 1 1 1 1 1 1 1 1 1 1 1 1 1 1 1 1 1 1 1 1 1 1 1 1 1 1 1 1 1 1 1 1 1 1 1 1 1 1 1 1 1 1 1 1 1 1 1 1 1 1 1 1 1 1 1 1\n"
     ]
    },
    {
     "name": "stderr",
     "output_type": "stream",
     "text": [
      "INFO:tensorflow:input_mask: 1 1 1 1 1 1 1 1 1 1 1 1 1 1 1 1 1 1 1 1 1 1 1 1 1 1 1 1 1 1 1 1 1 1 1 1 1 1 1 1 1 1 1 1 1 1 1 1 1 1 1 1 1 1 1 1 1 1 1 1 1 1 1 1 1 1 1 1 1 1 1 1 1 1 1 1 1 1 1 1 1 1 1 1 1 1 1 1 1 1 1 1 1 1 1 1 1 1 1 1 1 1 1 1 1 1 1 1 1 1 1 1 1 1 1 1 1 1 1 1 1 1 1 1 1 1 1 1\n"
     ]
    },
    {
     "name": "stdout",
     "output_type": "stream",
     "text": [
      "INFO:tensorflow:segment_ids: 0 0 0 0 0 0 0 0 0 0 0 0 0 0 0 0 0 0 0 0 0 0 0 0 0 0 0 0 0 0 0 0 0 0 0 0 0 0 0 0 0 0 0 0 0 0 0 0 0 0 0 0 0 0 0 0 0 0 0 0 0 0 0 0 0 0 0 0 0 0 0 0 0 0 0 0 0 0 0 0 0 0 0 0 0 0 0 0 0 0 0 0 0 0 0 0 0 0 0 0 0 0 0 0 0 0 0 0 0 0 0 0 0 0 0 0 0 0 0 0 0 0 0 0 0 0 0 0\n"
     ]
    },
    {
     "name": "stderr",
     "output_type": "stream",
     "text": [
      "INFO:tensorflow:segment_ids: 0 0 0 0 0 0 0 0 0 0 0 0 0 0 0 0 0 0 0 0 0 0 0 0 0 0 0 0 0 0 0 0 0 0 0 0 0 0 0 0 0 0 0 0 0 0 0 0 0 0 0 0 0 0 0 0 0 0 0 0 0 0 0 0 0 0 0 0 0 0 0 0 0 0 0 0 0 0 0 0 0 0 0 0 0 0 0 0 0 0 0 0 0 0 0 0 0 0 0 0 0 0 0 0 0 0 0 0 0 0 0 0 0 0 0 0 0 0 0 0 0 0 0 0 0 0 0 0\n"
     ]
    },
    {
     "name": "stdout",
     "output_type": "stream",
     "text": [
      "INFO:tensorflow:label: tech (id = 0)\n"
     ]
    },
    {
     "name": "stderr",
     "output_type": "stream",
     "text": [
      "INFO:tensorflow:label: tech (id = 0)\n"
     ]
    },
    {
     "name": "stdout",
     "output_type": "stream",
     "text": [
      "INFO:tensorflow:*** Example ***\n"
     ]
    },
    {
     "name": "stderr",
     "output_type": "stream",
     "text": [
      "INFO:tensorflow:*** Example ***\n"
     ]
    },
    {
     "name": "stdout",
     "output_type": "stream",
     "text": [
      "INFO:tensorflow:guid: test-5\n"
     ]
    },
    {
     "name": "stderr",
     "output_type": "stream",
     "text": [
      "INFO:tensorflow:guid: test-5\n"
     ]
    },
    {
     "name": "stdout",
     "output_type": "stream",
     "text": [
      "INFO:tensorflow:tokens: [CLS] serena becomes world number two serena williams has moved up five places to second in the world rankings after her australian open win . williams won her first grand slam title since 2003 with victory over lindsay davenport the world number one . men s champion mara ##t sa ##fin remains fourth in the atp rankings while beaten finalist ll ##ey ##ton hewitt replaces andy rod ##dick as world number two . roger federer retains top spot but sa ##fin has over ##taken hewitt to become the new leader of the champions race . alicia mo ##lik who lost a three - set thriller against davenport in the quarter - finals is in the women s top 10 for the first time in her career . [SEP]\n"
     ]
    },
    {
     "name": "stderr",
     "output_type": "stream",
     "text": [
      "INFO:tensorflow:tokens: [CLS] serena becomes world number two serena williams has moved up five places to second in the world rankings after her australian open win . williams won her first grand slam title since 2003 with victory over lindsay davenport the world number one . men s champion mara ##t sa ##fin remains fourth in the atp rankings while beaten finalist ll ##ey ##ton hewitt replaces andy rod ##dick as world number two . roger federer retains top spot but sa ##fin has over ##taken hewitt to become the new leader of the champions race . alicia mo ##lik who lost a three - set thriller against davenport in the quarter - finals is in the women s top 10 for the first time in her career . [SEP]\n"
     ]
    },
    {
     "name": "stdout",
     "output_type": "stream",
     "text": [
      "INFO:tensorflow:input_ids: 101 14419 4150 2088 2193 2048 14419 3766 2038 2333 2039 2274 3182 2000 2117 1999 1996 2088 10385 2044 2014 2827 2330 2663 1012 3766 2180 2014 2034 2882 9555 2516 2144 2494 2007 3377 2058 12110 16273 1996 2088 2193 2028 1012 2273 1055 3410 13955 2102 7842 16294 3464 2959 1999 1996 12649 10385 2096 7854 9914 2222 3240 2669 19482 20736 5557 8473 24066 2004 2088 2193 2048 1012 5074 28294 14567 2327 3962 2021 7842 16294 2038 2058 25310 19482 2000 2468 1996 2047 3003 1997 1996 3966 2679 1012 15935 9587 18393 2040 2439 1037 2093 1011 2275 10874 2114 16273 1999 1996 4284 1011 4399 2003 1999 1996 2308 1055 2327 2184 2005 1996 2034 2051 1999 2014 2476 1012 102\n"
     ]
    },
    {
     "name": "stderr",
     "output_type": "stream",
     "text": [
      "INFO:tensorflow:input_ids: 101 14419 4150 2088 2193 2048 14419 3766 2038 2333 2039 2274 3182 2000 2117 1999 1996 2088 10385 2044 2014 2827 2330 2663 1012 3766 2180 2014 2034 2882 9555 2516 2144 2494 2007 3377 2058 12110 16273 1996 2088 2193 2028 1012 2273 1055 3410 13955 2102 7842 16294 3464 2959 1999 1996 12649 10385 2096 7854 9914 2222 3240 2669 19482 20736 5557 8473 24066 2004 2088 2193 2048 1012 5074 28294 14567 2327 3962 2021 7842 16294 2038 2058 25310 19482 2000 2468 1996 2047 3003 1997 1996 3966 2679 1012 15935 9587 18393 2040 2439 1037 2093 1011 2275 10874 2114 16273 1999 1996 4284 1011 4399 2003 1999 1996 2308 1055 2327 2184 2005 1996 2034 2051 1999 2014 2476 1012 102\n"
     ]
    },
    {
     "name": "stdout",
     "output_type": "stream",
     "text": [
      "INFO:tensorflow:input_mask: 1 1 1 1 1 1 1 1 1 1 1 1 1 1 1 1 1 1 1 1 1 1 1 1 1 1 1 1 1 1 1 1 1 1 1 1 1 1 1 1 1 1 1 1 1 1 1 1 1 1 1 1 1 1 1 1 1 1 1 1 1 1 1 1 1 1 1 1 1 1 1 1 1 1 1 1 1 1 1 1 1 1 1 1 1 1 1 1 1 1 1 1 1 1 1 1 1 1 1 1 1 1 1 1 1 1 1 1 1 1 1 1 1 1 1 1 1 1 1 1 1 1 1 1 1 1 1 1\n"
     ]
    },
    {
     "name": "stderr",
     "output_type": "stream",
     "text": [
      "INFO:tensorflow:input_mask: 1 1 1 1 1 1 1 1 1 1 1 1 1 1 1 1 1 1 1 1 1 1 1 1 1 1 1 1 1 1 1 1 1 1 1 1 1 1 1 1 1 1 1 1 1 1 1 1 1 1 1 1 1 1 1 1 1 1 1 1 1 1 1 1 1 1 1 1 1 1 1 1 1 1 1 1 1 1 1 1 1 1 1 1 1 1 1 1 1 1 1 1 1 1 1 1 1 1 1 1 1 1 1 1 1 1 1 1 1 1 1 1 1 1 1 1 1 1 1 1 1 1 1 1 1 1 1 1\n"
     ]
    },
    {
     "name": "stdout",
     "output_type": "stream",
     "text": [
      "INFO:tensorflow:segment_ids: 0 0 0 0 0 0 0 0 0 0 0 0 0 0 0 0 0 0 0 0 0 0 0 0 0 0 0 0 0 0 0 0 0 0 0 0 0 0 0 0 0 0 0 0 0 0 0 0 0 0 0 0 0 0 0 0 0 0 0 0 0 0 0 0 0 0 0 0 0 0 0 0 0 0 0 0 0 0 0 0 0 0 0 0 0 0 0 0 0 0 0 0 0 0 0 0 0 0 0 0 0 0 0 0 0 0 0 0 0 0 0 0 0 0 0 0 0 0 0 0 0 0 0 0 0 0 0 0\n"
     ]
    },
    {
     "name": "stderr",
     "output_type": "stream",
     "text": [
      "INFO:tensorflow:segment_ids: 0 0 0 0 0 0 0 0 0 0 0 0 0 0 0 0 0 0 0 0 0 0 0 0 0 0 0 0 0 0 0 0 0 0 0 0 0 0 0 0 0 0 0 0 0 0 0 0 0 0 0 0 0 0 0 0 0 0 0 0 0 0 0 0 0 0 0 0 0 0 0 0 0 0 0 0 0 0 0 0 0 0 0 0 0 0 0 0 0 0 0 0 0 0 0 0 0 0 0 0 0 0 0 0 0 0 0 0 0 0 0 0 0 0 0 0 0 0 0 0 0 0 0 0 0 0 0 0\n"
     ]
    },
    {
     "name": "stdout",
     "output_type": "stream",
     "text": [
      "INFO:tensorflow:label: tech (id = 0)\n"
     ]
    },
    {
     "name": "stderr",
     "output_type": "stream",
     "text": [
      "INFO:tensorflow:label: tech (id = 0)\n"
     ]
    }
   ],
   "source": [
    "test_features = run_classifier.convert_examples_to_features(test_InputExamples, test_labels_list, MAX_SEQ_LENGTH, tokenizer)"
   ]
  },
  {
   "cell_type": "code",
   "execution_count": 23,
   "metadata": {},
   "outputs": [
    {
     "data": {
      "text/plain": [
       "445"
      ]
     },
     "execution_count": 23,
     "metadata": {},
     "output_type": "execute_result"
    }
   ],
   "source": [
    "len(test_features)"
   ]
  },
  {
   "cell_type": "code",
   "execution_count": 24,
   "metadata": {},
   "outputs": [],
   "source": [
    "# Compute train and warmup steps from batch size\n",
    "# These hyperparameters are copied from this colab notebook (https://colab.sandbox.google.com/github/tensorflow/tpu/blob/master/tools/colab/bert_finetuning_with_cloud_tpus.ipynb)\n",
    "BATCH_SIZE = 32\n",
    "LEARNING_RATE = 2e-5\n",
    "NUM_TRAIN_EPOCHS = 10.0\n",
    "# Warmup is a period of time where hte learning rate \n",
    "# is small and gradually increases--usually helps training.\n",
    "WARMUP_PROPORTION = 0.1\n",
    "# Model configs\n",
    "SAVE_CHECKPOINTS_STEPS = 100\n",
    "SAVE_SUMMARY_STEPS = 10"
   ]
  },
  {
   "cell_type": "code",
   "execution_count": 25,
   "metadata": {},
   "outputs": [],
   "source": [
    "num_train_steps = int(len(train_features) / BATCH_SIZE * NUM_TRAIN_EPOCHS)"
   ]
  },
  {
   "cell_type": "code",
   "execution_count": 26,
   "metadata": {},
   "outputs": [
    {
     "data": {
      "text/plain": [
       "556"
      ]
     },
     "execution_count": 26,
     "metadata": {},
     "output_type": "execute_result"
    }
   ],
   "source": [
    "num_train_steps"
   ]
  },
  {
   "cell_type": "code",
   "execution_count": 31,
   "metadata": {},
   "outputs": [],
   "source": [
    "num_warmup_steps = int(num_train_steps * WARMUP_PROPORTION)"
   ]
  },
  {
   "cell_type": "code",
   "execution_count": 32,
   "metadata": {},
   "outputs": [
    {
     "data": {
      "text/plain": [
       "55"
      ]
     },
     "execution_count": 32,
     "metadata": {},
     "output_type": "execute_result"
    }
   ],
   "source": [
    "num_warmup_steps"
   ]
  },
  {
   "cell_type": "code",
   "execution_count": 29,
   "metadata": {},
   "outputs": [],
   "source": [
    "OUTPUT_DIR = \"./output_based_on_private_model/bbc\""
   ]
  },
  {
   "cell_type": "code",
   "execution_count": 30,
   "metadata": {},
   "outputs": [],
   "source": [
    "run_config = tf.estimator.RunConfig(\n",
    "    model_dir=OUTPUT_DIR,\n",
    "    save_summary_steps=SAVE_SUMMARY_STEPS,\n",
    "    save_checkpoints_steps=SAVE_CHECKPOINTS_STEPS)"
   ]
  },
  {
   "cell_type": "code",
   "execution_count": 37,
   "metadata": {},
   "outputs": [],
   "source": [
    "model_fn = model_fn_build(num_labels=len(train_labels),\n",
    "                          learning_rate=LEARNING_RATE,\n",
    "                          num_train_steps=num_train_steps,\n",
    "                          num_warmup_steps=num_warmup_steps,\n",
    "                          bert_hub_module_handle=BERT_MODEL_HUB)"
   ]
  },
  {
   "cell_type": "code",
   "execution_count": 38,
   "metadata": {},
   "outputs": [
    {
     "name": "stdout",
     "output_type": "stream",
     "text": [
      "INFO:tensorflow:Using config: {'_tf_random_seed': None, '_model_dir': './output_based_on_private_model/bbc', '_experimental_distribute': None, '_is_chief': True, '_num_ps_replicas': 0, '_keep_checkpoint_every_n_hours': 10000, '_experimental_max_worker_delay_secs': None, '_save_checkpoints_steps': 100, '_task_type': 'worker', '_global_id_in_cluster': 0, '_service': None, '_task_id': 0, '_eval_distribute': None, '_save_checkpoints_secs': None, '_save_summary_steps': 10, '_evaluation_master': '', '_device_fn': None, '_keep_checkpoint_max': 5, '_num_worker_replicas': 1, '_train_distribute': None, '_cluster_spec': <tensorflow.python.training.server_lib.ClusterSpec object at 0x7f5370515710>, '_protocol': None, '_master': '', '_session_config': allow_soft_placement: true\n",
      "graph_options {\n",
      "  rewrite_options {\n",
      "    meta_optimizer_iterations: ONE\n",
      "  }\n",
      "}\n",
      ", '_log_step_count_steps': 100}\n"
     ]
    },
    {
     "name": "stderr",
     "output_type": "stream",
     "text": [
      "INFO:tensorflow:Using config: {'_tf_random_seed': None, '_model_dir': './output_based_on_private_model/bbc', '_experimental_distribute': None, '_is_chief': True, '_num_ps_replicas': 0, '_keep_checkpoint_every_n_hours': 10000, '_experimental_max_worker_delay_secs': None, '_save_checkpoints_steps': 100, '_task_type': 'worker', '_global_id_in_cluster': 0, '_service': None, '_task_id': 0, '_eval_distribute': None, '_save_checkpoints_secs': None, '_save_summary_steps': 10, '_evaluation_master': '', '_device_fn': None, '_keep_checkpoint_max': 5, '_num_worker_replicas': 1, '_train_distribute': None, '_cluster_spec': <tensorflow.python.training.server_lib.ClusterSpec object at 0x7f5370515710>, '_protocol': None, '_master': '', '_session_config': allow_soft_placement: true\n",
      "graph_options {\n",
      "  rewrite_options {\n",
      "    meta_optimizer_iterations: ONE\n",
      "  }\n",
      "}\n",
      ", '_log_step_count_steps': 100}\n"
     ]
    }
   ],
   "source": [
    "estimator = tf.estimator.Estimator(model_fn=model_fn,\n",
    "                                   config=run_config,\n",
    "                                   params={\"batch_size\": BATCH_SIZE})"
   ]
  },
  {
   "cell_type": "code",
   "execution_count": 39,
   "metadata": {},
   "outputs": [],
   "source": [
    "train_input_fn = run_classifier.input_fn_builder(features=train_features,\n",
    "                                                 seq_length=MAX_SEQ_LENGTH,\n",
    "                                                 is_training=True,\n",
    "                                                 drop_remainder=False)"
   ]
  },
  {
   "cell_type": "code",
   "execution_count": 45,
   "metadata": {},
   "outputs": [
    {
     "name": "stdout",
     "output_type": "stream",
     "text": [
      "Beginning Training!\n",
      "INFO:tensorflow:Calling model_fn.\n"
     ]
    },
    {
     "name": "stderr",
     "output_type": "stream",
     "text": [
      "INFO:tensorflow:Calling model_fn.\n"
     ]
    },
    {
     "name": "stdout",
     "output_type": "stream",
     "text": [
      "INFO:tensorflow:****** Features ******\n"
     ]
    },
    {
     "name": "stderr",
     "output_type": "stream",
     "text": [
      "INFO:tensorflow:****** Features ******\n"
     ]
    },
    {
     "name": "stdout",
     "output_type": "stream",
     "text": [
      "INFO:tensorflow:name = input_ids, shape = (?, 128)\n"
     ]
    },
    {
     "name": "stderr",
     "output_type": "stream",
     "text": [
      "INFO:tensorflow:name = input_ids, shape = (?, 128)\n"
     ]
    },
    {
     "name": "stdout",
     "output_type": "stream",
     "text": [
      "INFO:tensorflow:name = input_mask, shape = (?, 128)\n"
     ]
    },
    {
     "name": "stderr",
     "output_type": "stream",
     "text": [
      "INFO:tensorflow:name = input_mask, shape = (?, 128)\n"
     ]
    },
    {
     "name": "stdout",
     "output_type": "stream",
     "text": [
      "INFO:tensorflow:name = label_ids, shape = (?,)\n"
     ]
    },
    {
     "name": "stderr",
     "output_type": "stream",
     "text": [
      "INFO:tensorflow:name = label_ids, shape = (?,)\n"
     ]
    },
    {
     "name": "stdout",
     "output_type": "stream",
     "text": [
      "INFO:tensorflow:name = segment_ids, shape = (?, 128)\n"
     ]
    },
    {
     "name": "stderr",
     "output_type": "stream",
     "text": [
      "INFO:tensorflow:name = segment_ids, shape = (?, 128)\n"
     ]
    },
    {
     "name": "stdout",
     "output_type": "stream",
     "text": [
      "INFO:tensorflow:Saver not created because there are no variables in the graph to restore\n"
     ]
    },
    {
     "name": "stderr",
     "output_type": "stream",
     "text": [
      "INFO:tensorflow:Saver not created because there are no variables in the graph to restore\n"
     ]
    },
    {
     "name": "stdout",
     "output_type": "stream",
     "text": [
      "WARNING:tensorflow:From <ipython-input-44-c37272946889>:27: calling dropout (from tensorflow.python.ops.nn_ops) with keep_prob is deprecated and will be removed in a future version.\n",
      "Instructions for updating:\n",
      "Please use `rate` instead of `keep_prob`. Rate should be set to `rate = 1 - keep_prob`.\n"
     ]
    },
    {
     "name": "stderr",
     "output_type": "stream",
     "text": [
      "WARNING:tensorflow:From <ipython-input-44-c37272946889>:27: calling dropout (from tensorflow.python.ops.nn_ops) with keep_prob is deprecated and will be removed in a future version.\n",
      "Instructions for updating:\n",
      "Please use `rate` instead of `keep_prob`. Rate should be set to `rate = 1 - keep_prob`.\n"
     ]
    },
    {
     "name": "stdout",
     "output_type": "stream",
     "text": [
      "WARNING:tensorflow:From /home/I342202/virtualenv_py3/lib/python3.5/site-packages/bert/optimization.py:27: The name tf.train.get_or_create_global_step is deprecated. Please use tf.compat.v1.train.get_or_create_global_step instead.\n",
      "\n"
     ]
    },
    {
     "name": "stderr",
     "output_type": "stream",
     "text": [
      "WARNING:tensorflow:From /home/I342202/virtualenv_py3/lib/python3.5/site-packages/bert/optimization.py:27: The name tf.train.get_or_create_global_step is deprecated. Please use tf.compat.v1.train.get_or_create_global_step instead.\n",
      "\n"
     ]
    },
    {
     "name": "stdout",
     "output_type": "stream",
     "text": [
      "WARNING:tensorflow:From /home/I342202/virtualenv_py3/lib/python3.5/site-packages/bert/optimization.py:32: The name tf.train.polynomial_decay is deprecated. Please use tf.compat.v1.train.polynomial_decay instead.\n",
      "\n"
     ]
    },
    {
     "name": "stderr",
     "output_type": "stream",
     "text": [
      "WARNING:tensorflow:From /home/I342202/virtualenv_py3/lib/python3.5/site-packages/bert/optimization.py:32: The name tf.train.polynomial_decay is deprecated. Please use tf.compat.v1.train.polynomial_decay instead.\n",
      "\n"
     ]
    },
    {
     "name": "stdout",
     "output_type": "stream",
     "text": [
      "WARNING:tensorflow:From /home/I342202/virtualenv_py3/lib/python3.5/site-packages/tensorflow/python/keras/optimizer_v2/learning_rate_schedule.py:409: div (from tensorflow.python.ops.math_ops) is deprecated and will be removed in a future version.\n",
      "Instructions for updating:\n",
      "Deprecated in favor of operator or tf.math.divide.\n"
     ]
    },
    {
     "name": "stderr",
     "output_type": "stream",
     "text": [
      "WARNING:tensorflow:From /home/I342202/virtualenv_py3/lib/python3.5/site-packages/tensorflow/python/keras/optimizer_v2/learning_rate_schedule.py:409: div (from tensorflow.python.ops.math_ops) is deprecated and will be removed in a future version.\n",
      "Instructions for updating:\n",
      "Deprecated in favor of operator or tf.math.divide.\n"
     ]
    },
    {
     "name": "stdout",
     "output_type": "stream",
     "text": [
      "WARNING:tensorflow:From /home/I342202/virtualenv_py3/lib/python3.5/site-packages/bert/optimization.py:70: The name tf.trainable_variables is deprecated. Please use tf.compat.v1.trainable_variables instead.\n",
      "\n"
     ]
    },
    {
     "name": "stderr",
     "output_type": "stream",
     "text": [
      "WARNING:tensorflow:From /home/I342202/virtualenv_py3/lib/python3.5/site-packages/bert/optimization.py:70: The name tf.trainable_variables is deprecated. Please use tf.compat.v1.trainable_variables instead.\n",
      "\n"
     ]
    },
    {
     "name": "stdout",
     "output_type": "stream",
     "text": [
      "WARNING:tensorflow:From /home/I342202/virtualenv_py3/lib/python3.5/site-packages/tensorflow/python/ops/math_grad.py:1205: add_dispatch_support.<locals>.wrapper (from tensorflow.python.ops.array_ops) is deprecated and will be removed in a future version.\n",
      "Instructions for updating:\n",
      "Use tf.where in 2.0, which has the same broadcast rule as np.where\n"
     ]
    },
    {
     "name": "stderr",
     "output_type": "stream",
     "text": [
      "WARNING:tensorflow:From /home/I342202/virtualenv_py3/lib/python3.5/site-packages/tensorflow/python/ops/math_grad.py:1205: add_dispatch_support.<locals>.wrapper (from tensorflow.python.ops.array_ops) is deprecated and will be removed in a future version.\n",
      "Instructions for updating:\n",
      "Use tf.where in 2.0, which has the same broadcast rule as np.where\n"
     ]
    },
    {
     "name": "stdout",
     "output_type": "stream",
     "text": [
      "WARNING:tensorflow:From /home/I342202/virtualenv_py3/lib/python3.5/site-packages/bert/optimization.py:117: The name tf.get_variable is deprecated. Please use tf.compat.v1.get_variable instead.\n",
      "\n"
     ]
    },
    {
     "name": "stderr",
     "output_type": "stream",
     "text": [
      "WARNING:tensorflow:From /home/I342202/virtualenv_py3/lib/python3.5/site-packages/bert/optimization.py:117: The name tf.get_variable is deprecated. Please use tf.compat.v1.get_variable instead.\n",
      "\n",
      "/home/I342202/virtualenv_py3/lib/python3.5/site-packages/tensorflow/python/ops/gradients_util.py:93: UserWarning: Converting sparse IndexedSlices to a dense Tensor of unknown shape. This may consume a large amount of memory.\n",
      "  \"Converting sparse IndexedSlices to a dense Tensor of unknown shape. \"\n"
     ]
    },
    {
     "name": "stdout",
     "output_type": "stream",
     "text": [
      "INFO:tensorflow:Done calling model_fn.\n"
     ]
    },
    {
     "name": "stderr",
     "output_type": "stream",
     "text": [
      "INFO:tensorflow:Done calling model_fn.\n"
     ]
    },
    {
     "name": "stdout",
     "output_type": "stream",
     "text": [
      "INFO:tensorflow:Create CheckpointSaverHook.\n"
     ]
    },
    {
     "name": "stderr",
     "output_type": "stream",
     "text": [
      "INFO:tensorflow:Create CheckpointSaverHook.\n"
     ]
    },
    {
     "name": "stdout",
     "output_type": "stream",
     "text": [
      "INFO:tensorflow:Graph was finalized.\n"
     ]
    },
    {
     "name": "stderr",
     "output_type": "stream",
     "text": [
      "INFO:tensorflow:Graph was finalized.\n"
     ]
    },
    {
     "name": "stdout",
     "output_type": "stream",
     "text": [
      "INFO:tensorflow:Running local_init_op.\n"
     ]
    },
    {
     "name": "stderr",
     "output_type": "stream",
     "text": [
      "INFO:tensorflow:Running local_init_op.\n"
     ]
    },
    {
     "name": "stdout",
     "output_type": "stream",
     "text": [
      "INFO:tensorflow:Done running local_init_op.\n"
     ]
    },
    {
     "name": "stderr",
     "output_type": "stream",
     "text": [
      "INFO:tensorflow:Done running local_init_op.\n"
     ]
    },
    {
     "name": "stdout",
     "output_type": "stream",
     "text": [
      "INFO:tensorflow:Saving checkpoints for 0 into ./output_based_on_private_model/bbc/model.ckpt.\n"
     ]
    },
    {
     "name": "stderr",
     "output_type": "stream",
     "text": [
      "INFO:tensorflow:Saving checkpoints for 0 into ./output_based_on_private_model/bbc/model.ckpt.\n"
     ]
    },
    {
     "name": "stdout",
     "output_type": "stream",
     "text": [
      "INFO:tensorflow:loss = 7.6226935, step = 1\n"
     ]
    },
    {
     "name": "stderr",
     "output_type": "stream",
     "text": [
      "INFO:tensorflow:loss = 7.6226935, step = 1\n"
     ]
    },
    {
     "name": "stdout",
     "output_type": "stream",
     "text": [
      "WARNING:tensorflow:It seems that global step (tf.train.get_global_step) has not been increased. Current value (could be stable): 11 vs previous value: 11. You could increase the global step by passing tf.train.get_global_step() to Optimizer.apply_gradients or Optimizer.minimize.\n"
     ]
    },
    {
     "name": "stderr",
     "output_type": "stream",
     "text": [
      "WARNING:tensorflow:It seems that global step (tf.train.get_global_step) has not been increased. Current value (could be stable): 11 vs previous value: 11. You could increase the global step by passing tf.train.get_global_step() to Optimizer.apply_gradients or Optimizer.minimize.\n"
     ]
    },
    {
     "name": "stdout",
     "output_type": "stream",
     "text": [
      "INFO:tensorflow:Saving checkpoints for 100 into ./output_based_on_private_model/bbc/model.ckpt.\n"
     ]
    },
    {
     "name": "stderr",
     "output_type": "stream",
     "text": [
      "INFO:tensorflow:Saving checkpoints for 100 into ./output_based_on_private_model/bbc/model.ckpt.\n"
     ]
    },
    {
     "name": "stdout",
     "output_type": "stream",
     "text": [
      "INFO:tensorflow:global_step/sec: 0.0947817\n"
     ]
    },
    {
     "name": "stderr",
     "output_type": "stream",
     "text": [
      "INFO:tensorflow:global_step/sec: 0.0947817\n"
     ]
    },
    {
     "name": "stdout",
     "output_type": "stream",
     "text": [
      "INFO:tensorflow:loss = 0.08171087, step = 101 (1055.062 sec)\n"
     ]
    },
    {
     "name": "stderr",
     "output_type": "stream",
     "text": [
      "INFO:tensorflow:loss = 0.08171087, step = 101 (1055.062 sec)\n"
     ]
    },
    {
     "name": "stdout",
     "output_type": "stream",
     "text": [
      "INFO:tensorflow:Saving checkpoints for 200 into ./output_based_on_private_model/bbc/model.ckpt.\n"
     ]
    },
    {
     "name": "stderr",
     "output_type": "stream",
     "text": [
      "INFO:tensorflow:Saving checkpoints for 200 into ./output_based_on_private_model/bbc/model.ckpt.\n"
     ]
    },
    {
     "name": "stdout",
     "output_type": "stream",
     "text": [
      "INFO:tensorflow:global_step/sec: 0.0961926\n"
     ]
    },
    {
     "name": "stderr",
     "output_type": "stream",
     "text": [
      "INFO:tensorflow:global_step/sec: 0.0961926\n"
     ]
    },
    {
     "name": "stdout",
     "output_type": "stream",
     "text": [
      "INFO:tensorflow:loss = 0.01232374, step = 201 (1039.578 sec)\n"
     ]
    },
    {
     "name": "stderr",
     "output_type": "stream",
     "text": [
      "INFO:tensorflow:loss = 0.01232374, step = 201 (1039.578 sec)\n"
     ]
    },
    {
     "name": "stdout",
     "output_type": "stream",
     "text": [
      "INFO:tensorflow:Saving checkpoints for 300 into ./output_based_on_private_model/bbc/model.ckpt.\n"
     ]
    },
    {
     "name": "stderr",
     "output_type": "stream",
     "text": [
      "INFO:tensorflow:Saving checkpoints for 300 into ./output_based_on_private_model/bbc/model.ckpt.\n"
     ]
    },
    {
     "name": "stdout",
     "output_type": "stream",
     "text": [
      "INFO:tensorflow:global_step/sec: 0.0965575\n"
     ]
    },
    {
     "name": "stderr",
     "output_type": "stream",
     "text": [
      "INFO:tensorflow:global_step/sec: 0.0965575\n"
     ]
    },
    {
     "name": "stdout",
     "output_type": "stream",
     "text": [
      "INFO:tensorflow:loss = 0.007597042, step = 301 (1035.652 sec)\n"
     ]
    },
    {
     "name": "stderr",
     "output_type": "stream",
     "text": [
      "INFO:tensorflow:loss = 0.007597042, step = 301 (1035.652 sec)\n"
     ]
    },
    {
     "name": "stdout",
     "output_type": "stream",
     "text": [
      "WARNING:tensorflow:It seems that global step (tf.train.get_global_step) has not been increased. Current value (could be stable): 301 vs previous value: 301. You could increase the global step by passing tf.train.get_global_step() to Optimizer.apply_gradients or Optimizer.minimize.\n"
     ]
    },
    {
     "name": "stderr",
     "output_type": "stream",
     "text": [
      "WARNING:tensorflow:It seems that global step (tf.train.get_global_step) has not been increased. Current value (could be stable): 301 vs previous value: 301. You could increase the global step by passing tf.train.get_global_step() to Optimizer.apply_gradients or Optimizer.minimize.\n"
     ]
    },
    {
     "name": "stdout",
     "output_type": "stream",
     "text": [
      "INFO:tensorflow:Saving checkpoints for 400 into ./output_based_on_private_model/bbc/model.ckpt.\n"
     ]
    },
    {
     "name": "stderr",
     "output_type": "stream",
     "text": [
      "INFO:tensorflow:Saving checkpoints for 400 into ./output_based_on_private_model/bbc/model.ckpt.\n"
     ]
    },
    {
     "name": "stdout",
     "output_type": "stream",
     "text": [
      "INFO:tensorflow:global_step/sec: 0.0963292\n"
     ]
    },
    {
     "name": "stderr",
     "output_type": "stream",
     "text": [
      "INFO:tensorflow:global_step/sec: 0.0963292\n"
     ]
    },
    {
     "name": "stdout",
     "output_type": "stream",
     "text": [
      "INFO:tensorflow:loss = 0.00611158, step = 401 (1038.106 sec)\n"
     ]
    },
    {
     "name": "stderr",
     "output_type": "stream",
     "text": [
      "INFO:tensorflow:loss = 0.00611158, step = 401 (1038.106 sec)\n"
     ]
    },
    {
     "name": "stdout",
     "output_type": "stream",
     "text": [
      "WARNING:tensorflow:It seems that global step (tf.train.get_global_step) has not been increased. Current value (could be stable): 478 vs previous value: 478. You could increase the global step by passing tf.train.get_global_step() to Optimizer.apply_gradients or Optimizer.minimize.\n"
     ]
    },
    {
     "name": "stderr",
     "output_type": "stream",
     "text": [
      "WARNING:tensorflow:It seems that global step (tf.train.get_global_step) has not been increased. Current value (could be stable): 478 vs previous value: 478. You could increase the global step by passing tf.train.get_global_step() to Optimizer.apply_gradients or Optimizer.minimize.\n"
     ]
    },
    {
     "name": "stdout",
     "output_type": "stream",
     "text": [
      "INFO:tensorflow:Saving checkpoints for 500 into ./output_based_on_private_model/bbc/model.ckpt.\n"
     ]
    },
    {
     "name": "stderr",
     "output_type": "stream",
     "text": [
      "INFO:tensorflow:Saving checkpoints for 500 into ./output_based_on_private_model/bbc/model.ckpt.\n"
     ]
    },
    {
     "name": "stdout",
     "output_type": "stream",
     "text": [
      "WARNING:tensorflow:From /home/I342202/virtualenv_py3/lib/python3.5/site-packages/tensorflow/python/training/saver.py:960: remove_checkpoint (from tensorflow.python.training.checkpoint_management) is deprecated and will be removed in a future version.\n",
      "Instructions for updating:\n",
      "Use standard file APIs to delete files with this prefix.\n"
     ]
    },
    {
     "name": "stderr",
     "output_type": "stream",
     "text": [
      "WARNING:tensorflow:From /home/I342202/virtualenv_py3/lib/python3.5/site-packages/tensorflow/python/training/saver.py:960: remove_checkpoint (from tensorflow.python.training.checkpoint_management) is deprecated and will be removed in a future version.\n",
      "Instructions for updating:\n",
      "Use standard file APIs to delete files with this prefix.\n"
     ]
    },
    {
     "name": "stdout",
     "output_type": "stream",
     "text": [
      "INFO:tensorflow:global_step/sec: 0.096636\n"
     ]
    },
    {
     "name": "stderr",
     "output_type": "stream",
     "text": [
      "INFO:tensorflow:global_step/sec: 0.096636\n"
     ]
    },
    {
     "name": "stdout",
     "output_type": "stream",
     "text": [
      "INFO:tensorflow:loss = 0.0054200483, step = 501 (1034.811 sec)\n"
     ]
    },
    {
     "name": "stderr",
     "output_type": "stream",
     "text": [
      "INFO:tensorflow:loss = 0.0054200483, step = 501 (1034.811 sec)\n"
     ]
    },
    {
     "name": "stdout",
     "output_type": "stream",
     "text": [
      "INFO:tensorflow:Saving checkpoints for 556 into ./output_based_on_private_model/bbc/model.ckpt.\n"
     ]
    },
    {
     "name": "stderr",
     "output_type": "stream",
     "text": [
      "INFO:tensorflow:Saving checkpoints for 556 into ./output_based_on_private_model/bbc/model.ckpt.\n"
     ]
    },
    {
     "name": "stdout",
     "output_type": "stream",
     "text": [
      "INFO:tensorflow:Loss for final step: 0.004494274.\n"
     ]
    },
    {
     "name": "stderr",
     "output_type": "stream",
     "text": [
      "INFO:tensorflow:Loss for final step: 0.004494274.\n"
     ]
    },
    {
     "name": "stdout",
     "output_type": "stream",
     "text": [
      "Training took time  1:37:40.456834\n"
     ]
    }
   ],
   "source": [
    "print('Beginning Training!')\n",
    "current_time = datetime.now()\n",
    "estimator.train(input_fn=train_input_fn, max_steps=num_train_steps)\n",
    "print(\"Training took time \", datetime.now() - current_time)"
   ]
  },
  {
   "cell_type": "code",
   "execution_count": 46,
   "metadata": {},
   "outputs": [],
   "source": [
    "test_input_fn = run_classifier.input_fn_builder(features=test_features,\n",
    "                                                seq_length=MAX_SEQ_LENGTH,\n",
    "                                                is_training=False,\n",
    "                                                drop_remainder=False)"
   ]
  },
  {
   "cell_type": "code",
   "execution_count": 47,
   "metadata": {},
   "outputs": [
    {
     "name": "stdout",
     "output_type": "stream",
     "text": [
      "INFO:tensorflow:Calling model_fn.\n"
     ]
    },
    {
     "name": "stderr",
     "output_type": "stream",
     "text": [
      "INFO:tensorflow:Calling model_fn.\n"
     ]
    },
    {
     "name": "stdout",
     "output_type": "stream",
     "text": [
      "INFO:tensorflow:****** Features ******\n"
     ]
    },
    {
     "name": "stderr",
     "output_type": "stream",
     "text": [
      "INFO:tensorflow:****** Features ******\n"
     ]
    },
    {
     "name": "stdout",
     "output_type": "stream",
     "text": [
      "INFO:tensorflow:name = input_ids, shape = (?, 128)\n"
     ]
    },
    {
     "name": "stderr",
     "output_type": "stream",
     "text": [
      "INFO:tensorflow:name = input_ids, shape = (?, 128)\n"
     ]
    },
    {
     "name": "stdout",
     "output_type": "stream",
     "text": [
      "INFO:tensorflow:name = input_mask, shape = (?, 128)\n"
     ]
    },
    {
     "name": "stderr",
     "output_type": "stream",
     "text": [
      "INFO:tensorflow:name = input_mask, shape = (?, 128)\n"
     ]
    },
    {
     "name": "stdout",
     "output_type": "stream",
     "text": [
      "INFO:tensorflow:name = label_ids, shape = (?,)\n"
     ]
    },
    {
     "name": "stderr",
     "output_type": "stream",
     "text": [
      "INFO:tensorflow:name = label_ids, shape = (?,)\n"
     ]
    },
    {
     "name": "stdout",
     "output_type": "stream",
     "text": [
      "INFO:tensorflow:name = segment_ids, shape = (?, 128)\n"
     ]
    },
    {
     "name": "stderr",
     "output_type": "stream",
     "text": [
      "INFO:tensorflow:name = segment_ids, shape = (?, 128)\n"
     ]
    },
    {
     "name": "stdout",
     "output_type": "stream",
     "text": [
      "INFO:tensorflow:Saver not created because there are no variables in the graph to restore\n"
     ]
    },
    {
     "name": "stderr",
     "output_type": "stream",
     "text": [
      "INFO:tensorflow:Saver not created because there are no variables in the graph to restore\n"
     ]
    },
    {
     "name": "stdout",
     "output_type": "stream",
     "text": [
      "INFO:tensorflow:Done calling model_fn.\n"
     ]
    },
    {
     "name": "stderr",
     "output_type": "stream",
     "text": [
      "INFO:tensorflow:Done calling model_fn.\n"
     ]
    },
    {
     "name": "stdout",
     "output_type": "stream",
     "text": [
      "INFO:tensorflow:Starting evaluation at 2019-09-04T13:31:42Z\n"
     ]
    },
    {
     "name": "stderr",
     "output_type": "stream",
     "text": [
      "INFO:tensorflow:Starting evaluation at 2019-09-04T13:31:42Z\n"
     ]
    },
    {
     "name": "stdout",
     "output_type": "stream",
     "text": [
      "INFO:tensorflow:Graph was finalized.\n"
     ]
    },
    {
     "name": "stderr",
     "output_type": "stream",
     "text": [
      "INFO:tensorflow:Graph was finalized.\n"
     ]
    },
    {
     "name": "stdout",
     "output_type": "stream",
     "text": [
      "WARNING:tensorflow:From /home/I342202/virtualenv_py3/lib/python3.5/site-packages/tensorflow/python/training/saver.py:1276: checkpoint_exists (from tensorflow.python.training.checkpoint_management) is deprecated and will be removed in a future version.\n",
      "Instructions for updating:\n",
      "Use standard file APIs to check for files with this prefix.\n"
     ]
    },
    {
     "name": "stderr",
     "output_type": "stream",
     "text": [
      "WARNING:tensorflow:From /home/I342202/virtualenv_py3/lib/python3.5/site-packages/tensorflow/python/training/saver.py:1276: checkpoint_exists (from tensorflow.python.training.checkpoint_management) is deprecated and will be removed in a future version.\n",
      "Instructions for updating:\n",
      "Use standard file APIs to check for files with this prefix.\n"
     ]
    },
    {
     "name": "stdout",
     "output_type": "stream",
     "text": [
      "INFO:tensorflow:Restoring parameters from ./output_based_on_private_model/bbc/model.ckpt-556\n"
     ]
    },
    {
     "name": "stderr",
     "output_type": "stream",
     "text": [
      "INFO:tensorflow:Restoring parameters from ./output_based_on_private_model/bbc/model.ckpt-556\n"
     ]
    },
    {
     "name": "stdout",
     "output_type": "stream",
     "text": [
      "INFO:tensorflow:Running local_init_op.\n"
     ]
    },
    {
     "name": "stderr",
     "output_type": "stream",
     "text": [
      "INFO:tensorflow:Running local_init_op.\n"
     ]
    },
    {
     "name": "stdout",
     "output_type": "stream",
     "text": [
      "INFO:tensorflow:Done running local_init_op.\n"
     ]
    },
    {
     "name": "stderr",
     "output_type": "stream",
     "text": [
      "INFO:tensorflow:Done running local_init_op.\n"
     ]
    },
    {
     "name": "stdout",
     "output_type": "stream",
     "text": [
      "INFO:tensorflow:Finished evaluation at 2019-09-04-13:32:41\n"
     ]
    },
    {
     "name": "stderr",
     "output_type": "stream",
     "text": [
      "INFO:tensorflow:Finished evaluation at 2019-09-04-13:32:41\n"
     ]
    },
    {
     "name": "stdout",
     "output_type": "stream",
     "text": [
      "INFO:tensorflow:Saving dict for global step 556: eval_accuracy = 0.2, eval_loss = 6.877123, global_step = 556, loss = 6.8728127\n"
     ]
    },
    {
     "name": "stderr",
     "output_type": "stream",
     "text": [
      "INFO:tensorflow:Saving dict for global step 556: eval_accuracy = 0.2, eval_loss = 6.877123, global_step = 556, loss = 6.8728127\n"
     ]
    },
    {
     "name": "stdout",
     "output_type": "stream",
     "text": [
      "INFO:tensorflow:Saving 'checkpoint_path' summary for global step 556: ./output_based_on_private_model/bbc/model.ckpt-556\n"
     ]
    },
    {
     "name": "stderr",
     "output_type": "stream",
     "text": [
      "INFO:tensorflow:Saving 'checkpoint_path' summary for global step 556: ./output_based_on_private_model/bbc/model.ckpt-556\n"
     ]
    },
    {
     "data": {
      "text/plain": [
       "{'eval_accuracy': 0.2,\n",
       " 'eval_loss': 6.877123,\n",
       " 'global_step': 556,\n",
       " 'loss': 6.8728127}"
      ]
     },
     "execution_count": 47,
     "metadata": {},
     "output_type": "execute_result"
    }
   ],
   "source": [
    "estimator.evaluate(input_fn=test_input_fn, steps=None)"
   ]
  },
  {
   "cell_type": "code",
   "execution_count": 48,
   "metadata": {},
   "outputs": [
    {
     "data": {
      "text/plain": [
       "['tech', 'entertainment', 'sport', 'business', 'politics']"
      ]
     },
     "execution_count": 48,
     "metadata": {},
     "output_type": "execute_result"
    }
   ],
   "source": [
    "train_labels_list"
   ]
  },
  {
   "cell_type": "code",
   "execution_count": 55,
   "metadata": {},
   "outputs": [],
   "source": [
    "def getPrediction(in_sentences):\n",
    "    label_list = ['tech', 'entertainment', 'sport', 'business', 'politics']\n",
    "    input_examples = [\n",
    "        run_classifier.InputExample(guid=\"\",\n",
    "                                    text_a=x,\n",
    "                                    text_b=None,\n",
    "                                    label=label_list[0]) for x in in_sentences\n",
    "    ]\n",
    "    input_features = run_classifier.convert_examples_to_features(\n",
    "        input_examples, label_list, MAX_SEQ_LENGTH, tokenizer)\n",
    "    predict_input_fn = run_classifier.input_fn_builder(\n",
    "        features=input_features,\n",
    "        seq_length=MAX_SEQ_LENGTH,\n",
    "        is_training=False,\n",
    "        drop_remainder=False)\n",
    "    predictions = estimator.predict(predict_input_fn)\n",
    "    return [(sentence, prediction['probabilities'], prediction['log_probs'],\n",
    "             label_list[prediction['predicted_labels']])\n",
    "            for sentence, prediction in zip(in_sentences, predictions)]"
   ]
  },
  {
   "cell_type": "code",
   "execution_count": 52,
   "metadata": {},
   "outputs": [],
   "source": [
    "pred_sentences = [\n",
    "    \"hobbit picture  four years away  lord of the rings director peter jackson has said that it will be up to four years before he starts work on a film version of the hobbit.  the oscar winner said on a visit to sydney there was a  desire  to make it  but not before lengthy negotiations.  i think it s gonna be a lot of lawyers sitting in a room trying to thrash out a deal before it will ever happen   said the new zealander. the rights to jrr tolkien s book are split between two major film studios. jackson  who is currently filming a remake of hollywood classic king kong  said he thought that the sale of mgm studios to the sony corporation would cast further uncertainty on the project. the 43-year-old was in the australian city to visit a lord of the rings exhibition  which has attracted 140 000 visitors since it opened in december.  the film-maker recently sued film company new line cinema for undisclosed damages over alleged withheld profits and lost revenue from the first part of the middle earth trilogy. the fellowship of the ring from 2001 went on to make worldwide profits of $291 million (£152 million). jackson is thought to have secured the most lucrative film directing deal in history to remake king kong  which is currently in production in wellington. the picture  which stars naomi watts and oscar winner adrien brody  is due to be released in december. jackson has also committed to making a film version of lovely bones  based on the best-selling book by alice sebold.\",\n",
    "    \"game firm holds  cast  auditions video game firm bioware is to hold open auditions for people to become cast members for future games.  the company  which makes role playing games such as knights of the old republic and neverwinter nights  is seeking people aged 18 to 99. the canada-based company says it was looking for  a wide variety of people to use as face models for characters . everyone chosen to appear in a video game will receive a performer s fee for the use of their image. the company is inviting people to come along to a shopping mall in west edmonton  alberta  on friday and saturday  bringing along a piece of photo identification.   there are hundreds and hundreds of characters in a typical bioware game   said shauna perry  bioware s audio and external resources producer.  those people live in any city and village and so we need ordinary people  people with interesting faces.  she added:  not everyone is a model in the world so we don t want just models in our games.  people chosen to appear in a game will have their head scanned in three dimensions. hundreds of photos of the person s head are taken so that a model of the head can be generated in 3d.  the 3d model will look exactly like the person - it s really quite incredible how detailed they are   said ms perry. she said chosen participants will have no control over how the image is used in a computer game.  we cannot give people any control over how the images are used.  but their face could be used in multiple games - so they could be the hero in one  the villain in another and just a merchant in a third.\",\n",
    "    \"clarke plans migrant point scheme anyone planning to move to the uk will have to pass a test to prove they can contribute to the country  home secretary charles clarke has said.  he is proposing a points system similar to australia s but would avoid the quota system planned by the tories. mr clarke  who will unveil his plans on monday  said economic migration helped the uk but  needed proper policing . the lib dems say they will look at his plans  but tory liam fox said his party offered a  clear choice  on the issue. the conservative party co-chairman said the british electorate had a choice between a labour government that had  done nothing for eight years and will not set a limit  on immigration and a tory one that would impose quotas.  the home secretary said  by 2008  he wanted everyone given a visa and entering the uk to have their fingerprints taken  to  ensure we can know everybody who is in the country . speaking on bbc one s breakfast with frost  he said  economic migrants are of great value to this country   but stressed that proper policing was needed to ensure that they do not become a  burden on society . he said:  we will establish a system ... which looks at the skills  talents and abilities of people seeking to come and work in this country  and ensures that when they come here they have a job and can contribute to the economy of the country.   the home secretary  whose five-year blueprint for immigration and asylum is expected to be published on monday  also rejected claims that the immigration debate encouraged bigotry.  the issue of who does come into this country  and whether they are entitled to be in this country  who does settle here  how we have border controls  is a perfectly legitimate aspect of public debate   he said. liberal democrat home affairs spokesman mark oaten said:  whilst it is good that labour has rejected the tory idea of quotas on asylum  the jury is still out on the home office s ability to deliver a fair and efficient asylum system.   mr howard has said britain should take its fair share of the world s  genuine refugees . but he claims the current asylum system is being abused - and with it britain s generosity. trevor phillips  chairman of the commission for racial equality  called on mr clarke to denounce the suggestion britain s hospitality was being tested by immigration.  tell that to the 44 000 doctors in the nhs and the 70 000 nurses without whom we would really see what pressure on the health service means   he said.  ditto the teachers  from south africa  australia  jamaica  who are reducing the sizes of our classes and schools.  the refugee council said mr howard s proposals would mean there would be no safe haven in the uk.\",\n",
    "    \"radcliffe will compete in london paula radcliffe will compete in the flora london marathon this year after deciding her schedule for 2005.  the 31-year-old won the race in 2002 on her marathon debut  defended her title 12 months later and will now seek a third title in the 17 april race.  it doesn t get any better than this for the 25th anniversary   said race director david bedford.  after announcing the greatest men s field ever we now have the greatest women s distance runner ever.  three years ago radcliffe smashed the women s world record in two hours 18 minutes 15 seconds.  the bedford star returned to london 12 months later  lowering her mixed-race world record of 2:17:18  which she set in chicago in october 2003  by one minute 53 secs. radcliffe s career took a setback when she failed to complete the olympic marathon and later dropped out of the athens 10 000m last august. but the 31-year-old bounced back to win the new york marathon in november. radcliffe  however  passed up the chance to go for the  big city  marathon grand slam. with wins in chicago  london and new york  only the boston marathon remains to be conquered but that takes place a day after london.  boston is definitely a race i want to do at some point  but london is very special to me   said radcliffe.  i don t pick races thinking about things like pressure. i pick the ones in my heart i really want to do.  i love the atmosphere  crowds and course and know it will always be a great quality race.  it is also the 25th anniversary this year which adds to the occasion.\"\n",
    "]"
   ]
  },
  {
   "cell_type": "code",
   "execution_count": 53,
   "metadata": {},
   "outputs": [
    {
     "data": {
      "text/plain": [
       "4"
      ]
     },
     "execution_count": 53,
     "metadata": {},
     "output_type": "execute_result"
    }
   ],
   "source": [
    "len(pred_sentences)"
   ]
  },
  {
   "cell_type": "code",
   "execution_count": 56,
   "metadata": {},
   "outputs": [
    {
     "name": "stdout",
     "output_type": "stream",
     "text": [
      "INFO:tensorflow:Writing example 0 of 4\n"
     ]
    },
    {
     "name": "stderr",
     "output_type": "stream",
     "text": [
      "INFO:tensorflow:Writing example 0 of 4\n"
     ]
    },
    {
     "name": "stdout",
     "output_type": "stream",
     "text": [
      "INFO:tensorflow:*** Example ***\n"
     ]
    },
    {
     "name": "stderr",
     "output_type": "stream",
     "text": [
      "INFO:tensorflow:*** Example ***\n"
     ]
    },
    {
     "name": "stdout",
     "output_type": "stream",
     "text": [
      "INFO:tensorflow:guid: \n"
     ]
    },
    {
     "name": "stderr",
     "output_type": "stream",
     "text": [
      "INFO:tensorflow:guid: \n"
     ]
    },
    {
     "name": "stdout",
     "output_type": "stream",
     "text": [
      "INFO:tensorflow:tokens: [CLS] ho ##bb ##it picture four years away lord of the rings director peter jackson has said that it will be up to four years before he starts work on a film version of the ho ##bb ##it . the oscar winner said on a visit to sydney there was a desire to make it but not before lengthy negotiations . i think it s gonna be a lot of lawyers sitting in a room trying to thrash out a deal before it will ever happen said the new zealand ##er . the rights to jr ##r tolkien s book are split between two major film studios . jackson who is currently filming a remake of hollywood classic king kong said he thought that the sale of [SEP]\n"
     ]
    },
    {
     "name": "stderr",
     "output_type": "stream",
     "text": [
      "INFO:tensorflow:tokens: [CLS] ho ##bb ##it picture four years away lord of the rings director peter jackson has said that it will be up to four years before he starts work on a film version of the ho ##bb ##it . the oscar winner said on a visit to sydney there was a desire to make it but not before lengthy negotiations . i think it s gonna be a lot of lawyers sitting in a room trying to thrash out a deal before it will ever happen said the new zealand ##er . the rights to jr ##r tolkien s book are split between two major film studios . jackson who is currently filming a remake of hollywood classic king kong said he thought that the sale of [SEP]\n"
     ]
    },
    {
     "name": "stdout",
     "output_type": "stream",
     "text": [
      "INFO:tensorflow:input_ids: 101 7570 10322 4183 3861 2176 2086 2185 2935 1997 1996 7635 2472 2848 4027 2038 2056 2008 2009 2097 2022 2039 2000 2176 2086 2077 2002 4627 2147 2006 1037 2143 2544 1997 1996 7570 10322 4183 1012 1996 7436 3453 2056 2006 1037 3942 2000 3994 2045 2001 1037 4792 2000 2191 2009 2021 2025 2077 12401 7776 1012 1045 2228 2009 1055 6069 2022 1037 2843 1997 9559 3564 1999 1037 2282 2667 2000 27042 2041 1037 3066 2077 2009 2097 2412 4148 2056 1996 2047 3414 2121 1012 1996 2916 2000 3781 2099 23602 1055 2338 2024 3975 2090 2048 2350 2143 4835 1012 4027 2040 2003 2747 7467 1037 12661 1997 5365 4438 2332 4290 2056 2002 2245 2008 1996 5096 1997 102\n"
     ]
    },
    {
     "name": "stderr",
     "output_type": "stream",
     "text": [
      "INFO:tensorflow:input_ids: 101 7570 10322 4183 3861 2176 2086 2185 2935 1997 1996 7635 2472 2848 4027 2038 2056 2008 2009 2097 2022 2039 2000 2176 2086 2077 2002 4627 2147 2006 1037 2143 2544 1997 1996 7570 10322 4183 1012 1996 7436 3453 2056 2006 1037 3942 2000 3994 2045 2001 1037 4792 2000 2191 2009 2021 2025 2077 12401 7776 1012 1045 2228 2009 1055 6069 2022 1037 2843 1997 9559 3564 1999 1037 2282 2667 2000 27042 2041 1037 3066 2077 2009 2097 2412 4148 2056 1996 2047 3414 2121 1012 1996 2916 2000 3781 2099 23602 1055 2338 2024 3975 2090 2048 2350 2143 4835 1012 4027 2040 2003 2747 7467 1037 12661 1997 5365 4438 2332 4290 2056 2002 2245 2008 1996 5096 1997 102\n"
     ]
    },
    {
     "name": "stdout",
     "output_type": "stream",
     "text": [
      "INFO:tensorflow:input_mask: 1 1 1 1 1 1 1 1 1 1 1 1 1 1 1 1 1 1 1 1 1 1 1 1 1 1 1 1 1 1 1 1 1 1 1 1 1 1 1 1 1 1 1 1 1 1 1 1 1 1 1 1 1 1 1 1 1 1 1 1 1 1 1 1 1 1 1 1 1 1 1 1 1 1 1 1 1 1 1 1 1 1 1 1 1 1 1 1 1 1 1 1 1 1 1 1 1 1 1 1 1 1 1 1 1 1 1 1 1 1 1 1 1 1 1 1 1 1 1 1 1 1 1 1 1 1 1 1\n"
     ]
    },
    {
     "name": "stderr",
     "output_type": "stream",
     "text": [
      "INFO:tensorflow:input_mask: 1 1 1 1 1 1 1 1 1 1 1 1 1 1 1 1 1 1 1 1 1 1 1 1 1 1 1 1 1 1 1 1 1 1 1 1 1 1 1 1 1 1 1 1 1 1 1 1 1 1 1 1 1 1 1 1 1 1 1 1 1 1 1 1 1 1 1 1 1 1 1 1 1 1 1 1 1 1 1 1 1 1 1 1 1 1 1 1 1 1 1 1 1 1 1 1 1 1 1 1 1 1 1 1 1 1 1 1 1 1 1 1 1 1 1 1 1 1 1 1 1 1 1 1 1 1 1 1\n"
     ]
    },
    {
     "name": "stdout",
     "output_type": "stream",
     "text": [
      "INFO:tensorflow:segment_ids: 0 0 0 0 0 0 0 0 0 0 0 0 0 0 0 0 0 0 0 0 0 0 0 0 0 0 0 0 0 0 0 0 0 0 0 0 0 0 0 0 0 0 0 0 0 0 0 0 0 0 0 0 0 0 0 0 0 0 0 0 0 0 0 0 0 0 0 0 0 0 0 0 0 0 0 0 0 0 0 0 0 0 0 0 0 0 0 0 0 0 0 0 0 0 0 0 0 0 0 0 0 0 0 0 0 0 0 0 0 0 0 0 0 0 0 0 0 0 0 0 0 0 0 0 0 0 0 0\n"
     ]
    },
    {
     "name": "stderr",
     "output_type": "stream",
     "text": [
      "INFO:tensorflow:segment_ids: 0 0 0 0 0 0 0 0 0 0 0 0 0 0 0 0 0 0 0 0 0 0 0 0 0 0 0 0 0 0 0 0 0 0 0 0 0 0 0 0 0 0 0 0 0 0 0 0 0 0 0 0 0 0 0 0 0 0 0 0 0 0 0 0 0 0 0 0 0 0 0 0 0 0 0 0 0 0 0 0 0 0 0 0 0 0 0 0 0 0 0 0 0 0 0 0 0 0 0 0 0 0 0 0 0 0 0 0 0 0 0 0 0 0 0 0 0 0 0 0 0 0 0 0 0 0 0 0\n"
     ]
    },
    {
     "name": "stdout",
     "output_type": "stream",
     "text": [
      "INFO:tensorflow:label: tech (id = 0)\n"
     ]
    },
    {
     "name": "stderr",
     "output_type": "stream",
     "text": [
      "INFO:tensorflow:label: tech (id = 0)\n"
     ]
    },
    {
     "name": "stdout",
     "output_type": "stream",
     "text": [
      "INFO:tensorflow:*** Example ***\n"
     ]
    },
    {
     "name": "stderr",
     "output_type": "stream",
     "text": [
      "INFO:tensorflow:*** Example ***\n"
     ]
    },
    {
     "name": "stdout",
     "output_type": "stream",
     "text": [
      "INFO:tensorflow:guid: \n"
     ]
    },
    {
     "name": "stderr",
     "output_type": "stream",
     "text": [
      "INFO:tensorflow:guid: \n"
     ]
    },
    {
     "name": "stdout",
     "output_type": "stream",
     "text": [
      "INFO:tensorflow:tokens: [CLS] game firm holds cast auditions video game firm bio ##ware is to hold open auditions for people to become cast members for future games . the company which makes role playing games such as knights of the old republic and never ##win ##ter nights is seeking people aged 18 to 99 . the canada - based company says it was looking for a wide variety of people to use as face models for characters . everyone chosen to appear in a video game will receive a performer s fee for the use of their image . the company is inviting people to come along to a shopping mall in west edmonton alberta on friday and saturday bringing along a piece of photo identification . there are [SEP]\n"
     ]
    },
    {
     "name": "stderr",
     "output_type": "stream",
     "text": [
      "INFO:tensorflow:tokens: [CLS] game firm holds cast auditions video game firm bio ##ware is to hold open auditions for people to become cast members for future games . the company which makes role playing games such as knights of the old republic and never ##win ##ter nights is seeking people aged 18 to 99 . the canada - based company says it was looking for a wide variety of people to use as face models for characters . everyone chosen to appear in a video game will receive a performer s fee for the use of their image . the company is inviting people to come along to a shopping mall in west edmonton alberta on friday and saturday bringing along a piece of photo identification . there are [SEP]\n"
     ]
    },
    {
     "name": "stdout",
     "output_type": "stream",
     "text": [
      "INFO:tensorflow:input_ids: 101 2208 3813 4324 3459 21732 2678 2208 3813 16012 8059 2003 2000 2907 2330 21732 2005 2111 2000 2468 3459 2372 2005 2925 2399 1012 1996 2194 2029 3084 2535 2652 2399 2107 2004 7307 1997 1996 2214 3072 1998 2196 10105 3334 6385 2003 6224 2111 4793 2324 2000 5585 1012 1996 2710 1011 2241 2194 2758 2009 2001 2559 2005 1037 2898 3528 1997 2111 2000 2224 2004 2227 4275 2005 3494 1012 3071 4217 2000 3711 1999 1037 2678 2208 2097 4374 1037 9256 1055 7408 2005 1996 2224 1997 2037 3746 1012 1996 2194 2003 15085 2111 2000 2272 2247 2000 1037 6023 6670 1999 2225 10522 7649 2006 5958 1998 5095 5026 2247 1037 3538 1997 6302 8720 1012 2045 2024 102\n"
     ]
    },
    {
     "name": "stderr",
     "output_type": "stream",
     "text": [
      "INFO:tensorflow:input_ids: 101 2208 3813 4324 3459 21732 2678 2208 3813 16012 8059 2003 2000 2907 2330 21732 2005 2111 2000 2468 3459 2372 2005 2925 2399 1012 1996 2194 2029 3084 2535 2652 2399 2107 2004 7307 1997 1996 2214 3072 1998 2196 10105 3334 6385 2003 6224 2111 4793 2324 2000 5585 1012 1996 2710 1011 2241 2194 2758 2009 2001 2559 2005 1037 2898 3528 1997 2111 2000 2224 2004 2227 4275 2005 3494 1012 3071 4217 2000 3711 1999 1037 2678 2208 2097 4374 1037 9256 1055 7408 2005 1996 2224 1997 2037 3746 1012 1996 2194 2003 15085 2111 2000 2272 2247 2000 1037 6023 6670 1999 2225 10522 7649 2006 5958 1998 5095 5026 2247 1037 3538 1997 6302 8720 1012 2045 2024 102\n"
     ]
    },
    {
     "name": "stdout",
     "output_type": "stream",
     "text": [
      "INFO:tensorflow:input_mask: 1 1 1 1 1 1 1 1 1 1 1 1 1 1 1 1 1 1 1 1 1 1 1 1 1 1 1 1 1 1 1 1 1 1 1 1 1 1 1 1 1 1 1 1 1 1 1 1 1 1 1 1 1 1 1 1 1 1 1 1 1 1 1 1 1 1 1 1 1 1 1 1 1 1 1 1 1 1 1 1 1 1 1 1 1 1 1 1 1 1 1 1 1 1 1 1 1 1 1 1 1 1 1 1 1 1 1 1 1 1 1 1 1 1 1 1 1 1 1 1 1 1 1 1 1 1 1 1\n"
     ]
    },
    {
     "name": "stderr",
     "output_type": "stream",
     "text": [
      "INFO:tensorflow:input_mask: 1 1 1 1 1 1 1 1 1 1 1 1 1 1 1 1 1 1 1 1 1 1 1 1 1 1 1 1 1 1 1 1 1 1 1 1 1 1 1 1 1 1 1 1 1 1 1 1 1 1 1 1 1 1 1 1 1 1 1 1 1 1 1 1 1 1 1 1 1 1 1 1 1 1 1 1 1 1 1 1 1 1 1 1 1 1 1 1 1 1 1 1 1 1 1 1 1 1 1 1 1 1 1 1 1 1 1 1 1 1 1 1 1 1 1 1 1 1 1 1 1 1 1 1 1 1 1 1\n"
     ]
    },
    {
     "name": "stdout",
     "output_type": "stream",
     "text": [
      "INFO:tensorflow:segment_ids: 0 0 0 0 0 0 0 0 0 0 0 0 0 0 0 0 0 0 0 0 0 0 0 0 0 0 0 0 0 0 0 0 0 0 0 0 0 0 0 0 0 0 0 0 0 0 0 0 0 0 0 0 0 0 0 0 0 0 0 0 0 0 0 0 0 0 0 0 0 0 0 0 0 0 0 0 0 0 0 0 0 0 0 0 0 0 0 0 0 0 0 0 0 0 0 0 0 0 0 0 0 0 0 0 0 0 0 0 0 0 0 0 0 0 0 0 0 0 0 0 0 0 0 0 0 0 0 0\n"
     ]
    },
    {
     "name": "stderr",
     "output_type": "stream",
     "text": [
      "INFO:tensorflow:segment_ids: 0 0 0 0 0 0 0 0 0 0 0 0 0 0 0 0 0 0 0 0 0 0 0 0 0 0 0 0 0 0 0 0 0 0 0 0 0 0 0 0 0 0 0 0 0 0 0 0 0 0 0 0 0 0 0 0 0 0 0 0 0 0 0 0 0 0 0 0 0 0 0 0 0 0 0 0 0 0 0 0 0 0 0 0 0 0 0 0 0 0 0 0 0 0 0 0 0 0 0 0 0 0 0 0 0 0 0 0 0 0 0 0 0 0 0 0 0 0 0 0 0 0 0 0 0 0 0 0\n"
     ]
    },
    {
     "name": "stdout",
     "output_type": "stream",
     "text": [
      "INFO:tensorflow:label: tech (id = 0)\n"
     ]
    },
    {
     "name": "stderr",
     "output_type": "stream",
     "text": [
      "INFO:tensorflow:label: tech (id = 0)\n"
     ]
    },
    {
     "name": "stdout",
     "output_type": "stream",
     "text": [
      "INFO:tensorflow:*** Example ***\n"
     ]
    },
    {
     "name": "stderr",
     "output_type": "stream",
     "text": [
      "INFO:tensorflow:*** Example ***\n"
     ]
    },
    {
     "name": "stdout",
     "output_type": "stream",
     "text": [
      "INFO:tensorflow:guid: \n"
     ]
    },
    {
     "name": "stderr",
     "output_type": "stream",
     "text": [
      "INFO:tensorflow:guid: \n"
     ]
    },
    {
     "name": "stdout",
     "output_type": "stream",
     "text": [
      "INFO:tensorflow:tokens: [CLS] clarke plans migrant point scheme anyone planning to move to the uk will have to pass a test to prove they can contribute to the country home secretary charles clarke has said . he is proposing a points system similar to australia s but would avoid the quota system planned by the tori ##es . mr clarke who will un ##ve ##il his plans on monday said economic migration helped the uk but needed proper policing . the li ##b dem ##s say they will look at his plans but tory liam fox said his party offered a clear choice on the issue . the conservative party co - chairman said the british electorate had a choice between a labour government that had done nothing for [SEP]\n"
     ]
    },
    {
     "name": "stderr",
     "output_type": "stream",
     "text": [
      "INFO:tensorflow:tokens: [CLS] clarke plans migrant point scheme anyone planning to move to the uk will have to pass a test to prove they can contribute to the country home secretary charles clarke has said . he is proposing a points system similar to australia s but would avoid the quota system planned by the tori ##es . mr clarke who will un ##ve ##il his plans on monday said economic migration helped the uk but needed proper policing . the li ##b dem ##s say they will look at his plans but tory liam fox said his party offered a clear choice on the issue . the conservative party co - chairman said the british electorate had a choice between a labour government that had done nothing for [SEP]\n"
     ]
    },
    {
     "name": "stdout",
     "output_type": "stream",
     "text": [
      "INFO:tensorflow:input_ids: 101 8359 3488 20731 2391 5679 3087 4041 2000 2693 2000 1996 2866 2097 2031 2000 3413 1037 3231 2000 6011 2027 2064 9002 2000 1996 2406 2188 3187 2798 8359 2038 2056 1012 2002 2003 21991 1037 2685 2291 2714 2000 2660 1055 2021 2052 4468 1996 20563 2291 3740 2011 1996 23413 2229 1012 2720 8359 2040 2097 4895 3726 4014 2010 3488 2006 6928 2056 3171 9230 3271 1996 2866 2021 2734 5372 21107 1012 1996 5622 2497 17183 2015 2360 2027 2097 2298 2012 2010 3488 2021 17117 8230 4419 2056 2010 2283 3253 1037 3154 3601 2006 1996 3277 1012 1996 4603 2283 2522 1011 3472 2056 1996 2329 13694 2018 1037 3601 2090 1037 4428 2231 2008 2018 2589 2498 2005 102\n"
     ]
    },
    {
     "name": "stderr",
     "output_type": "stream",
     "text": [
      "INFO:tensorflow:input_ids: 101 8359 3488 20731 2391 5679 3087 4041 2000 2693 2000 1996 2866 2097 2031 2000 3413 1037 3231 2000 6011 2027 2064 9002 2000 1996 2406 2188 3187 2798 8359 2038 2056 1012 2002 2003 21991 1037 2685 2291 2714 2000 2660 1055 2021 2052 4468 1996 20563 2291 3740 2011 1996 23413 2229 1012 2720 8359 2040 2097 4895 3726 4014 2010 3488 2006 6928 2056 3171 9230 3271 1996 2866 2021 2734 5372 21107 1012 1996 5622 2497 17183 2015 2360 2027 2097 2298 2012 2010 3488 2021 17117 8230 4419 2056 2010 2283 3253 1037 3154 3601 2006 1996 3277 1012 1996 4603 2283 2522 1011 3472 2056 1996 2329 13694 2018 1037 3601 2090 1037 4428 2231 2008 2018 2589 2498 2005 102\n"
     ]
    },
    {
     "name": "stdout",
     "output_type": "stream",
     "text": [
      "INFO:tensorflow:input_mask: 1 1 1 1 1 1 1 1 1 1 1 1 1 1 1 1 1 1 1 1 1 1 1 1 1 1 1 1 1 1 1 1 1 1 1 1 1 1 1 1 1 1 1 1 1 1 1 1 1 1 1 1 1 1 1 1 1 1 1 1 1 1 1 1 1 1 1 1 1 1 1 1 1 1 1 1 1 1 1 1 1 1 1 1 1 1 1 1 1 1 1 1 1 1 1 1 1 1 1 1 1 1 1 1 1 1 1 1 1 1 1 1 1 1 1 1 1 1 1 1 1 1 1 1 1 1 1 1\n"
     ]
    },
    {
     "name": "stderr",
     "output_type": "stream",
     "text": [
      "INFO:tensorflow:input_mask: 1 1 1 1 1 1 1 1 1 1 1 1 1 1 1 1 1 1 1 1 1 1 1 1 1 1 1 1 1 1 1 1 1 1 1 1 1 1 1 1 1 1 1 1 1 1 1 1 1 1 1 1 1 1 1 1 1 1 1 1 1 1 1 1 1 1 1 1 1 1 1 1 1 1 1 1 1 1 1 1 1 1 1 1 1 1 1 1 1 1 1 1 1 1 1 1 1 1 1 1 1 1 1 1 1 1 1 1 1 1 1 1 1 1 1 1 1 1 1 1 1 1 1 1 1 1 1 1\n"
     ]
    },
    {
     "name": "stdout",
     "output_type": "stream",
     "text": [
      "INFO:tensorflow:segment_ids: 0 0 0 0 0 0 0 0 0 0 0 0 0 0 0 0 0 0 0 0 0 0 0 0 0 0 0 0 0 0 0 0 0 0 0 0 0 0 0 0 0 0 0 0 0 0 0 0 0 0 0 0 0 0 0 0 0 0 0 0 0 0 0 0 0 0 0 0 0 0 0 0 0 0 0 0 0 0 0 0 0 0 0 0 0 0 0 0 0 0 0 0 0 0 0 0 0 0 0 0 0 0 0 0 0 0 0 0 0 0 0 0 0 0 0 0 0 0 0 0 0 0 0 0 0 0 0 0\n"
     ]
    },
    {
     "name": "stderr",
     "output_type": "stream",
     "text": [
      "INFO:tensorflow:segment_ids: 0 0 0 0 0 0 0 0 0 0 0 0 0 0 0 0 0 0 0 0 0 0 0 0 0 0 0 0 0 0 0 0 0 0 0 0 0 0 0 0 0 0 0 0 0 0 0 0 0 0 0 0 0 0 0 0 0 0 0 0 0 0 0 0 0 0 0 0 0 0 0 0 0 0 0 0 0 0 0 0 0 0 0 0 0 0 0 0 0 0 0 0 0 0 0 0 0 0 0 0 0 0 0 0 0 0 0 0 0 0 0 0 0 0 0 0 0 0 0 0 0 0 0 0 0 0 0 0\n"
     ]
    },
    {
     "name": "stdout",
     "output_type": "stream",
     "text": [
      "INFO:tensorflow:label: tech (id = 0)\n"
     ]
    },
    {
     "name": "stderr",
     "output_type": "stream",
     "text": [
      "INFO:tensorflow:label: tech (id = 0)\n"
     ]
    },
    {
     "name": "stdout",
     "output_type": "stream",
     "text": [
      "INFO:tensorflow:*** Example ***\n"
     ]
    },
    {
     "name": "stderr",
     "output_type": "stream",
     "text": [
      "INFO:tensorflow:*** Example ***\n"
     ]
    },
    {
     "name": "stdout",
     "output_type": "stream",
     "text": [
      "INFO:tensorflow:guid: \n"
     ]
    },
    {
     "name": "stderr",
     "output_type": "stream",
     "text": [
      "INFO:tensorflow:guid: \n"
     ]
    },
    {
     "name": "stdout",
     "output_type": "stream",
     "text": [
      "INFO:tensorflow:tokens: [CLS] radcliffe will compete in london paula radcliffe will compete in the flora london marathon this year after deciding her schedule for 2005 . the 31 - year - old won the race in 2002 on her marathon debut defended her title 12 months later and will now seek a third title in the 17 april race . it doesn t get any better than this for the 25th anniversary said race director david bedford . after announcing the greatest men s field ever we now have the greatest women s distance runner ever . three years ago radcliffe smashed the women s world record in two hours 18 minutes 15 seconds . the bedford star returned to london 12 months later lowering her mixed - race [SEP]\n"
     ]
    },
    {
     "name": "stderr",
     "output_type": "stream",
     "text": [
      "INFO:tensorflow:tokens: [CLS] radcliffe will compete in london paula radcliffe will compete in the flora london marathon this year after deciding her schedule for 2005 . the 31 - year - old won the race in 2002 on her marathon debut defended her title 12 months later and will now seek a third title in the 17 april race . it doesn t get any better than this for the 25th anniversary said race director david bedford . after announcing the greatest men s field ever we now have the greatest women s distance runner ever . three years ago radcliffe smashed the women s world record in two hours 18 minutes 15 seconds . the bedford star returned to london 12 months later lowering her mixed - race [SEP]\n"
     ]
    },
    {
     "name": "stdout",
     "output_type": "stream",
     "text": [
      "INFO:tensorflow:input_ids: 101 22603 2097 5566 1999 2414 13723 22603 2097 5566 1999 1996 10088 2414 8589 2023 2095 2044 10561 2014 6134 2005 2384 1012 1996 2861 1011 2095 1011 2214 2180 1996 2679 1999 2526 2006 2014 8589 2834 8047 2014 2516 2260 2706 2101 1998 2097 2085 6148 1037 2353 2516 1999 1996 2459 2258 2679 1012 2009 2987 1056 2131 2151 2488 2084 2023 2005 1996 10965 5315 2056 2679 2472 2585 12003 1012 2044 13856 1996 4602 2273 1055 2492 2412 2057 2085 2031 1996 4602 2308 1055 3292 5479 2412 1012 2093 2086 3283 22603 14368 1996 2308 1055 2088 2501 1999 2048 2847 2324 2781 2321 3823 1012 1996 12003 2732 2513 2000 2414 2260 2706 2101 13845 2014 3816 1011 2679 102\n"
     ]
    },
    {
     "name": "stderr",
     "output_type": "stream",
     "text": [
      "INFO:tensorflow:input_ids: 101 22603 2097 5566 1999 2414 13723 22603 2097 5566 1999 1996 10088 2414 8589 2023 2095 2044 10561 2014 6134 2005 2384 1012 1996 2861 1011 2095 1011 2214 2180 1996 2679 1999 2526 2006 2014 8589 2834 8047 2014 2516 2260 2706 2101 1998 2097 2085 6148 1037 2353 2516 1999 1996 2459 2258 2679 1012 2009 2987 1056 2131 2151 2488 2084 2023 2005 1996 10965 5315 2056 2679 2472 2585 12003 1012 2044 13856 1996 4602 2273 1055 2492 2412 2057 2085 2031 1996 4602 2308 1055 3292 5479 2412 1012 2093 2086 3283 22603 14368 1996 2308 1055 2088 2501 1999 2048 2847 2324 2781 2321 3823 1012 1996 12003 2732 2513 2000 2414 2260 2706 2101 13845 2014 3816 1011 2679 102\n"
     ]
    },
    {
     "name": "stdout",
     "output_type": "stream",
     "text": [
      "INFO:tensorflow:input_mask: 1 1 1 1 1 1 1 1 1 1 1 1 1 1 1 1 1 1 1 1 1 1 1 1 1 1 1 1 1 1 1 1 1 1 1 1 1 1 1 1 1 1 1 1 1 1 1 1 1 1 1 1 1 1 1 1 1 1 1 1 1 1 1 1 1 1 1 1 1 1 1 1 1 1 1 1 1 1 1 1 1 1 1 1 1 1 1 1 1 1 1 1 1 1 1 1 1 1 1 1 1 1 1 1 1 1 1 1 1 1 1 1 1 1 1 1 1 1 1 1 1 1 1 1 1 1 1 1\n"
     ]
    },
    {
     "name": "stderr",
     "output_type": "stream",
     "text": [
      "INFO:tensorflow:input_mask: 1 1 1 1 1 1 1 1 1 1 1 1 1 1 1 1 1 1 1 1 1 1 1 1 1 1 1 1 1 1 1 1 1 1 1 1 1 1 1 1 1 1 1 1 1 1 1 1 1 1 1 1 1 1 1 1 1 1 1 1 1 1 1 1 1 1 1 1 1 1 1 1 1 1 1 1 1 1 1 1 1 1 1 1 1 1 1 1 1 1 1 1 1 1 1 1 1 1 1 1 1 1 1 1 1 1 1 1 1 1 1 1 1 1 1 1 1 1 1 1 1 1 1 1 1 1 1 1\n"
     ]
    },
    {
     "name": "stdout",
     "output_type": "stream",
     "text": [
      "INFO:tensorflow:segment_ids: 0 0 0 0 0 0 0 0 0 0 0 0 0 0 0 0 0 0 0 0 0 0 0 0 0 0 0 0 0 0 0 0 0 0 0 0 0 0 0 0 0 0 0 0 0 0 0 0 0 0 0 0 0 0 0 0 0 0 0 0 0 0 0 0 0 0 0 0 0 0 0 0 0 0 0 0 0 0 0 0 0 0 0 0 0 0 0 0 0 0 0 0 0 0 0 0 0 0 0 0 0 0 0 0 0 0 0 0 0 0 0 0 0 0 0 0 0 0 0 0 0 0 0 0 0 0 0 0\n"
     ]
    },
    {
     "name": "stderr",
     "output_type": "stream",
     "text": [
      "INFO:tensorflow:segment_ids: 0 0 0 0 0 0 0 0 0 0 0 0 0 0 0 0 0 0 0 0 0 0 0 0 0 0 0 0 0 0 0 0 0 0 0 0 0 0 0 0 0 0 0 0 0 0 0 0 0 0 0 0 0 0 0 0 0 0 0 0 0 0 0 0 0 0 0 0 0 0 0 0 0 0 0 0 0 0 0 0 0 0 0 0 0 0 0 0 0 0 0 0 0 0 0 0 0 0 0 0 0 0 0 0 0 0 0 0 0 0 0 0 0 0 0 0 0 0 0 0 0 0 0 0 0 0 0 0\n"
     ]
    },
    {
     "name": "stdout",
     "output_type": "stream",
     "text": [
      "INFO:tensorflow:label: tech (id = 0)\n"
     ]
    },
    {
     "name": "stderr",
     "output_type": "stream",
     "text": [
      "INFO:tensorflow:label: tech (id = 0)\n"
     ]
    },
    {
     "name": "stdout",
     "output_type": "stream",
     "text": [
      "INFO:tensorflow:Calling model_fn.\n"
     ]
    },
    {
     "name": "stderr",
     "output_type": "stream",
     "text": [
      "INFO:tensorflow:Calling model_fn.\n"
     ]
    },
    {
     "name": "stdout",
     "output_type": "stream",
     "text": [
      "INFO:tensorflow:****** Features ******\n"
     ]
    },
    {
     "name": "stderr",
     "output_type": "stream",
     "text": [
      "INFO:tensorflow:****** Features ******\n"
     ]
    },
    {
     "name": "stdout",
     "output_type": "stream",
     "text": [
      "INFO:tensorflow:name = input_ids, shape = (?, 128)\n"
     ]
    },
    {
     "name": "stderr",
     "output_type": "stream",
     "text": [
      "INFO:tensorflow:name = input_ids, shape = (?, 128)\n"
     ]
    },
    {
     "name": "stdout",
     "output_type": "stream",
     "text": [
      "INFO:tensorflow:name = input_mask, shape = (?, 128)\n"
     ]
    },
    {
     "name": "stderr",
     "output_type": "stream",
     "text": [
      "INFO:tensorflow:name = input_mask, shape = (?, 128)\n"
     ]
    },
    {
     "name": "stdout",
     "output_type": "stream",
     "text": [
      "INFO:tensorflow:name = label_ids, shape = (?,)\n"
     ]
    },
    {
     "name": "stderr",
     "output_type": "stream",
     "text": [
      "INFO:tensorflow:name = label_ids, shape = (?,)\n"
     ]
    },
    {
     "name": "stdout",
     "output_type": "stream",
     "text": [
      "INFO:tensorflow:name = segment_ids, shape = (?, 128)\n"
     ]
    },
    {
     "name": "stderr",
     "output_type": "stream",
     "text": [
      "INFO:tensorflow:name = segment_ids, shape = (?, 128)\n"
     ]
    },
    {
     "name": "stdout",
     "output_type": "stream",
     "text": [
      "INFO:tensorflow:Saver not created because there are no variables in the graph to restore\n"
     ]
    },
    {
     "name": "stderr",
     "output_type": "stream",
     "text": [
      "INFO:tensorflow:Saver not created because there are no variables in the graph to restore\n"
     ]
    },
    {
     "name": "stdout",
     "output_type": "stream",
     "text": [
      "INFO:tensorflow:Done calling model_fn.\n"
     ]
    },
    {
     "name": "stderr",
     "output_type": "stream",
     "text": [
      "INFO:tensorflow:Done calling model_fn.\n"
     ]
    },
    {
     "name": "stdout",
     "output_type": "stream",
     "text": [
      "INFO:tensorflow:Graph was finalized.\n"
     ]
    },
    {
     "name": "stderr",
     "output_type": "stream",
     "text": [
      "INFO:tensorflow:Graph was finalized.\n"
     ]
    },
    {
     "name": "stdout",
     "output_type": "stream",
     "text": [
      "INFO:tensorflow:Restoring parameters from ./output_based_on_private_model/bbc/model.ckpt-556\n"
     ]
    },
    {
     "name": "stderr",
     "output_type": "stream",
     "text": [
      "INFO:tensorflow:Restoring parameters from ./output_based_on_private_model/bbc/model.ckpt-556\n"
     ]
    },
    {
     "name": "stdout",
     "output_type": "stream",
     "text": [
      "INFO:tensorflow:Running local_init_op.\n"
     ]
    },
    {
     "name": "stderr",
     "output_type": "stream",
     "text": [
      "INFO:tensorflow:Running local_init_op.\n"
     ]
    },
    {
     "name": "stdout",
     "output_type": "stream",
     "text": [
      "INFO:tensorflow:Done running local_init_op.\n"
     ]
    },
    {
     "name": "stderr",
     "output_type": "stream",
     "text": [
      "INFO:tensorflow:Done running local_init_op.\n"
     ]
    }
   ],
   "source": [
    "predictions = getPrediction(pred_sentences)"
   ]
  },
  {
   "cell_type": "code",
   "execution_count": 57,
   "metadata": {},
   "outputs": [
    {
     "data": {
      "text/plain": [
       "[('hobbit picture  four years away  lord of the rings director peter jackson has said that it will be up to four years before he starts work on a film version of the hobbit.  the oscar winner said on a visit to sydney there was a  desire  to make it  but not before lengthy negotiations.  i think it s gonna be a lot of lawyers sitting in a room trying to thrash out a deal before it will ever happen   said the new zealander. the rights to jrr tolkien s book are split between two major film studios. jackson  who is currently filming a remake of hollywood classic king kong  said he thought that the sale of mgm studios to the sony corporation would cast further uncertainty on the project. the 43-year-old was in the australian city to visit a lord of the rings exhibition  which has attracted 140 000 visitors since it opened in december.  the film-maker recently sued film company new line cinema for undisclosed damages over alleged withheld profits and lost revenue from the first part of the middle earth trilogy. the fellowship of the ring from 2001 went on to make worldwide profits of $291 million (£152 million). jackson is thought to have secured the most lucrative film directing deal in history to remake king kong  which is currently in production in wellington. the picture  which stars naomi watts and oscar winner adrien brody  is due to be released in december. jackson has also committed to making a film version of lovely bones  based on the best-selling book by alice sebold.',\n",
       "  array([5.2897597e-04, 9.9585873e-01, 2.2367171e-04, ..., 1.6634430e-06,\n",
       "         1.8607926e-06, 1.8829479e-06], dtype=float32),\n",
       "  array([-7.5445676e+00, -4.1498742e-03, -8.4053307e+00, ...,\n",
       "         -1.3306621e+01, -1.3194508e+01, -1.3182672e+01], dtype=float32),\n",
       "  'entertainment'),\n",
       " ('game firm holds  cast  auditions video game firm bioware is to hold open auditions for people to become cast members for future games.  the company  which makes role playing games such as knights of the old republic and neverwinter nights  is seeking people aged 18 to 99. the canada-based company says it was looking for  a wide variety of people to use as face models for characters . everyone chosen to appear in a video game will receive a performer s fee for the use of their image. the company is inviting people to come along to a shopping mall in west edmonton  alberta  on friday and saturday  bringing along a piece of photo identification.   there are hundreds and hundreds of characters in a typical bioware game   said shauna perry  bioware s audio and external resources producer.  those people live in any city and village and so we need ordinary people  people with interesting faces.  she added:  not everyone is a model in the world so we don t want just models in our games.  people chosen to appear in a game will have their head scanned in three dimensions. hundreds of photos of the person s head are taken so that a model of the head can be generated in 3d.  the 3d model will look exactly like the person - it s really quite incredible how detailed they are   said ms perry. she said chosen participants will have no control over how the image is used in a computer game.  we cannot give people any control over how the images are used.  but their face could be used in multiple games - so they could be the hero in one  the villain in another and just a merchant in a third.',\n",
       "  array([9.9253243e-01, 2.0272797e-03, 2.2719226e-04, ..., 3.2197941e-06,\n",
       "         2.0223629e-06, 1.4867510e-06], dtype=float32),\n",
       "  array([-7.49561284e-03, -6.20106030e+00, -8.38971424e+00, ...,\n",
       "         -1.26461935e+01, -1.31112442e+01, -1.34189177e+01], dtype=float32),\n",
       "  'tech'),\n",
       " ('clarke plans migrant point scheme anyone planning to move to the uk will have to pass a test to prove they can contribute to the country  home secretary charles clarke has said.  he is proposing a points system similar to australia s but would avoid the quota system planned by the tories. mr clarke  who will unveil his plans on monday  said economic migration helped the uk but  needed proper policing . the lib dems say they will look at his plans  but tory liam fox said his party offered a  clear choice  on the issue. the conservative party co-chairman said the british electorate had a choice between a labour government that had  done nothing for eight years and will not set a limit  on immigration and a tory one that would impose quotas.  the home secretary said  by 2008  he wanted everyone given a visa and entering the uk to have their fingerprints taken  to  ensure we can know everybody who is in the country . speaking on bbc one s breakfast with frost  he said  economic migrants are of great value to this country   but stressed that proper policing was needed to ensure that they do not become a  burden on society . he said:  we will establish a system ... which looks at the skills  talents and abilities of people seeking to come and work in this country  and ensures that when they come here they have a job and can contribute to the economy of the country.   the home secretary  whose five-year blueprint for immigration and asylum is expected to be published on monday  also rejected claims that the immigration debate encouraged bigotry.  the issue of who does come into this country  and whether they are entitled to be in this country  who does settle here  how we have border controls  is a perfectly legitimate aspect of public debate   he said. liberal democrat home affairs spokesman mark oaten said:  whilst it is good that labour has rejected the tory idea of quotas on asylum  the jury is still out on the home office s ability to deliver a fair and efficient asylum system.   mr howard has said britain should take its fair share of the world s  genuine refugees . but he claims the current asylum system is being abused - and with it britain s generosity. trevor phillips  chairman of the commission for racial equality  called on mr clarke to denounce the suggestion britain s hospitality was being tested by immigration.  tell that to the 44 000 doctors in the nhs and the 70 000 nurses without whom we would really see what pressure on the health service means   he said.  ditto the teachers  from south africa  australia  jamaica  who are reducing the sizes of our classes and schools.  the refugee council said mr howard s proposals would mean there would be no safe haven in the uk.',\n",
       "  array([2.2608574e-04, 6.4306500e-05, 1.9101161e-04, ..., 2.3967752e-06,\n",
       "         1.5180168e-06, 1.4513171e-06], dtype=float32),\n",
       "  array([ -8.394596,  -9.65185 ,  -8.563176, ..., -12.941386, -13.398106,\n",
       "         -13.443039], dtype=float32),\n",
       "  'politics'),\n",
       " ('radcliffe will compete in london paula radcliffe will compete in the flora london marathon this year after deciding her schedule for 2005.  the 31-year-old won the race in 2002 on her marathon debut  defended her title 12 months later and will now seek a third title in the 17 april race.  it doesn t get any better than this for the 25th anniversary   said race director david bedford.  after announcing the greatest men s field ever we now have the greatest women s distance runner ever.  three years ago radcliffe smashed the women s world record in two hours 18 minutes 15 seconds.  the bedford star returned to london 12 months later  lowering her mixed-race world record of 2:17:18  which she set in chicago in october 2003  by one minute 53 secs. radcliffe s career took a setback when she failed to complete the olympic marathon and later dropped out of the athens 10 000m last august. but the 31-year-old bounced back to win the new york marathon in november. radcliffe  however  passed up the chance to go for the  big city  marathon grand slam. with wins in chicago  london and new york  only the boston marathon remains to be conquered but that takes place a day after london.  boston is definitely a race i want to do at some point  but london is very special to me   said radcliffe.  i don t pick races thinking about things like pressure. i pick the ones in my heart i really want to do.  i love the atmosphere  crowds and course and know it will always be a great quality race.  it is also the 25th anniversary this year which adds to the occasion.',\n",
       "  array([3.3501834e-05, 1.1134153e-04, 9.9692708e-01, ..., 8.9653241e-07,\n",
       "         1.1957966e-06, 1.3858565e-06], dtype=float32),\n",
       "  array([-1.0303910e+01, -9.1029081e+00, -3.0776537e-03, ...,\n",
       "         -1.3924731e+01, -1.3636698e+01, -1.3489192e+01], dtype=float32),\n",
       "  'sport')]"
      ]
     },
     "execution_count": 57,
     "metadata": {},
     "output_type": "execute_result"
    }
   ],
   "source": [
    "predictions"
   ]
  },
  {
   "cell_type": "code",
   "execution_count": 65,
   "metadata": {},
   "outputs": [],
   "source": [
    "def list_from_csv(file_path):\n",
    "    sentences_list = []\n",
    "    label_list = []\n",
    "    with tf.gfile.Open(file_path, \"r\") as f:\n",
    "        reader = csv.reader(f, delimiter=\",\", quotechar=None)\n",
    "        for (i, line) in enumerate(reader):\n",
    "            if i == 0:\n",
    "                continue\n",
    "            label_list.append(line[0])\n",
    "            sentences_list.append(line[1])\n",
    "    return label_list, sentences_list"
   ]
  },
  {
   "cell_type": "code",
   "execution_count": 66,
   "metadata": {},
   "outputs": [],
   "source": [
    "file_path = \"./data/bbc_test.csv\""
   ]
  },
  {
   "cell_type": "code",
   "execution_count": 67,
   "metadata": {},
   "outputs": [],
   "source": [
    "label_list, sentences_list = list_from_csv(file_path)"
   ]
  },
  {
   "cell_type": "code",
   "execution_count": 68,
   "metadata": {},
   "outputs": [
    {
     "data": {
      "text/plain": [
       "445"
      ]
     },
     "execution_count": 68,
     "metadata": {},
     "output_type": "execute_result"
    }
   ],
   "source": [
    "len(sentences_list)"
   ]
  },
  {
   "cell_type": "code",
   "execution_count": 69,
   "metadata": {},
   "outputs": [
    {
     "data": {
      "text/plain": [
       "445"
      ]
     },
     "execution_count": 69,
     "metadata": {},
     "output_type": "execute_result"
    }
   ],
   "source": [
    "len(label_list)"
   ]
  },
  {
   "cell_type": "code",
   "execution_count": 70,
   "metadata": {},
   "outputs": [
    {
     "data": {
      "text/plain": [
       "['entertainment',\n",
       " 'tech',\n",
       " 'politics',\n",
       " 'sport',\n",
       " 'sport',\n",
       " 'tech',\n",
       " 'business',\n",
       " 'tech',\n",
       " 'entertainment',\n",
       " 'entertainment',\n",
       " 'politics',\n",
       " 'politics',\n",
       " 'business',\n",
       " 'entertainment',\n",
       " 'sport',\n",
       " 'entertainment',\n",
       " 'entertainment',\n",
       " 'business',\n",
       " 'sport',\n",
       " 'politics',\n",
       " 'tech',\n",
       " 'business',\n",
       " 'sport',\n",
       " 'entertainment',\n",
       " 'tech',\n",
       " 'politics',\n",
       " 'politics',\n",
       " 'sport',\n",
       " 'sport',\n",
       " 'business',\n",
       " 'business',\n",
       " 'business',\n",
       " 'business',\n",
       " 'business',\n",
       " 'entertainment',\n",
       " 'business',\n",
       " 'politics',\n",
       " 'politics',\n",
       " 'tech',\n",
       " 'tech',\n",
       " 'entertainment',\n",
       " 'politics',\n",
       " 'entertainment',\n",
       " 'business',\n",
       " 'politics',\n",
       " 'sport',\n",
       " 'sport',\n",
       " 'business',\n",
       " 'tech',\n",
       " 'business',\n",
       " 'tech',\n",
       " 'sport',\n",
       " 'business',\n",
       " 'business',\n",
       " 'politics',\n",
       " 'sport',\n",
       " 'sport',\n",
       " 'politics',\n",
       " 'politics',\n",
       " 'entertainment',\n",
       " 'entertainment',\n",
       " 'politics',\n",
       " 'business',\n",
       " 'politics',\n",
       " 'politics',\n",
       " 'business',\n",
       " 'tech',\n",
       " 'politics',\n",
       " 'politics',\n",
       " 'politics',\n",
       " 'politics',\n",
       " 'politics',\n",
       " 'entertainment',\n",
       " 'entertainment',\n",
       " 'tech',\n",
       " 'politics',\n",
       " 'sport',\n",
       " 'politics',\n",
       " 'sport',\n",
       " 'tech',\n",
       " 'sport',\n",
       " 'sport',\n",
       " 'sport',\n",
       " 'entertainment',\n",
       " 'tech',\n",
       " 'entertainment',\n",
       " 'tech',\n",
       " 'sport',\n",
       " 'tech',\n",
       " 'sport',\n",
       " 'sport',\n",
       " 'entertainment',\n",
       " 'entertainment',\n",
       " 'business',\n",
       " 'entertainment',\n",
       " 'entertainment',\n",
       " 'politics',\n",
       " 'business',\n",
       " 'sport',\n",
       " 'tech',\n",
       " 'tech',\n",
       " 'politics',\n",
       " 'business',\n",
       " 'sport',\n",
       " 'business',\n",
       " 'entertainment',\n",
       " 'sport',\n",
       " 'politics',\n",
       " 'entertainment',\n",
       " 'sport',\n",
       " 'sport',\n",
       " 'business',\n",
       " 'politics',\n",
       " 'tech',\n",
       " 'tech',\n",
       " 'business',\n",
       " 'business',\n",
       " 'sport',\n",
       " 'politics',\n",
       " 'entertainment',\n",
       " 'sport',\n",
       " 'sport',\n",
       " 'politics',\n",
       " 'entertainment',\n",
       " 'tech',\n",
       " 'sport',\n",
       " 'entertainment',\n",
       " 'business',\n",
       " 'politics',\n",
       " 'sport',\n",
       " 'politics',\n",
       " 'tech',\n",
       " 'entertainment',\n",
       " 'sport',\n",
       " 'politics',\n",
       " 'business',\n",
       " 'entertainment',\n",
       " 'politics',\n",
       " 'entertainment',\n",
       " 'politics',\n",
       " 'sport',\n",
       " 'politics',\n",
       " 'business',\n",
       " 'business',\n",
       " 'politics',\n",
       " 'business',\n",
       " 'tech',\n",
       " 'sport',\n",
       " 'business',\n",
       " 'entertainment',\n",
       " 'business',\n",
       " 'sport',\n",
       " 'sport',\n",
       " 'entertainment',\n",
       " 'tech',\n",
       " 'politics',\n",
       " 'tech',\n",
       " 'politics',\n",
       " 'politics',\n",
       " 'sport',\n",
       " 'sport',\n",
       " 'sport',\n",
       " 'business',\n",
       " 'tech',\n",
       " 'entertainment',\n",
       " 'business',\n",
       " 'sport',\n",
       " 'business',\n",
       " 'sport',\n",
       " 'business',\n",
       " 'tech',\n",
       " 'business',\n",
       " 'business',\n",
       " 'business',\n",
       " 'business',\n",
       " 'sport',\n",
       " 'sport',\n",
       " 'sport',\n",
       " 'business',\n",
       " 'business',\n",
       " 'entertainment',\n",
       " 'business',\n",
       " 'business',\n",
       " 'business',\n",
       " 'sport',\n",
       " 'sport',\n",
       " 'sport',\n",
       " 'tech',\n",
       " 'business',\n",
       " 'sport',\n",
       " 'sport',\n",
       " 'sport',\n",
       " 'business',\n",
       " 'entertainment',\n",
       " 'tech',\n",
       " 'tech',\n",
       " 'tech',\n",
       " 'politics',\n",
       " 'business',\n",
       " 'business',\n",
       " 'tech',\n",
       " 'business',\n",
       " 'tech',\n",
       " 'sport',\n",
       " 'sport',\n",
       " 'politics',\n",
       " 'politics',\n",
       " 'politics',\n",
       " 'sport',\n",
       " 'sport',\n",
       " 'politics',\n",
       " 'politics',\n",
       " 'tech',\n",
       " 'business',\n",
       " 'sport',\n",
       " 'sport',\n",
       " 'sport',\n",
       " 'sport',\n",
       " 'business',\n",
       " 'sport',\n",
       " 'business',\n",
       " 'business',\n",
       " 'business',\n",
       " 'business',\n",
       " 'sport',\n",
       " 'politics',\n",
       " 'sport',\n",
       " 'tech',\n",
       " 'tech',\n",
       " 'sport',\n",
       " 'tech',\n",
       " 'business',\n",
       " 'entertainment',\n",
       " 'business',\n",
       " 'sport',\n",
       " 'business',\n",
       " 'tech',\n",
       " 'tech',\n",
       " 'politics',\n",
       " 'entertainment',\n",
       " 'business',\n",
       " 'entertainment',\n",
       " 'business',\n",
       " 'tech',\n",
       " 'politics',\n",
       " 'entertainment',\n",
       " 'politics',\n",
       " 'entertainment',\n",
       " 'entertainment',\n",
       " 'tech',\n",
       " 'business',\n",
       " 'tech',\n",
       " 'tech',\n",
       " 'business',\n",
       " 'politics',\n",
       " 'sport',\n",
       " 'entertainment',\n",
       " 'business',\n",
       " 'politics',\n",
       " 'entertainment',\n",
       " 'business',\n",
       " 'tech',\n",
       " 'sport',\n",
       " 'tech',\n",
       " 'politics',\n",
       " 'sport',\n",
       " 'politics',\n",
       " 'business',\n",
       " 'politics',\n",
       " 'politics',\n",
       " 'business',\n",
       " 'business',\n",
       " 'business',\n",
       " 'tech',\n",
       " 'politics',\n",
       " 'business',\n",
       " 'politics',\n",
       " 'business',\n",
       " 'entertainment',\n",
       " 'politics',\n",
       " 'sport',\n",
       " 'politics',\n",
       " 'politics',\n",
       " 'sport',\n",
       " 'entertainment',\n",
       " 'tech',\n",
       " 'tech',\n",
       " 'business',\n",
       " 'tech',\n",
       " 'sport',\n",
       " 'business',\n",
       " 'business',\n",
       " 'politics',\n",
       " 'sport',\n",
       " 'tech',\n",
       " 'tech',\n",
       " 'tech',\n",
       " 'sport',\n",
       " 'entertainment',\n",
       " 'sport',\n",
       " 'politics',\n",
       " 'business',\n",
       " 'politics',\n",
       " 'politics',\n",
       " 'entertainment',\n",
       " 'tech',\n",
       " 'business',\n",
       " 'tech',\n",
       " 'sport',\n",
       " 'entertainment',\n",
       " 'entertainment',\n",
       " 'sport',\n",
       " 'business',\n",
       " 'entertainment',\n",
       " 'tech',\n",
       " 'tech',\n",
       " 'sport',\n",
       " 'entertainment',\n",
       " 'business',\n",
       " 'politics',\n",
       " 'politics',\n",
       " 'politics',\n",
       " 'tech',\n",
       " 'tech',\n",
       " 'business',\n",
       " 'politics',\n",
       " 'business',\n",
       " 'politics',\n",
       " 'politics',\n",
       " 'entertainment',\n",
       " 'sport',\n",
       " 'tech',\n",
       " 'business',\n",
       " 'tech',\n",
       " 'entertainment',\n",
       " 'tech',\n",
       " 'tech',\n",
       " 'sport',\n",
       " 'politics',\n",
       " 'sport',\n",
       " 'sport',\n",
       " 'politics',\n",
       " 'entertainment',\n",
       " 'entertainment',\n",
       " 'business',\n",
       " 'politics',\n",
       " 'politics',\n",
       " 'sport',\n",
       " 'business',\n",
       " 'business',\n",
       " 'tech',\n",
       " 'business',\n",
       " 'tech',\n",
       " 'tech',\n",
       " 'sport',\n",
       " 'business',\n",
       " 'politics',\n",
       " 'sport',\n",
       " 'business',\n",
       " 'business',\n",
       " 'sport',\n",
       " 'tech',\n",
       " 'sport',\n",
       " 'tech',\n",
       " 'entertainment',\n",
       " 'sport',\n",
       " 'sport',\n",
       " 'entertainment',\n",
       " 'business',\n",
       " 'tech',\n",
       " 'sport',\n",
       " 'sport',\n",
       " 'politics',\n",
       " 'tech',\n",
       " 'business',\n",
       " 'politics',\n",
       " 'sport',\n",
       " 'sport',\n",
       " 'politics',\n",
       " 'entertainment',\n",
       " 'tech',\n",
       " 'tech',\n",
       " 'tech',\n",
       " 'business',\n",
       " 'sport',\n",
       " 'entertainment',\n",
       " 'entertainment',\n",
       " 'tech',\n",
       " 'business',\n",
       " 'politics',\n",
       " 'tech',\n",
       " 'sport',\n",
       " 'sport',\n",
       " 'tech',\n",
       " 'tech',\n",
       " 'politics',\n",
       " 'business',\n",
       " 'sport',\n",
       " 'entertainment',\n",
       " 'entertainment',\n",
       " 'sport',\n",
       " 'entertainment',\n",
       " 'tech',\n",
       " 'tech',\n",
       " 'business',\n",
       " 'business',\n",
       " 'business',\n",
       " 'sport',\n",
       " 'sport',\n",
       " 'tech',\n",
       " 'sport',\n",
       " 'business',\n",
       " 'tech',\n",
       " 'business',\n",
       " 'business',\n",
       " 'sport',\n",
       " 'business',\n",
       " 'politics',\n",
       " 'business',\n",
       " 'business',\n",
       " 'tech',\n",
       " 'business',\n",
       " 'tech',\n",
       " 'politics',\n",
       " 'tech',\n",
       " 'entertainment',\n",
       " 'politics',\n",
       " 'tech',\n",
       " 'entertainment',\n",
       " 'sport',\n",
       " 'politics',\n",
       " 'entertainment',\n",
       " 'business',\n",
       " 'tech',\n",
       " 'business',\n",
       " 'tech',\n",
       " 'entertainment',\n",
       " 'tech',\n",
       " 'sport',\n",
       " 'business',\n",
       " 'business',\n",
       " 'politics',\n",
       " 'entertainment',\n",
       " 'politics',\n",
       " 'sport']"
      ]
     },
     "execution_count": 70,
     "metadata": {},
     "output_type": "execute_result"
    }
   ],
   "source": [
    "label_list"
   ]
  },
  {
   "cell_type": "code",
   "execution_count": 71,
   "metadata": {},
   "outputs": [
    {
     "name": "stdout",
     "output_type": "stream",
     "text": [
      "INFO:tensorflow:Writing example 0 of 445\n"
     ]
    },
    {
     "name": "stderr",
     "output_type": "stream",
     "text": [
      "INFO:tensorflow:Writing example 0 of 445\n"
     ]
    },
    {
     "name": "stdout",
     "output_type": "stream",
     "text": [
      "INFO:tensorflow:*** Example ***\n"
     ]
    },
    {
     "name": "stderr",
     "output_type": "stream",
     "text": [
      "INFO:tensorflow:*** Example ***\n"
     ]
    },
    {
     "name": "stdout",
     "output_type": "stream",
     "text": [
      "INFO:tensorflow:guid: \n"
     ]
    },
    {
     "name": "stderr",
     "output_type": "stream",
     "text": [
      "INFO:tensorflow:guid: \n"
     ]
    },
    {
     "name": "stdout",
     "output_type": "stream",
     "text": [
      "INFO:tensorflow:tokens: [CLS] ho ##bb ##it picture four years away lord of the rings director peter jackson has said that it will be up to four years before he starts work on a film version of the ho ##bb ##it . the oscar winner said on a visit to sydney there was a desire to make it but not before lengthy negotiations . i think it s gonna be a lot of lawyers sitting in a room trying to thrash out a deal before it will ever happen said the new zealand ##er . the rights to jr ##r tolkien s book are split between two major film studios . jackson who is currently filming a remake of hollywood classic king kong said he thought that the sale of [SEP]\n"
     ]
    },
    {
     "name": "stderr",
     "output_type": "stream",
     "text": [
      "INFO:tensorflow:tokens: [CLS] ho ##bb ##it picture four years away lord of the rings director peter jackson has said that it will be up to four years before he starts work on a film version of the ho ##bb ##it . the oscar winner said on a visit to sydney there was a desire to make it but not before lengthy negotiations . i think it s gonna be a lot of lawyers sitting in a room trying to thrash out a deal before it will ever happen said the new zealand ##er . the rights to jr ##r tolkien s book are split between two major film studios . jackson who is currently filming a remake of hollywood classic king kong said he thought that the sale of [SEP]\n"
     ]
    },
    {
     "name": "stdout",
     "output_type": "stream",
     "text": [
      "INFO:tensorflow:input_ids: 101 7570 10322 4183 3861 2176 2086 2185 2935 1997 1996 7635 2472 2848 4027 2038 2056 2008 2009 2097 2022 2039 2000 2176 2086 2077 2002 4627 2147 2006 1037 2143 2544 1997 1996 7570 10322 4183 1012 1996 7436 3453 2056 2006 1037 3942 2000 3994 2045 2001 1037 4792 2000 2191 2009 2021 2025 2077 12401 7776 1012 1045 2228 2009 1055 6069 2022 1037 2843 1997 9559 3564 1999 1037 2282 2667 2000 27042 2041 1037 3066 2077 2009 2097 2412 4148 2056 1996 2047 3414 2121 1012 1996 2916 2000 3781 2099 23602 1055 2338 2024 3975 2090 2048 2350 2143 4835 1012 4027 2040 2003 2747 7467 1037 12661 1997 5365 4438 2332 4290 2056 2002 2245 2008 1996 5096 1997 102\n"
     ]
    },
    {
     "name": "stderr",
     "output_type": "stream",
     "text": [
      "INFO:tensorflow:input_ids: 101 7570 10322 4183 3861 2176 2086 2185 2935 1997 1996 7635 2472 2848 4027 2038 2056 2008 2009 2097 2022 2039 2000 2176 2086 2077 2002 4627 2147 2006 1037 2143 2544 1997 1996 7570 10322 4183 1012 1996 7436 3453 2056 2006 1037 3942 2000 3994 2045 2001 1037 4792 2000 2191 2009 2021 2025 2077 12401 7776 1012 1045 2228 2009 1055 6069 2022 1037 2843 1997 9559 3564 1999 1037 2282 2667 2000 27042 2041 1037 3066 2077 2009 2097 2412 4148 2056 1996 2047 3414 2121 1012 1996 2916 2000 3781 2099 23602 1055 2338 2024 3975 2090 2048 2350 2143 4835 1012 4027 2040 2003 2747 7467 1037 12661 1997 5365 4438 2332 4290 2056 2002 2245 2008 1996 5096 1997 102\n"
     ]
    },
    {
     "name": "stdout",
     "output_type": "stream",
     "text": [
      "INFO:tensorflow:input_mask: 1 1 1 1 1 1 1 1 1 1 1 1 1 1 1 1 1 1 1 1 1 1 1 1 1 1 1 1 1 1 1 1 1 1 1 1 1 1 1 1 1 1 1 1 1 1 1 1 1 1 1 1 1 1 1 1 1 1 1 1 1 1 1 1 1 1 1 1 1 1 1 1 1 1 1 1 1 1 1 1 1 1 1 1 1 1 1 1 1 1 1 1 1 1 1 1 1 1 1 1 1 1 1 1 1 1 1 1 1 1 1 1 1 1 1 1 1 1 1 1 1 1 1 1 1 1 1 1\n"
     ]
    },
    {
     "name": "stderr",
     "output_type": "stream",
     "text": [
      "INFO:tensorflow:input_mask: 1 1 1 1 1 1 1 1 1 1 1 1 1 1 1 1 1 1 1 1 1 1 1 1 1 1 1 1 1 1 1 1 1 1 1 1 1 1 1 1 1 1 1 1 1 1 1 1 1 1 1 1 1 1 1 1 1 1 1 1 1 1 1 1 1 1 1 1 1 1 1 1 1 1 1 1 1 1 1 1 1 1 1 1 1 1 1 1 1 1 1 1 1 1 1 1 1 1 1 1 1 1 1 1 1 1 1 1 1 1 1 1 1 1 1 1 1 1 1 1 1 1 1 1 1 1 1 1\n"
     ]
    },
    {
     "name": "stdout",
     "output_type": "stream",
     "text": [
      "INFO:tensorflow:segment_ids: 0 0 0 0 0 0 0 0 0 0 0 0 0 0 0 0 0 0 0 0 0 0 0 0 0 0 0 0 0 0 0 0 0 0 0 0 0 0 0 0 0 0 0 0 0 0 0 0 0 0 0 0 0 0 0 0 0 0 0 0 0 0 0 0 0 0 0 0 0 0 0 0 0 0 0 0 0 0 0 0 0 0 0 0 0 0 0 0 0 0 0 0 0 0 0 0 0 0 0 0 0 0 0 0 0 0 0 0 0 0 0 0 0 0 0 0 0 0 0 0 0 0 0 0 0 0 0 0\n"
     ]
    },
    {
     "name": "stderr",
     "output_type": "stream",
     "text": [
      "INFO:tensorflow:segment_ids: 0 0 0 0 0 0 0 0 0 0 0 0 0 0 0 0 0 0 0 0 0 0 0 0 0 0 0 0 0 0 0 0 0 0 0 0 0 0 0 0 0 0 0 0 0 0 0 0 0 0 0 0 0 0 0 0 0 0 0 0 0 0 0 0 0 0 0 0 0 0 0 0 0 0 0 0 0 0 0 0 0 0 0 0 0 0 0 0 0 0 0 0 0 0 0 0 0 0 0 0 0 0 0 0 0 0 0 0 0 0 0 0 0 0 0 0 0 0 0 0 0 0 0 0 0 0 0 0\n"
     ]
    },
    {
     "name": "stdout",
     "output_type": "stream",
     "text": [
      "INFO:tensorflow:label: tech (id = 0)\n"
     ]
    },
    {
     "name": "stderr",
     "output_type": "stream",
     "text": [
      "INFO:tensorflow:label: tech (id = 0)\n"
     ]
    },
    {
     "name": "stdout",
     "output_type": "stream",
     "text": [
      "INFO:tensorflow:*** Example ***\n"
     ]
    },
    {
     "name": "stderr",
     "output_type": "stream",
     "text": [
      "INFO:tensorflow:*** Example ***\n"
     ]
    },
    {
     "name": "stdout",
     "output_type": "stream",
     "text": [
      "INFO:tensorflow:guid: \n"
     ]
    },
    {
     "name": "stderr",
     "output_type": "stream",
     "text": [
      "INFO:tensorflow:guid: \n"
     ]
    },
    {
     "name": "stdout",
     "output_type": "stream",
     "text": [
      "INFO:tensorflow:tokens: [CLS] game firm holds cast auditions video game firm bio ##ware is to hold open auditions for people to become cast members for future games . the company which makes role playing games such as knights of the old republic and never ##win ##ter nights is seeking people aged 18 to 99 . the canada - based company says it was looking for a wide variety of people to use as face models for characters . everyone chosen to appear in a video game will receive a performer s fee for the use of their image . the company is inviting people to come along to a shopping mall in west edmonton alberta on friday and saturday bringing along a piece of photo identification . there are [SEP]\n"
     ]
    },
    {
     "name": "stderr",
     "output_type": "stream",
     "text": [
      "INFO:tensorflow:tokens: [CLS] game firm holds cast auditions video game firm bio ##ware is to hold open auditions for people to become cast members for future games . the company which makes role playing games such as knights of the old republic and never ##win ##ter nights is seeking people aged 18 to 99 . the canada - based company says it was looking for a wide variety of people to use as face models for characters . everyone chosen to appear in a video game will receive a performer s fee for the use of their image . the company is inviting people to come along to a shopping mall in west edmonton alberta on friday and saturday bringing along a piece of photo identification . there are [SEP]\n"
     ]
    },
    {
     "name": "stdout",
     "output_type": "stream",
     "text": [
      "INFO:tensorflow:input_ids: 101 2208 3813 4324 3459 21732 2678 2208 3813 16012 8059 2003 2000 2907 2330 21732 2005 2111 2000 2468 3459 2372 2005 2925 2399 1012 1996 2194 2029 3084 2535 2652 2399 2107 2004 7307 1997 1996 2214 3072 1998 2196 10105 3334 6385 2003 6224 2111 4793 2324 2000 5585 1012 1996 2710 1011 2241 2194 2758 2009 2001 2559 2005 1037 2898 3528 1997 2111 2000 2224 2004 2227 4275 2005 3494 1012 3071 4217 2000 3711 1999 1037 2678 2208 2097 4374 1037 9256 1055 7408 2005 1996 2224 1997 2037 3746 1012 1996 2194 2003 15085 2111 2000 2272 2247 2000 1037 6023 6670 1999 2225 10522 7649 2006 5958 1998 5095 5026 2247 1037 3538 1997 6302 8720 1012 2045 2024 102\n"
     ]
    },
    {
     "name": "stderr",
     "output_type": "stream",
     "text": [
      "INFO:tensorflow:input_ids: 101 2208 3813 4324 3459 21732 2678 2208 3813 16012 8059 2003 2000 2907 2330 21732 2005 2111 2000 2468 3459 2372 2005 2925 2399 1012 1996 2194 2029 3084 2535 2652 2399 2107 2004 7307 1997 1996 2214 3072 1998 2196 10105 3334 6385 2003 6224 2111 4793 2324 2000 5585 1012 1996 2710 1011 2241 2194 2758 2009 2001 2559 2005 1037 2898 3528 1997 2111 2000 2224 2004 2227 4275 2005 3494 1012 3071 4217 2000 3711 1999 1037 2678 2208 2097 4374 1037 9256 1055 7408 2005 1996 2224 1997 2037 3746 1012 1996 2194 2003 15085 2111 2000 2272 2247 2000 1037 6023 6670 1999 2225 10522 7649 2006 5958 1998 5095 5026 2247 1037 3538 1997 6302 8720 1012 2045 2024 102\n"
     ]
    },
    {
     "name": "stdout",
     "output_type": "stream",
     "text": [
      "INFO:tensorflow:input_mask: 1 1 1 1 1 1 1 1 1 1 1 1 1 1 1 1 1 1 1 1 1 1 1 1 1 1 1 1 1 1 1 1 1 1 1 1 1 1 1 1 1 1 1 1 1 1 1 1 1 1 1 1 1 1 1 1 1 1 1 1 1 1 1 1 1 1 1 1 1 1 1 1 1 1 1 1 1 1 1 1 1 1 1 1 1 1 1 1 1 1 1 1 1 1 1 1 1 1 1 1 1 1 1 1 1 1 1 1 1 1 1 1 1 1 1 1 1 1 1 1 1 1 1 1 1 1 1 1\n"
     ]
    },
    {
     "name": "stderr",
     "output_type": "stream",
     "text": [
      "INFO:tensorflow:input_mask: 1 1 1 1 1 1 1 1 1 1 1 1 1 1 1 1 1 1 1 1 1 1 1 1 1 1 1 1 1 1 1 1 1 1 1 1 1 1 1 1 1 1 1 1 1 1 1 1 1 1 1 1 1 1 1 1 1 1 1 1 1 1 1 1 1 1 1 1 1 1 1 1 1 1 1 1 1 1 1 1 1 1 1 1 1 1 1 1 1 1 1 1 1 1 1 1 1 1 1 1 1 1 1 1 1 1 1 1 1 1 1 1 1 1 1 1 1 1 1 1 1 1 1 1 1 1 1 1\n"
     ]
    },
    {
     "name": "stdout",
     "output_type": "stream",
     "text": [
      "INFO:tensorflow:segment_ids: 0 0 0 0 0 0 0 0 0 0 0 0 0 0 0 0 0 0 0 0 0 0 0 0 0 0 0 0 0 0 0 0 0 0 0 0 0 0 0 0 0 0 0 0 0 0 0 0 0 0 0 0 0 0 0 0 0 0 0 0 0 0 0 0 0 0 0 0 0 0 0 0 0 0 0 0 0 0 0 0 0 0 0 0 0 0 0 0 0 0 0 0 0 0 0 0 0 0 0 0 0 0 0 0 0 0 0 0 0 0 0 0 0 0 0 0 0 0 0 0 0 0 0 0 0 0 0 0\n"
     ]
    },
    {
     "name": "stderr",
     "output_type": "stream",
     "text": [
      "INFO:tensorflow:segment_ids: 0 0 0 0 0 0 0 0 0 0 0 0 0 0 0 0 0 0 0 0 0 0 0 0 0 0 0 0 0 0 0 0 0 0 0 0 0 0 0 0 0 0 0 0 0 0 0 0 0 0 0 0 0 0 0 0 0 0 0 0 0 0 0 0 0 0 0 0 0 0 0 0 0 0 0 0 0 0 0 0 0 0 0 0 0 0 0 0 0 0 0 0 0 0 0 0 0 0 0 0 0 0 0 0 0 0 0 0 0 0 0 0 0 0 0 0 0 0 0 0 0 0 0 0 0 0 0 0\n"
     ]
    },
    {
     "name": "stdout",
     "output_type": "stream",
     "text": [
      "INFO:tensorflow:label: tech (id = 0)\n"
     ]
    },
    {
     "name": "stderr",
     "output_type": "stream",
     "text": [
      "INFO:tensorflow:label: tech (id = 0)\n"
     ]
    },
    {
     "name": "stdout",
     "output_type": "stream",
     "text": [
      "INFO:tensorflow:*** Example ***\n"
     ]
    },
    {
     "name": "stderr",
     "output_type": "stream",
     "text": [
      "INFO:tensorflow:*** Example ***\n"
     ]
    },
    {
     "name": "stdout",
     "output_type": "stream",
     "text": [
      "INFO:tensorflow:guid: \n"
     ]
    },
    {
     "name": "stderr",
     "output_type": "stream",
     "text": [
      "INFO:tensorflow:guid: \n"
     ]
    },
    {
     "name": "stdout",
     "output_type": "stream",
     "text": [
      "INFO:tensorflow:tokens: [CLS] clarke plans migrant point scheme anyone planning to move to the uk will have to pass a test to prove they can contribute to the country home secretary charles clarke has said . he is proposing a points system similar to australia s but would avoid the quota system planned by the tori ##es . mr clarke who will un ##ve ##il his plans on monday said economic migration helped the uk but needed proper policing . the li ##b dem ##s say they will look at his plans but tory liam fox said his party offered a clear choice on the issue . the conservative party co - chairman said the british electorate had a choice between a labour government that had done nothing for [SEP]\n"
     ]
    },
    {
     "name": "stderr",
     "output_type": "stream",
     "text": [
      "INFO:tensorflow:tokens: [CLS] clarke plans migrant point scheme anyone planning to move to the uk will have to pass a test to prove they can contribute to the country home secretary charles clarke has said . he is proposing a points system similar to australia s but would avoid the quota system planned by the tori ##es . mr clarke who will un ##ve ##il his plans on monday said economic migration helped the uk but needed proper policing . the li ##b dem ##s say they will look at his plans but tory liam fox said his party offered a clear choice on the issue . the conservative party co - chairman said the british electorate had a choice between a labour government that had done nothing for [SEP]\n"
     ]
    },
    {
     "name": "stdout",
     "output_type": "stream",
     "text": [
      "INFO:tensorflow:input_ids: 101 8359 3488 20731 2391 5679 3087 4041 2000 2693 2000 1996 2866 2097 2031 2000 3413 1037 3231 2000 6011 2027 2064 9002 2000 1996 2406 2188 3187 2798 8359 2038 2056 1012 2002 2003 21991 1037 2685 2291 2714 2000 2660 1055 2021 2052 4468 1996 20563 2291 3740 2011 1996 23413 2229 1012 2720 8359 2040 2097 4895 3726 4014 2010 3488 2006 6928 2056 3171 9230 3271 1996 2866 2021 2734 5372 21107 1012 1996 5622 2497 17183 2015 2360 2027 2097 2298 2012 2010 3488 2021 17117 8230 4419 2056 2010 2283 3253 1037 3154 3601 2006 1996 3277 1012 1996 4603 2283 2522 1011 3472 2056 1996 2329 13694 2018 1037 3601 2090 1037 4428 2231 2008 2018 2589 2498 2005 102\n"
     ]
    },
    {
     "name": "stderr",
     "output_type": "stream",
     "text": [
      "INFO:tensorflow:input_ids: 101 8359 3488 20731 2391 5679 3087 4041 2000 2693 2000 1996 2866 2097 2031 2000 3413 1037 3231 2000 6011 2027 2064 9002 2000 1996 2406 2188 3187 2798 8359 2038 2056 1012 2002 2003 21991 1037 2685 2291 2714 2000 2660 1055 2021 2052 4468 1996 20563 2291 3740 2011 1996 23413 2229 1012 2720 8359 2040 2097 4895 3726 4014 2010 3488 2006 6928 2056 3171 9230 3271 1996 2866 2021 2734 5372 21107 1012 1996 5622 2497 17183 2015 2360 2027 2097 2298 2012 2010 3488 2021 17117 8230 4419 2056 2010 2283 3253 1037 3154 3601 2006 1996 3277 1012 1996 4603 2283 2522 1011 3472 2056 1996 2329 13694 2018 1037 3601 2090 1037 4428 2231 2008 2018 2589 2498 2005 102\n"
     ]
    },
    {
     "name": "stdout",
     "output_type": "stream",
     "text": [
      "INFO:tensorflow:input_mask: 1 1 1 1 1 1 1 1 1 1 1 1 1 1 1 1 1 1 1 1 1 1 1 1 1 1 1 1 1 1 1 1 1 1 1 1 1 1 1 1 1 1 1 1 1 1 1 1 1 1 1 1 1 1 1 1 1 1 1 1 1 1 1 1 1 1 1 1 1 1 1 1 1 1 1 1 1 1 1 1 1 1 1 1 1 1 1 1 1 1 1 1 1 1 1 1 1 1 1 1 1 1 1 1 1 1 1 1 1 1 1 1 1 1 1 1 1 1 1 1 1 1 1 1 1 1 1 1\n"
     ]
    },
    {
     "name": "stderr",
     "output_type": "stream",
     "text": [
      "INFO:tensorflow:input_mask: 1 1 1 1 1 1 1 1 1 1 1 1 1 1 1 1 1 1 1 1 1 1 1 1 1 1 1 1 1 1 1 1 1 1 1 1 1 1 1 1 1 1 1 1 1 1 1 1 1 1 1 1 1 1 1 1 1 1 1 1 1 1 1 1 1 1 1 1 1 1 1 1 1 1 1 1 1 1 1 1 1 1 1 1 1 1 1 1 1 1 1 1 1 1 1 1 1 1 1 1 1 1 1 1 1 1 1 1 1 1 1 1 1 1 1 1 1 1 1 1 1 1 1 1 1 1 1 1\n"
     ]
    },
    {
     "name": "stdout",
     "output_type": "stream",
     "text": [
      "INFO:tensorflow:segment_ids: 0 0 0 0 0 0 0 0 0 0 0 0 0 0 0 0 0 0 0 0 0 0 0 0 0 0 0 0 0 0 0 0 0 0 0 0 0 0 0 0 0 0 0 0 0 0 0 0 0 0 0 0 0 0 0 0 0 0 0 0 0 0 0 0 0 0 0 0 0 0 0 0 0 0 0 0 0 0 0 0 0 0 0 0 0 0 0 0 0 0 0 0 0 0 0 0 0 0 0 0 0 0 0 0 0 0 0 0 0 0 0 0 0 0 0 0 0 0 0 0 0 0 0 0 0 0 0 0\n"
     ]
    },
    {
     "name": "stderr",
     "output_type": "stream",
     "text": [
      "INFO:tensorflow:segment_ids: 0 0 0 0 0 0 0 0 0 0 0 0 0 0 0 0 0 0 0 0 0 0 0 0 0 0 0 0 0 0 0 0 0 0 0 0 0 0 0 0 0 0 0 0 0 0 0 0 0 0 0 0 0 0 0 0 0 0 0 0 0 0 0 0 0 0 0 0 0 0 0 0 0 0 0 0 0 0 0 0 0 0 0 0 0 0 0 0 0 0 0 0 0 0 0 0 0 0 0 0 0 0 0 0 0 0 0 0 0 0 0 0 0 0 0 0 0 0 0 0 0 0 0 0 0 0 0 0\n"
     ]
    },
    {
     "name": "stdout",
     "output_type": "stream",
     "text": [
      "INFO:tensorflow:label: tech (id = 0)\n"
     ]
    },
    {
     "name": "stderr",
     "output_type": "stream",
     "text": [
      "INFO:tensorflow:label: tech (id = 0)\n"
     ]
    },
    {
     "name": "stdout",
     "output_type": "stream",
     "text": [
      "INFO:tensorflow:*** Example ***\n"
     ]
    },
    {
     "name": "stderr",
     "output_type": "stream",
     "text": [
      "INFO:tensorflow:*** Example ***\n"
     ]
    },
    {
     "name": "stdout",
     "output_type": "stream",
     "text": [
      "INFO:tensorflow:guid: \n"
     ]
    },
    {
     "name": "stderr",
     "output_type": "stream",
     "text": [
      "INFO:tensorflow:guid: \n"
     ]
    },
    {
     "name": "stdout",
     "output_type": "stream",
     "text": [
      "INFO:tensorflow:tokens: [CLS] radcliffe will compete in london paula radcliffe will compete in the flora london marathon this year after deciding her schedule for 2005 . the 31 - year - old won the race in 2002 on her marathon debut defended her title 12 months later and will now seek a third title in the 17 april race . it doesn t get any better than this for the 25th anniversary said race director david bedford . after announcing the greatest men s field ever we now have the greatest women s distance runner ever . three years ago radcliffe smashed the women s world record in two hours 18 minutes 15 seconds . the bedford star returned to london 12 months later lowering her mixed - race [SEP]\n"
     ]
    },
    {
     "name": "stderr",
     "output_type": "stream",
     "text": [
      "INFO:tensorflow:tokens: [CLS] radcliffe will compete in london paula radcliffe will compete in the flora london marathon this year after deciding her schedule for 2005 . the 31 - year - old won the race in 2002 on her marathon debut defended her title 12 months later and will now seek a third title in the 17 april race . it doesn t get any better than this for the 25th anniversary said race director david bedford . after announcing the greatest men s field ever we now have the greatest women s distance runner ever . three years ago radcliffe smashed the women s world record in two hours 18 minutes 15 seconds . the bedford star returned to london 12 months later lowering her mixed - race [SEP]\n"
     ]
    },
    {
     "name": "stdout",
     "output_type": "stream",
     "text": [
      "INFO:tensorflow:input_ids: 101 22603 2097 5566 1999 2414 13723 22603 2097 5566 1999 1996 10088 2414 8589 2023 2095 2044 10561 2014 6134 2005 2384 1012 1996 2861 1011 2095 1011 2214 2180 1996 2679 1999 2526 2006 2014 8589 2834 8047 2014 2516 2260 2706 2101 1998 2097 2085 6148 1037 2353 2516 1999 1996 2459 2258 2679 1012 2009 2987 1056 2131 2151 2488 2084 2023 2005 1996 10965 5315 2056 2679 2472 2585 12003 1012 2044 13856 1996 4602 2273 1055 2492 2412 2057 2085 2031 1996 4602 2308 1055 3292 5479 2412 1012 2093 2086 3283 22603 14368 1996 2308 1055 2088 2501 1999 2048 2847 2324 2781 2321 3823 1012 1996 12003 2732 2513 2000 2414 2260 2706 2101 13845 2014 3816 1011 2679 102\n"
     ]
    },
    {
     "name": "stderr",
     "output_type": "stream",
     "text": [
      "INFO:tensorflow:input_ids: 101 22603 2097 5566 1999 2414 13723 22603 2097 5566 1999 1996 10088 2414 8589 2023 2095 2044 10561 2014 6134 2005 2384 1012 1996 2861 1011 2095 1011 2214 2180 1996 2679 1999 2526 2006 2014 8589 2834 8047 2014 2516 2260 2706 2101 1998 2097 2085 6148 1037 2353 2516 1999 1996 2459 2258 2679 1012 2009 2987 1056 2131 2151 2488 2084 2023 2005 1996 10965 5315 2056 2679 2472 2585 12003 1012 2044 13856 1996 4602 2273 1055 2492 2412 2057 2085 2031 1996 4602 2308 1055 3292 5479 2412 1012 2093 2086 3283 22603 14368 1996 2308 1055 2088 2501 1999 2048 2847 2324 2781 2321 3823 1012 1996 12003 2732 2513 2000 2414 2260 2706 2101 13845 2014 3816 1011 2679 102\n"
     ]
    },
    {
     "name": "stdout",
     "output_type": "stream",
     "text": [
      "INFO:tensorflow:input_mask: 1 1 1 1 1 1 1 1 1 1 1 1 1 1 1 1 1 1 1 1 1 1 1 1 1 1 1 1 1 1 1 1 1 1 1 1 1 1 1 1 1 1 1 1 1 1 1 1 1 1 1 1 1 1 1 1 1 1 1 1 1 1 1 1 1 1 1 1 1 1 1 1 1 1 1 1 1 1 1 1 1 1 1 1 1 1 1 1 1 1 1 1 1 1 1 1 1 1 1 1 1 1 1 1 1 1 1 1 1 1 1 1 1 1 1 1 1 1 1 1 1 1 1 1 1 1 1 1\n"
     ]
    },
    {
     "name": "stderr",
     "output_type": "stream",
     "text": [
      "INFO:tensorflow:input_mask: 1 1 1 1 1 1 1 1 1 1 1 1 1 1 1 1 1 1 1 1 1 1 1 1 1 1 1 1 1 1 1 1 1 1 1 1 1 1 1 1 1 1 1 1 1 1 1 1 1 1 1 1 1 1 1 1 1 1 1 1 1 1 1 1 1 1 1 1 1 1 1 1 1 1 1 1 1 1 1 1 1 1 1 1 1 1 1 1 1 1 1 1 1 1 1 1 1 1 1 1 1 1 1 1 1 1 1 1 1 1 1 1 1 1 1 1 1 1 1 1 1 1 1 1 1 1 1 1\n"
     ]
    },
    {
     "name": "stdout",
     "output_type": "stream",
     "text": [
      "INFO:tensorflow:segment_ids: 0 0 0 0 0 0 0 0 0 0 0 0 0 0 0 0 0 0 0 0 0 0 0 0 0 0 0 0 0 0 0 0 0 0 0 0 0 0 0 0 0 0 0 0 0 0 0 0 0 0 0 0 0 0 0 0 0 0 0 0 0 0 0 0 0 0 0 0 0 0 0 0 0 0 0 0 0 0 0 0 0 0 0 0 0 0 0 0 0 0 0 0 0 0 0 0 0 0 0 0 0 0 0 0 0 0 0 0 0 0 0 0 0 0 0 0 0 0 0 0 0 0 0 0 0 0 0 0\n"
     ]
    },
    {
     "name": "stderr",
     "output_type": "stream",
     "text": [
      "INFO:tensorflow:segment_ids: 0 0 0 0 0 0 0 0 0 0 0 0 0 0 0 0 0 0 0 0 0 0 0 0 0 0 0 0 0 0 0 0 0 0 0 0 0 0 0 0 0 0 0 0 0 0 0 0 0 0 0 0 0 0 0 0 0 0 0 0 0 0 0 0 0 0 0 0 0 0 0 0 0 0 0 0 0 0 0 0 0 0 0 0 0 0 0 0 0 0 0 0 0 0 0 0 0 0 0 0 0 0 0 0 0 0 0 0 0 0 0 0 0 0 0 0 0 0 0 0 0 0 0 0 0 0 0 0\n"
     ]
    },
    {
     "name": "stdout",
     "output_type": "stream",
     "text": [
      "INFO:tensorflow:label: tech (id = 0)\n"
     ]
    },
    {
     "name": "stderr",
     "output_type": "stream",
     "text": [
      "INFO:tensorflow:label: tech (id = 0)\n"
     ]
    },
    {
     "name": "stdout",
     "output_type": "stream",
     "text": [
      "INFO:tensorflow:*** Example ***\n"
     ]
    },
    {
     "name": "stderr",
     "output_type": "stream",
     "text": [
      "INFO:tensorflow:*** Example ***\n"
     ]
    },
    {
     "name": "stdout",
     "output_type": "stream",
     "text": [
      "INFO:tensorflow:guid: \n"
     ]
    },
    {
     "name": "stderr",
     "output_type": "stream",
     "text": [
      "INFO:tensorflow:guid: \n"
     ]
    },
    {
     "name": "stdout",
     "output_type": "stream",
     "text": [
      "INFO:tensorflow:tokens: [CLS] serena becomes world number two serena williams has moved up five places to second in the world rankings after her australian open win . williams won her first grand slam title since 2003 with victory over lindsay davenport the world number one . men s champion mara ##t sa ##fin remains fourth in the atp rankings while beaten finalist ll ##ey ##ton hewitt replaces andy rod ##dick as world number two . roger federer retains top spot but sa ##fin has over ##taken hewitt to become the new leader of the champions race . alicia mo ##lik who lost a three - set thriller against davenport in the quarter - finals is in the women s top 10 for the first time in her career . [SEP]\n"
     ]
    },
    {
     "name": "stderr",
     "output_type": "stream",
     "text": [
      "INFO:tensorflow:tokens: [CLS] serena becomes world number two serena williams has moved up five places to second in the world rankings after her australian open win . williams won her first grand slam title since 2003 with victory over lindsay davenport the world number one . men s champion mara ##t sa ##fin remains fourth in the atp rankings while beaten finalist ll ##ey ##ton hewitt replaces andy rod ##dick as world number two . roger federer retains top spot but sa ##fin has over ##taken hewitt to become the new leader of the champions race . alicia mo ##lik who lost a three - set thriller against davenport in the quarter - finals is in the women s top 10 for the first time in her career . [SEP]\n"
     ]
    },
    {
     "name": "stdout",
     "output_type": "stream",
     "text": [
      "INFO:tensorflow:input_ids: 101 14419 4150 2088 2193 2048 14419 3766 2038 2333 2039 2274 3182 2000 2117 1999 1996 2088 10385 2044 2014 2827 2330 2663 1012 3766 2180 2014 2034 2882 9555 2516 2144 2494 2007 3377 2058 12110 16273 1996 2088 2193 2028 1012 2273 1055 3410 13955 2102 7842 16294 3464 2959 1999 1996 12649 10385 2096 7854 9914 2222 3240 2669 19482 20736 5557 8473 24066 2004 2088 2193 2048 1012 5074 28294 14567 2327 3962 2021 7842 16294 2038 2058 25310 19482 2000 2468 1996 2047 3003 1997 1996 3966 2679 1012 15935 9587 18393 2040 2439 1037 2093 1011 2275 10874 2114 16273 1999 1996 4284 1011 4399 2003 1999 1996 2308 1055 2327 2184 2005 1996 2034 2051 1999 2014 2476 1012 102\n"
     ]
    },
    {
     "name": "stderr",
     "output_type": "stream",
     "text": [
      "INFO:tensorflow:input_ids: 101 14419 4150 2088 2193 2048 14419 3766 2038 2333 2039 2274 3182 2000 2117 1999 1996 2088 10385 2044 2014 2827 2330 2663 1012 3766 2180 2014 2034 2882 9555 2516 2144 2494 2007 3377 2058 12110 16273 1996 2088 2193 2028 1012 2273 1055 3410 13955 2102 7842 16294 3464 2959 1999 1996 12649 10385 2096 7854 9914 2222 3240 2669 19482 20736 5557 8473 24066 2004 2088 2193 2048 1012 5074 28294 14567 2327 3962 2021 7842 16294 2038 2058 25310 19482 2000 2468 1996 2047 3003 1997 1996 3966 2679 1012 15935 9587 18393 2040 2439 1037 2093 1011 2275 10874 2114 16273 1999 1996 4284 1011 4399 2003 1999 1996 2308 1055 2327 2184 2005 1996 2034 2051 1999 2014 2476 1012 102\n"
     ]
    },
    {
     "name": "stdout",
     "output_type": "stream",
     "text": [
      "INFO:tensorflow:input_mask: 1 1 1 1 1 1 1 1 1 1 1 1 1 1 1 1 1 1 1 1 1 1 1 1 1 1 1 1 1 1 1 1 1 1 1 1 1 1 1 1 1 1 1 1 1 1 1 1 1 1 1 1 1 1 1 1 1 1 1 1 1 1 1 1 1 1 1 1 1 1 1 1 1 1 1 1 1 1 1 1 1 1 1 1 1 1 1 1 1 1 1 1 1 1 1 1 1 1 1 1 1 1 1 1 1 1 1 1 1 1 1 1 1 1 1 1 1 1 1 1 1 1 1 1 1 1 1 1\n"
     ]
    },
    {
     "name": "stderr",
     "output_type": "stream",
     "text": [
      "INFO:tensorflow:input_mask: 1 1 1 1 1 1 1 1 1 1 1 1 1 1 1 1 1 1 1 1 1 1 1 1 1 1 1 1 1 1 1 1 1 1 1 1 1 1 1 1 1 1 1 1 1 1 1 1 1 1 1 1 1 1 1 1 1 1 1 1 1 1 1 1 1 1 1 1 1 1 1 1 1 1 1 1 1 1 1 1 1 1 1 1 1 1 1 1 1 1 1 1 1 1 1 1 1 1 1 1 1 1 1 1 1 1 1 1 1 1 1 1 1 1 1 1 1 1 1 1 1 1 1 1 1 1 1 1\n"
     ]
    },
    {
     "name": "stdout",
     "output_type": "stream",
     "text": [
      "INFO:tensorflow:segment_ids: 0 0 0 0 0 0 0 0 0 0 0 0 0 0 0 0 0 0 0 0 0 0 0 0 0 0 0 0 0 0 0 0 0 0 0 0 0 0 0 0 0 0 0 0 0 0 0 0 0 0 0 0 0 0 0 0 0 0 0 0 0 0 0 0 0 0 0 0 0 0 0 0 0 0 0 0 0 0 0 0 0 0 0 0 0 0 0 0 0 0 0 0 0 0 0 0 0 0 0 0 0 0 0 0 0 0 0 0 0 0 0 0 0 0 0 0 0 0 0 0 0 0 0 0 0 0 0 0\n"
     ]
    },
    {
     "name": "stderr",
     "output_type": "stream",
     "text": [
      "INFO:tensorflow:segment_ids: 0 0 0 0 0 0 0 0 0 0 0 0 0 0 0 0 0 0 0 0 0 0 0 0 0 0 0 0 0 0 0 0 0 0 0 0 0 0 0 0 0 0 0 0 0 0 0 0 0 0 0 0 0 0 0 0 0 0 0 0 0 0 0 0 0 0 0 0 0 0 0 0 0 0 0 0 0 0 0 0 0 0 0 0 0 0 0 0 0 0 0 0 0 0 0 0 0 0 0 0 0 0 0 0 0 0 0 0 0 0 0 0 0 0 0 0 0 0 0 0 0 0 0 0 0 0 0 0\n"
     ]
    },
    {
     "name": "stdout",
     "output_type": "stream",
     "text": [
      "INFO:tensorflow:label: tech (id = 0)\n"
     ]
    },
    {
     "name": "stderr",
     "output_type": "stream",
     "text": [
      "INFO:tensorflow:label: tech (id = 0)\n"
     ]
    },
    {
     "name": "stdout",
     "output_type": "stream",
     "text": [
      "INFO:tensorflow:Calling model_fn.\n"
     ]
    },
    {
     "name": "stderr",
     "output_type": "stream",
     "text": [
      "INFO:tensorflow:Calling model_fn.\n"
     ]
    },
    {
     "name": "stdout",
     "output_type": "stream",
     "text": [
      "INFO:tensorflow:****** Features ******\n"
     ]
    },
    {
     "name": "stderr",
     "output_type": "stream",
     "text": [
      "INFO:tensorflow:****** Features ******\n"
     ]
    },
    {
     "name": "stdout",
     "output_type": "stream",
     "text": [
      "INFO:tensorflow:name = input_ids, shape = (?, 128)\n"
     ]
    },
    {
     "name": "stderr",
     "output_type": "stream",
     "text": [
      "INFO:tensorflow:name = input_ids, shape = (?, 128)\n"
     ]
    },
    {
     "name": "stdout",
     "output_type": "stream",
     "text": [
      "INFO:tensorflow:name = input_mask, shape = (?, 128)\n"
     ]
    },
    {
     "name": "stderr",
     "output_type": "stream",
     "text": [
      "INFO:tensorflow:name = input_mask, shape = (?, 128)\n"
     ]
    },
    {
     "name": "stdout",
     "output_type": "stream",
     "text": [
      "INFO:tensorflow:name = label_ids, shape = (?,)\n"
     ]
    },
    {
     "name": "stderr",
     "output_type": "stream",
     "text": [
      "INFO:tensorflow:name = label_ids, shape = (?,)\n"
     ]
    },
    {
     "name": "stdout",
     "output_type": "stream",
     "text": [
      "INFO:tensorflow:name = segment_ids, shape = (?, 128)\n"
     ]
    },
    {
     "name": "stderr",
     "output_type": "stream",
     "text": [
      "INFO:tensorflow:name = segment_ids, shape = (?, 128)\n",
      "Exception ignored in: <generator object Estimator.predict at 0x7f53706aa1a8>\n",
      "Traceback (most recent call last):\n",
      "  File \"/home/I342202/virtualenv_py3/lib/python3.5/site-packages/tensorflow_estimator/python/estimator/estimator.py\", line 647, in predict\n",
      "    for key, value in six.iteritems(preds_evaluated)\n",
      "  File \"//usr/lib/python3.5/contextlib.py\", line 77, in __exit__\n",
      "    self.gen.throw(type, value, traceback)\n",
      "  File \"/home/I342202/virtualenv_py3/lib/python3.5/site-packages/tensorflow/python/framework/ops.py\", line 5652, in get_controller\n",
      "    yield g\n",
      "  File \"//usr/lib/python3.5/contextlib.py\", line 77, in __exit__\n",
      "    self.gen.throw(type, value, traceback)\n",
      "  File \"/home/I342202/virtualenv_py3/lib/python3.5/site-packages/tensorflow/python/framework/ops.py\", line 5467, in get_controller\n",
      "    type(default))\n",
      "AssertionError: Nesting violated for default stack of <class 'tensorflow.python.framework.ops.Graph'> objects\n"
     ]
    },
    {
     "name": "stdout",
     "output_type": "stream",
     "text": [
      "INFO:tensorflow:Saver not created because there are no variables in the graph to restore\n"
     ]
    },
    {
     "name": "stderr",
     "output_type": "stream",
     "text": [
      "INFO:tensorflow:Saver not created because there are no variables in the graph to restore\n"
     ]
    },
    {
     "name": "stdout",
     "output_type": "stream",
     "text": [
      "INFO:tensorflow:Done calling model_fn.\n"
     ]
    },
    {
     "name": "stderr",
     "output_type": "stream",
     "text": [
      "INFO:tensorflow:Done calling model_fn.\n"
     ]
    },
    {
     "name": "stdout",
     "output_type": "stream",
     "text": [
      "INFO:tensorflow:Graph was finalized.\n"
     ]
    },
    {
     "name": "stderr",
     "output_type": "stream",
     "text": [
      "INFO:tensorflow:Graph was finalized.\n"
     ]
    },
    {
     "name": "stdout",
     "output_type": "stream",
     "text": [
      "INFO:tensorflow:Restoring parameters from ./output_based_on_private_model/bbc/model.ckpt-556\n"
     ]
    },
    {
     "name": "stderr",
     "output_type": "stream",
     "text": [
      "INFO:tensorflow:Restoring parameters from ./output_based_on_private_model/bbc/model.ckpt-556\n"
     ]
    },
    {
     "name": "stdout",
     "output_type": "stream",
     "text": [
      "INFO:tensorflow:Running local_init_op.\n"
     ]
    },
    {
     "name": "stderr",
     "output_type": "stream",
     "text": [
      "INFO:tensorflow:Running local_init_op.\n"
     ]
    },
    {
     "name": "stdout",
     "output_type": "stream",
     "text": [
      "INFO:tensorflow:Done running local_init_op.\n"
     ]
    },
    {
     "name": "stderr",
     "output_type": "stream",
     "text": [
      "INFO:tensorflow:Done running local_init_op.\n"
     ]
    }
   ],
   "source": [
    "pred_list = getPrediction(sentences_list)"
   ]
  },
  {
   "cell_type": "code",
   "execution_count": 72,
   "metadata": {},
   "outputs": [
    {
     "data": {
      "text/plain": [
       "445"
      ]
     },
     "execution_count": 72,
     "metadata": {},
     "output_type": "execute_result"
    }
   ],
   "source": [
    "len(pred_list)"
   ]
  },
  {
   "cell_type": "code",
   "execution_count": 73,
   "metadata": {},
   "outputs": [
    {
     "data": {
      "text/plain": [
       "[('hobbit picture  four years away  lord of the rings director peter jackson has said that it will be up to four years before he starts work on a film version of the hobbit.  the oscar winner said on a visit to sydney there was a  desire  to make it  but not before lengthy negotiations.  i think it s gonna be a lot of lawyers sitting in a room trying to thrash out a deal before it will ever happen   said the new zealander. the rights to jrr tolkien s book are split between two major film studios. jackson  who is currently filming a remake of hollywood classic king kong  said he thought that the sale of mgm studios to the sony corporation would cast further uncertainty on the project. the 43-year-old was in the australian city to visit a lord of the rings exhibition  which has attracted 140 000 visitors since it opened in december.  the film-maker recently sued film company new line cinema for undisclosed damages over alleged withheld profits and lost revenue from the first part of the middle earth trilogy. the fellowship of the ring from 2001 went on to make worldwide profits of $291 million (£152 million). jackson is thought to have secured the most lucrative film directing deal in history to remake king kong  which is currently in production in wellington. the picture  which stars naomi watts and oscar winner adrien brody  is due to be released in december. jackson has also committed to making a film version of lovely bones  based on the best-selling book by alice sebold.',\n",
       "  array([5.2897498e-04, 9.9585873e-01, 2.2367130e-04, ..., 1.6634398e-06,\n",
       "         1.8607890e-06, 1.8829444e-06], dtype=float32),\n",
       "  array([-7.54456949e+00, -4.14987421e-03, -8.40533257e+00, ...,\n",
       "         -1.33066225e+01, -1.31945095e+01, -1.31826735e+01], dtype=float32),\n",
       "  'entertainment'),\n",
       " ('game firm holds  cast  auditions video game firm bioware is to hold open auditions for people to become cast members for future games.  the company  which makes role playing games such as knights of the old republic and neverwinter nights  is seeking people aged 18 to 99. the canada-based company says it was looking for  a wide variety of people to use as face models for characters . everyone chosen to appear in a video game will receive a performer s fee for the use of their image. the company is inviting people to come along to a shopping mall in west edmonton  alberta  on friday and saturday  bringing along a piece of photo identification.   there are hundreds and hundreds of characters in a typical bioware game   said shauna perry  bioware s audio and external resources producer.  those people live in any city and village and so we need ordinary people  people with interesting faces.  she added:  not everyone is a model in the world so we don t want just models in our games.  people chosen to appear in a game will have their head scanned in three dimensions. hundreds of photos of the person s head are taken so that a model of the head can be generated in 3d.  the 3d model will look exactly like the person - it s really quite incredible how detailed they are   said ms perry. she said chosen participants will have no control over how the image is used in a computer game.  we cannot give people any control over how the images are used.  but their face could be used in multiple games - so they could be the hero in one  the villain in another and just a merchant in a third.',\n",
       "  array([9.9253243e-01, 2.0272834e-03, 2.2719269e-04, ..., 3.2198000e-06,\n",
       "         2.0223667e-06, 1.4867538e-06], dtype=float32),\n",
       "  array([-7.4956124e-03, -6.2010584e+00, -8.3897123e+00, ...,\n",
       "         -1.2646192e+01, -1.3111242e+01, -1.3418916e+01], dtype=float32),\n",
       "  'tech'),\n",
       " ('clarke plans migrant point scheme anyone planning to move to the uk will have to pass a test to prove they can contribute to the country  home secretary charles clarke has said.  he is proposing a points system similar to australia s but would avoid the quota system planned by the tories. mr clarke  who will unveil his plans on monday  said economic migration helped the uk but  needed proper policing . the lib dems say they will look at his plans  but tory liam fox said his party offered a  clear choice  on the issue. the conservative party co-chairman said the british electorate had a choice between a labour government that had  done nothing for eight years and will not set a limit  on immigration and a tory one that would impose quotas.  the home secretary said  by 2008  he wanted everyone given a visa and entering the uk to have their fingerprints taken  to  ensure we can know everybody who is in the country . speaking on bbc one s breakfast with frost  he said  economic migrants are of great value to this country   but stressed that proper policing was needed to ensure that they do not become a  burden on society . he said:  we will establish a system ... which looks at the skills  talents and abilities of people seeking to come and work in this country  and ensures that when they come here they have a job and can contribute to the economy of the country.   the home secretary  whose five-year blueprint for immigration and asylum is expected to be published on monday  also rejected claims that the immigration debate encouraged bigotry.  the issue of who does come into this country  and whether they are entitled to be in this country  who does settle here  how we have border controls  is a perfectly legitimate aspect of public debate   he said. liberal democrat home affairs spokesman mark oaten said:  whilst it is good that labour has rejected the tory idea of quotas on asylum  the jury is still out on the home office s ability to deliver a fair and efficient asylum system.   mr howard has said britain should take its fair share of the world s  genuine refugees . but he claims the current asylum system is being abused - and with it britain s generosity. trevor phillips  chairman of the commission for racial equality  called on mr clarke to denounce the suggestion britain s hospitality was being tested by immigration.  tell that to the 44 000 doctors in the nhs and the 70 000 nurses without whom we would really see what pressure on the health service means   he said.  ditto the teachers  from south africa  australia  jamaica  who are reducing the sizes of our classes and schools.  the refugee council said mr howard s proposals would mean there would be no safe haven in the uk.',\n",
       "  array([2.2608510e-04, 6.4306318e-05, 1.9101109e-04, ..., 2.3967684e-06,\n",
       "         1.5180126e-06, 1.4513129e-06], dtype=float32),\n",
       "  array([ -8.394599 ,  -9.651853 ,  -8.563179 , ..., -12.941389 ,\n",
       "         -13.3981085, -13.443042 ], dtype=float32),\n",
       "  'politics'),\n",
       " ('radcliffe will compete in london paula radcliffe will compete in the flora london marathon this year after deciding her schedule for 2005.  the 31-year-old won the race in 2002 on her marathon debut  defended her title 12 months later and will now seek a third title in the 17 april race.  it doesn t get any better than this for the 25th anniversary   said race director david bedford.  after announcing the greatest men s field ever we now have the greatest women s distance runner ever.  three years ago radcliffe smashed the women s world record in two hours 18 minutes 15 seconds.  the bedford star returned to london 12 months later  lowering her mixed-race world record of 2:17:18  which she set in chicago in october 2003  by one minute 53 secs. radcliffe s career took a setback when she failed to complete the olympic marathon and later dropped out of the athens 10 000m last august. but the 31-year-old bounced back to win the new york marathon in november. radcliffe  however  passed up the chance to go for the  big city  marathon grand slam. with wins in chicago  london and new york  only the boston marathon remains to be conquered but that takes place a day after london.  boston is definitely a race i want to do at some point  but london is very special to me   said radcliffe.  i don t pick races thinking about things like pressure. i pick the ones in my heart i really want to do.  i love the atmosphere  crowds and course and know it will always be a great quality race.  it is also the 25th anniversary this year which adds to the occasion.',\n",
       "  array([3.3501896e-05, 1.1134174e-04, 9.9692708e-01, ..., 8.9653412e-07,\n",
       "         1.1957990e-06, 1.3858592e-06], dtype=float32),\n",
       "  array([-1.0303908e+01, -9.1029062e+00, -3.0776537e-03, ...,\n",
       "         -1.3924729e+01, -1.3636696e+01, -1.3489190e+01], dtype=float32),\n",
       "  'sport'),\n",
       " ('serena becomes world number two serena williams has moved up five places to second in the world rankings after her australian open win.  williams won her first grand slam title since 2003 with victory over lindsay davenport  the world number one. men s champion marat safin remains fourth in the atp rankings while beaten finalist lleyton hewitt replaces andy roddick as world number two. roger federer retains top spot  but safin has overtaken hewitt to become the new leader of the champions race. alicia molik  who lost a three-set thriller against davenport in the quarter-finals  is in the women s top 10 for the first time in her career. her rise means australia have a player in the top 10 of the men s and women s rankings for the first time in 21 years. and britain s elena baltacha  who qualified and then reached the third round  has risen to 120 in the world - a leap of 65 places and her highest ranking yet.',\n",
       "  array([4.0998071e-05, 1.5910860e-04, 9.9686396e-01, ..., 9.0853729e-07,\n",
       "         1.1788580e-06, 1.3817307e-06], dtype=float32),\n",
       "  array([-1.0101986e+01, -8.7459240e+00, -3.1409950e-03, ...,\n",
       "         -1.3911430e+01, -1.3650965e+01, -1.3492174e+01], dtype=float32),\n",
       "  'sport'),\n",
       " ('ultimate game  award for doom 3 sci-fi shooter doom 3 has blasted away the competition at a major games ceremony  the golden joystick awards.  it was the only title to win twice  winning ultimate game of the year and best pc game at the awards  presented by little britain star matt lucas. the much-anticipated sci-fi horror doom 3 shot straight to the top of the uk games charts on its release in august. other winners included grand theft auto: san andreas which took the most wanted for christmas prize. only released last week  it was closely followed by halo 2 and half-life 2  which are expected to be big hits when they are unleashed later this month.  but they missed out on the prize for the most wanted game of 2005  which went to the nintendo title  the legend of zelda. the original doom  released in 1994  heralded a new era in computer games and introduced 3d graphics. it helped to establish the concept of the first-person shooter. doom 3 was developed over four years and is thought to have cost around $15m (£8.3m). the top honour for the best online game of the year went to battlefield vietnam. the chronicles of riddick: escape from butcher bay was handed the unsung hero game of 2004. its release was somewhat eclipsed by doom 3  which was released on the same week. it was  however  very well received by gamers and was praised for its storyline which differed from the film released around the same time. electronic arts was named top publisher of the year  taking the crown from nintendo which won in 2003. the annual awards are voted for by more than 200 000 readers of computer and video games magazines. games awards like this have grown in importance. over the last six years  the uk market for games grew by 100% and was worth a record £1 152m in 2003  according to a recent report by analysts screen digest.',\n",
       "  array([9.9196130e-01, 2.4997310e-03, 2.4365511e-04, ..., 3.2843709e-06,\n",
       "         2.0655150e-06, 1.5423692e-06], dtype=float32),\n",
       "  array([-8.0711870e-03, -5.9915724e+00, -8.3197565e+00, ...,\n",
       "         -1.2626335e+01, -1.3090131e+01, -1.3382191e+01], dtype=float32),\n",
       "  'tech'),\n",
       " ('algeria hit by further gas riots algeria suffered a weekend of violent protests against government plans to raise gas prices  local press reports.  demonstrators in a number of regions blocked roads  attacked public buildings and overturned vehicles  newspapers including el watan reported. the price of butane gas  a vital fuel for cooking  has risen to 200 dinars ($2.77) per canister from 170 dinars. even before the hike  failing economic conditions had been fanning resentment in some of algeria s poorest regions.  demonstrators took to the streets last week when the cost change was first announced  but police seemed to have restored order. according to local press reports  trouble flared up again on saturday and carried on into sunday. el watan said that a number of hot spots centred on the villages and towns close to bouira  about 100 kilometres (60 miles) south of the capital algiers. among the other main areas affected were the western tiaret region and sidi ammar in the east of the country  agence france presse (afp) reported. riots also flared up in the maghnia region close to the border with morocco in the west  afp said. butane gas and fuel oil are used as the main source of fuel to heat homes and cook food in algeria s remote mountain areas.',\n",
       "  array([3.6248614e-04, 8.9538007e-05, 2.2835653e-04, ..., 1.6647755e-06,\n",
       "         1.4450625e-06, 2.0365765e-06], dtype=float32),\n",
       "  array([ -7.9225245,  -9.3208475,  -8.384603 , ..., -13.30582  ,\n",
       "         -13.447358 , -13.10424  ], dtype=float32),\n",
       "  'business'),\n",
       " ('fast lifts rise into record books two high-speed lifts at the world s tallest building have been officially recognised as the planet s fastest.  the lifts take only 30 seconds to whisk passengers to the top of the 508m tall tfc 101 tower in taipei  taiwan. the guinness book of records has declared the 17m per second speed of the two lifts the swiftest on earth. the lifts also have a pressure control system to stop passengers  ears popping as they ascend and descend at high speed.  in total  the tfc tower has 61 lifts  34 of them double-deckers  and 50 escalators to shuttle people around its 106 floors. the tfc 101 tower is due to be officially opened on 31 december.  the super-fast lifts can speed up to 24 passengers to the tip of the tower in about 30 seconds  while ascending their 382m track. the 17m/s top speed of the lifts translates to about 38mph (61km/h). curiously the lifts take longer to descend and spend almost a whole minute returning to ground level from the top of the tfc tower. the key new technologies applied in the world s fastest elevators include:    - a pressure control system  which adjusts the atmospheric pressure inside a car by using suction and discharge blowers  preventing  ear popping    - an active control system which tries to balance the lift more finely and remove the sources of vibrations   - streamlined cars to reduce the whistling noise produced by running the lifts at a high speed inside a narrow shaft      the certification of our elevators as world record-holders by the authoritative guinness world records is a great honour for us   said masayuki shimono  president of manufacturer toshiba elevator and building systems which installed the lifts. the first record for the world s fastest passenger elevators was published in the first edition of the guinness book of records in 1955.  as such  it is an interesting indicator of how technology has advanced in the 50 years since that first edition  when the record was 426m per minute  or 25.6 km/h  less than half the speed of the new record   said hein le roux  specialist researcher at the guinness world records. taipei s tfc 101 tower is more than 50m taller than the petronas towers in kuala lumpur  malaysia - formerly the world s tallest skyscraper.',\n",
       "  array([7.25890696e-01, 5.05550690e-02, 3.39927175e-03, ...,\n",
       "         1.34333895e-05, 9.24073811e-06, 1.16253077e-05], dtype=float32),\n",
       "  array([ -0.3203558,  -2.984692 ,  -5.684194 , ..., -11.217767 ,\n",
       "         -11.591888 , -11.362326 ], dtype=float32),\n",
       "  'tech'),\n",
       " ('muslim group attacks tv drama 24 a british muslim group has criticised the new series of us drama 24  which is about to be aired on sky one  claiming it portrays islam unfairly.  the muslim council of britain has complained to broadcasting watchdog ofcom. it says the programme breaches editorial guidelines. the group s members met with sky executives on tuesday after viewing previews of the first five episodes. the drama  now in its fourth series  begins on sunday evening. the new series portrays a muslim family as a sleeper terrorist cell. the muslim council of britain said in a statement:  we are greatly concerned by the unremittingly hostile and unbalanced portrayal of muslims in this series of 24 based upon a preview of the first five episodes that we have seen.   there is not a single positive muslim character in the storyline to date. at a time when negative stereotypes of muslims are on the increase we feel that sky - as a major uk broadcaster - has a responsibility to challenge these insidious views  not help to reinforce them.  but sky denied the programme breached broadcasting guidelines. a spokesperson said:  during a useful meeting yesterday  sky listened to the concerns raised by representatives of the council. sky does not believe that the episodes that it has reviewed to date breach ofcom s programme code.  fox tv  which shows the series in the us  is broadcasting public service announcements showing muslims in a positive light after complaints about the series.',\n",
       "  array([5.1558961e-04, 9.9580032e-01, 2.1064530e-04, ..., 1.7242727e-06,\n",
       "         1.9274748e-06, 1.9494905e-06], dtype=float32),\n",
       "  array([-7.5701995e+00, -4.2085182e-03, -8.4653349e+00, ...,\n",
       "         -1.3270705e+01, -1.3159300e+01, -1.3147943e+01], dtype=float32),\n",
       "  'entertainment'),\n",
       " ('us tv special for tsunami relief a us television network will screen a celebrity tv special to benefit the tsunami relief effort in south asia.  nbc will encourage viewer donations during an hour-long show featuring musical performances on 15 january. actress sandra bullock has donated $1m (£525 000) to the american red cross and actor leonardo dicaprio pledged a  sizable  aid contribution to unicef. meanwhile 70 hong kong music and movie stars re-recorded we are the world in mandarin and cantonese to raise funds.  the song will not be released as a single  but will be played regularly during a chinese telethon on friday in aid of victims of the boxing day disaster. around 140 000 people were killed and five million left homeless or without food and water after an earthquake below the indian ocean sent waves crashing into coastal communities in 11 countries.  the united nations warned that the number killed in the disaster could rise sharply  with aid yet to reach some remote areas. performers have yet to be confirmed for nbc s aid relief benefit later this month. it follows a two-hour telethon carried by all four major us television networks 10 days after the 11 september terror attacks in 2001. america: a tribute to heroes raised more than $150m (£79m) to help victims of the suicide attacks on the world trade center and pentagon.',\n",
       "  array([5.5877923e-04, 9.9585682e-01, 2.0323867e-04, ..., 1.6666553e-06,\n",
       "         1.8565969e-06, 1.8834291e-06], dtype=float32),\n",
       "  array([-7.4897561e+00, -4.1517736e-03, -8.5011292e+00, ...,\n",
       "         -1.3304691e+01, -1.3196765e+01, -1.3182416e+01], dtype=float32),\n",
       "  'entertainment'),\n",
       " ('brown names 16 march for budget chancellor gordon brown will deliver his budget to the house of commons on 16 march  the treasury has announced.  the budget  likely to be the last before the general election  will be at 1230 gmt on that wednesday  just after prime minister s question time. the annual event is when the chancellor outlines the government s taxation and broader economic predictions. it is likely to set out much of the tax and spending battleground for the election  widely expected on 5 may.  next month s budget will be mr brown s eighth since labour came to power in 1997. if a may election is called  there could be as little as 18 days between the budget and the announcement of a date for the election. a shortened finance bill would have to be rushed through parliament with all-party support to allow the government to continue collecting revenue. the full finance bill  with the budget measures in it  would then be returned to the commons after the election  if labour secures another term in office. as mr brown announced the budget date in a short ministerial statement  accountancy firm ernst & young urged him to put politics aside and focus on the long-term requirements of the economy.  in the budgets that were given immediately before the last six elections  taxes were cut by the incumbent chancellor and  in many cases  taxes were increased soon after the election result   said aidan o carroll  e&y s uk head of tax.',\n",
       "  array([2.2295801e-04, 6.4516542e-05, 2.1980678e-04, ..., 2.3480145e-06,\n",
       "         1.5287203e-06, 1.4693513e-06], dtype=float32),\n",
       "  array([ -8.408527,  -9.648589,  -8.422762, ..., -12.961941, -13.39108 ,\n",
       "         -13.43069 ], dtype=float32),\n",
       "  'politics'),\n",
       " ('choose hope over fear - kennedy voters will have a clear choice between the politics of fear and the politics of hope in the next general election  said charles kennedy.  in his new year message the liberal democrat leader said labour and the conservatives were united in relying on fear and  populist scares . he said his party was the one of hope and was ready for a 2005 poll. on the asian tsunami he said it had been  very heartening  to learn of the generosity being shown by britons. mr kennedy said his thoughts were with all those caught up in the disaster  which had dominated the christmas and new year period. at home he said many people were turning to the liberal democrats as they became disheartened with the politics of the other two main parties.  the general election would be a three-party struggle  as the conservative party  fades away  as a national force and the liberal democrats challenge labour in its heartlands  he said.  a clear division is emerging in british politics - the politics of fear versus the politics of hope.  labour is counting on the politics of fear  ratcheting up talk of threats  crime and insecurity. while the conservatives are re-working their populist scares about asylum and the european  menace    he said. he said the government was using this climate of fear to try to strip away civil liberties.  it was already using detention without trial at belmarsh prison  ignoring a recent law lords judgement that this contravenes basic human rights  he said. he also criticised attempts to bring in trial without jury  plans to lower the burden of proof in some criminal trials  curbing of rights to protest  increased stop and search powers and id card plans. he said while everyone had the right to be secure they also had the right to be protected against unfair discrimination.  but at the same time  an overmighty state is a dangerous one   he said. his party  instinctively  understood the  new liberal britain  which is no longer a nation with one family structure  and one colour  he said.  we are less deferential; more inclined to think for ourselves; more open about sexuality and equality.  our national institutions are changing too. we are no longer a nation of one church; we are a nation of many faiths. in our attitudes and the way we live our lives  this is in many ways a liberal britain.',\n",
       "  array([2.3437473e-04, 6.6476372e-05, 2.0001015e-04, ..., 2.3741013e-06,\n",
       "         1.5029192e-06, 1.4394284e-06], dtype=float32),\n",
       "  array([ -8.358589 ,  -9.618664 ,  -8.517142 , ..., -12.9508915,\n",
       "         -13.408101 , -13.451264 ], dtype=float32),\n",
       "  'politics'),\n",
       " ('worldcom bosses  $54m payout ten former directors at worldcom have agreed to pay $54m (£28.85m)  including $18m from their own pockets  to settle a class action lawsuit  reports say.  james wareham  a lawyer representing one of the directors  told reuters the 10 had agreed to pay those who lost billions when the firm collapsed. the remaining $36m will be paid by the directors  insurers. but  a spokesman for the prosecutor  new york state comptroller alan hevesi  said no formal agreement had been made.  corporate governance experts said that if the directors do dip into their own pockets for the settlement  it will set a new standard for the accountability of bosses  when the firms they oversee face problems.   directors very rarely pay   said charles elson  chairman of the center for corporate governance at the university of delaware. he added that the settlement  sends a pretty strong shockwave through the director world . a formal agreement on the payout is expected to be signed on thursday in a us district court in manhattan. earlier  the new york times had reported that the personal payments were required as part of any deal at the start of negotiations. the ten former outside directors are james allen  judith areen  carl aycock  max bobbitt  clifford alexander  stiles kellett  gordon macklin  john porter  lawrence tucker and the estate of john sidgmore  who died last year. it has not yet been determined how much each director will have to pay.  none of the 10 former directors was a direct participant in the accounting machinations of the worldcom fraud   said the wall street journal (wsj).  two other outside former directors  bert roberts and francesco galesi  remain defendants in the lawsuit  said the newspaper. according to the wsj  which cites people familiar to the case  the settling directors are expected to deny wrongdoing and state they are settling the case to eliminate the uncertainties and expense of further litigations. the second-largest us long-distance telecoms operator filed for bankruptcy in 2002 when an $11bn accounting scandal was unearthed. the company emerged from chapter 11 protection last year and changed its name to mci inc. former worldcom chief executive bernard ebbers is to face trial this month on criminal charges that he oversaw the fraud.',\n",
       "  array([3.2298351e-04, 8.3864070e-05, 2.1239040e-04, ..., 1.6295069e-06,\n",
       "         1.4420999e-06, 2.0591492e-06], dtype=float32),\n",
       "  array([ -8.0379095,  -9.386313 ,  -8.457085 , ..., -13.327233 ,\n",
       "         -13.44941  , -13.093218 ], dtype=float32),\n",
       "  'business'),\n",
       " ('de niro film leads us box office film star robert de niro has returned to the top of the north american box office with his film hide and seek.  the thriller shot straight to the number one spot after taking $22m (£11.7m) at the box office. de niro recently spent three weeks at the top with comedy meet the fockers  which was at number five this week. oscar hopefuls the aviator  million dollar baby and sideways all cashed in on their multiple nominations with stronger ticket sales.  in hide and seek  de niro plays a widower whose daughter has a creepy imaginary friend. despite lukewarm reviews from critics  the film took more than the expected $18m (£9.5m).  the element of a real actor in a psychological thriller certainly elevated it   said bruce snyder  president of domestic distribution at 20th century fox. clint eastwood s million dollar baby led the oscar hopefuls with $11.8m (£6.3m)  coming in at number three during its first weekend of wide release. the aviator  a film biography of howard hughes that leads the oscar field with 11 nominations  was at number six for the weekend with $7.5m (£4m). oscar best-picture nominee sideways entered the top ten for the first time in its 15th week of release. it came in seventh $6.3 (£3.35m). last week s top film  ice cube s road-trip comedy are we there yet   slipped to second place with $17m (£9m)  while coach carter fell two places to number four  taking $8m (£4.25m) in its third week. rounding out the top ten were in good company - starring dennis quaid and scarlett johansson - racing stripes and assault on precinct 13.',\n",
       "  array([5.2059081e-04, 9.9587029e-01, 2.1499577e-04, ..., 1.6783935e-06,\n",
       "         1.8680847e-06, 1.8762478e-06], dtype=float32),\n",
       "  array([-7.5605464e+00, -4.1382401e-03, -8.4448919e+00, ...,\n",
       "         -1.3297673e+01, -1.3190597e+01, -1.3186236e+01], dtype=float32),\n",
       "  'entertainment'),\n",
       " ('robinson ready for difficult task england coach andy robinson faces the first major test of his tenure as he tries to get back to winning ways after the six nations defeat by wales.  robinson is likely to make changes in the back row and centre after the 11-9 loss as he contemplates sunday s set-to with france at twickenham. lewis moody and martin corry could both return after missing the game with hamstring and shoulder problems. and the midfield pairing of mathew tait and jamie noon is also under threat. olly barkley immediately allowed england to generate better field position with his kicking game after replacing debutant tait just before the hour. the bath fly-half-cum-centre is likely to start against france  with either tait or noon dropping out.  tait  given little opportunity to shine in attack  received praise from robinson afterwards  even if the coach admitted cardiff was an  unforgiving place  for the teenage prodigy. robinson now has a tricky decision over whether to withdraw from the firing line  after just one outing  a player he regards as central to england s future. tait himself  at least outwardly  appeared unaffected by the punishing treatment dished out to him by gavin henson in particular.  i want more of that definitely   he said.  hopefully i can train hard this week and get selected for next week but we ll have to look at the video and wait and see.  we were playing on our own 22 for a lot of the first half so it was quite difficult. i thought we defended reasonably well but we ve just got to pick it up for france.   his newcastle team-mate noon hardly covered himself in glory in his first major test. he missed a tackle on michael owen in the build-up to wales  try  conceded a penalty at the breakdown  was turned over in another tackle and fumbled gavin henson s cross-kick into touch  all inside the first quarter. his contribution improved in the second half  but england clearly need more of a playmaker in the inside centre role. up front  the line-out remains fallible  despite a superb performance from chris jones  whose athleticism came to the fore after stepping into the side for moody. it is more likely the leicester flanker will return on the open side for the more physical challenge posed by the french forwards  with andy hazell likely to make way. lock ben kay also justified his recall with an impressive all-round display on his return to the side  but elsewhere england positives were thin on the ground.',\n",
       "  array([3.41361883e-05, 1.15657465e-04, 9.96947110e-01, ...,\n",
       "         9.00559996e-07, 1.18483342e-06, 1.36044059e-06], dtype=float32),\n",
       "  array([-1.0285152e+01, -9.0648775e+00, -3.0575690e-03, ...,\n",
       "         -1.3920249e+01, -1.3645908e+01, -1.3507702e+01], dtype=float32),\n",
       "  'sport'),\n",
       " ('us tv cuts nudity from bbc film a us tv network is editing bbc films  dirty war to avoid showing the front of a nude woman being scrubbed down after a fictional chemical attack.  it is not worth showing  non-essential  nude scenes when indecency complaints are  aggressively pursued  by us tv watchdogs  said pbs  jacoba atlas. dirty war - screened uncut on bbc one last september - depicts a dirty bomb attack on the city of london. it is also being screened uncut on us cable channel hbo on 24 january. pbs said it will use extra footage for its broadcast  showing the woman  from a more discreet angle  instead.  the us federal communications commission fined cbs $550 000 (£306 814) last autumn for singer janet jackson s  wardrobe malfunction   during which her breast was exposed during a dance routine with justin timberlake. many us networks and broadcasters are now more nervous about airing nudity  violence or bad language. ms atlas said pbs could put itself financially at risk if it showed the uncut version of dirty war  and it could also deter many of its 170 individual stations from airing  an important film .  you want to pick your battles   she said. she added that pbs  which is a private  non-profit media enterprise owned and operated by the nation s 349 public television stations  is bolder about screening non-fiction or historical programming. pbs is seen in virtually all us homes with tv  and describes itself as a  trusted community resource  serving nearly 100 million people each week.',\n",
       "  array([5.2277360e-04, 9.9586016e-01, 1.8498307e-04, ..., 1.7200092e-06,\n",
       "         1.9022161e-06, 1.9098943e-06], dtype=float32),\n",
       "  array([-7.5563622e+00, -4.1484493e-03, -8.5952463e+00, ...,\n",
       "         -1.3273181e+01, -1.3172491e+01, -1.3168463e+01], dtype=float32),\n",
       "  'entertainment'),\n",
       " ('french honour for director parker british film director sir alan parker has been made an officer in the order of arts and letters  one of france s highest cultural honours.  sir alan received his decoration in paris on wednesday from french culture minister renaud donnedieu de vabres.  you have explored the possibilities of film with an immense talent   mr de vabres said as he presented the award. parker praised french films  saying:  hollywood  which created modern cinema  uses it only as a commodity.  he told the minister:  i am honoured to be thus distinguished by france  the flag carrier of cinema throughout the world.  sir alan s films include oscar-winning fame plus midnight express and the commitments.  a founding member of the director s guild of great britain  he is a former chairman of the uk film council and on the board of the british film institute.  through your work and your campaigns  you have shown us how the artist occupies an essential place in our contemporary society   mr de vabres said.  through your dreams which you show us  through the links that you weave  you question the world through the mirror of your work.  he also cited the director s 2003 film the life of david gale  in which kevin spacey played a man on death row  as proof of his  veritable artistic commitment against the death sentence .',\n",
       "  array([5.2772957e-04, 9.9583435e-01, 2.2731851e-04, ..., 1.6731103e-06,\n",
       "         1.8715104e-06, 1.8781278e-06], dtype=float32),\n",
       "  array([-7.5469265e+00, -4.1743293e-03, -8.3891582e+00, ...,\n",
       "         -1.3300826e+01, -1.3188765e+01, -1.3185235e+01], dtype=float32),\n",
       "  'entertainment'),\n",
       " ('standoff  on deutsche s lse bid deutsche boerse investors unhappy with its london stock exchange bid will have no chance to throw out the exchange s management until may  reuters says.  the sunday times reported that hedge funds tci and atticus were planning to demand the removal of the group s chairman and chief executive. but deutsche boerse told news agency reuters such a move would have to wait until may s annual general meeting. investors want deutsche to return cash to shareholders rather than bid.  we are long-term investors and are experienced in removing management. we are not scared to take this to its conclusion this time   atticus  david slager told the sunday times. however  deutsche boerse told reuters:  tci s request for the removal of the supervisory board will be considered at the annual general meeting on may 25.   the sunday times reported that tci had been drawing up a list of heavyweight executives to replace deutsche s chairman rolf breuer and chief executive werner seifert. the group owns more than 5% of deutsche - more than enough to demand an extraordinary general meeting to call on shareholders to oust the german exchange s management. under german law deutsche does not need investor backing to make a takeover bid. tci and atticus have opposed the lse bid for some time saying it would destroy shareholder value  and would be better spent on a share buyback. deutsche is in competition with pan-european bourse euronext to take over the london exchange. many commentators have suggested a bidding war between the two could break out. however  any such move would have to wait until march when the office of fair trading completes an investigation into the competition aspects of the pair s takeover proposals.',\n",
       "  array([3.1701327e-04, 8.0325146e-05, 2.1751299e-04, ..., 1.6404059e-06,\n",
       "         1.4476974e-06, 2.0424802e-06], dtype=float32),\n",
       "  array([ -8.056567,  -9.429428,  -8.433252, ..., -13.320567, -13.445537,\n",
       "         -13.101346], dtype=float32),\n",
       "  'business'),\n",
       " ('chepkemei hit by big ban kenya s athletics body has suspended two-time london marathon runner-up susan chepkemei from all competition until the end of the year.  athletics kenya (ak) issued the ban after chepkemei failed to turn up for a cross country training camp in embu.  we have banned her from all local and international competitions   said ak chief isaiah kiplagat.  we shall communicate this decision to the iaaf and all meet directors all over the world.  the 29-year-old finished second to paula radcliffe in the 2002 and 2003 london races  and was also edged out in an epic new york marathon contest last year.  but the ban will prevent the two-time world half-marathon silver medallist from challenging radcliffe at this year s london event in april. global sports communications  chepkemei s management company  said she had wanted to run in the world cross country championships in march. but ak maintained it was making an example of chepkemei as a warning to other kenyan athletes.  we are taking this action in order to salvage our pride   said kiplagat.  we have been accused of having no teeth to bite with and that agents are ruling over us.  ka has also threatened three-time women s short-course champion edith masai with a similar ban if reports that she feigned injury to avoid running at the cross country world championships are true. masai missed the national trials in early february  but was included in the provisional team on the proviso that she ran in a regional competition. she failed to run in the event  citing a leg injury.',\n",
       "  array([3.3555094e-05, 1.1112234e-04, 9.9693155e-01, ..., 8.9692043e-07,\n",
       "         1.1838966e-06, 1.3751238e-06], dtype=float32),\n",
       "  array([-1.0302321e+01, -9.1048784e+00, -3.0731377e-03, ...,\n",
       "         -1.3924298e+01, -1.3646699e+01, -1.3496966e+01], dtype=float32),\n",
       "  'sport'),\n",
       " ('peace demo appeal rejected peace protestors have lost a landmark appeal over police actions in stopping an anti-war demonstration days after the start of the iraq war.  they had appealed against a high court decision that it was not unlawful for police to forcibly turn protestors away near raf fairford  glos  in 2003. the police had also sought to overturn a breach of human rights ruling arising from the same case. sitting on wednesday  three appeal court judges dismissed both appeals. they were challenging decisions by two judges in the high court in february this year. it followed action by police  when three coachloads of people were searched and detained on the way to raf fairford and forced to return to london under police escort. the demonstrators appealed against a finding by lord justice may and mr justice harrison that it was not unlawful for the police to turn the passengers away.  the police were urging lord chief justice and lord justices clarke and rix to overturn the ruling that they had breached the protestors  human rights by detaining them in the coaches. craig mackey  assistant chief constable of gloucestershire police  said:  we have always considered that our responses were proportionate and all our decisions on the day were based on intelligence.  he said no one on the coaches accepted responsibility for items found on the coaches including body armour  a smoke bomb and five shields.  given these circumstances  and the fact that raf fairford  and other military installations in the uk  had been the scene of increasingly destructive disorder in the weeks preceding this incident  the police commander on the ground made the decision to turn back the coaches.  from day one we have vigorously defended this decision  which was made out of a genuine concern that if the coaches were allowed to proceed it would have resulted in disorder and criminal damage at raf fairford.  fairford coach action  representing more than 80 people who appealed against the police actions  say they are prepared to take their case to the european court of human rights. their action is supported by amnesty international and liberty.',\n",
       "  array([2.3573851e-04, 6.6621695e-05, 1.8433017e-04, ..., 2.4660221e-06,\n",
       "         1.5272431e-06, 1.4716587e-06], dtype=float32),\n",
       "  array([ -8.352787,  -9.61648 ,  -8.598782, ..., -12.912904, -13.392046,\n",
       "         -13.42912 ], dtype=float32),\n",
       "  'politics'),\n",
       " ('microsoft makes anti-piracy move microsoft says it is clamping down on people running pirated versions of its windows operating system by restricting their access to security features.  the windows genuine advantage scheme means people will have to prove their software is genuine from mid-2005. it will still allow those with unauthorised copies to get some crucial security fixes via automatic updates  but their options would be  limited . microsoft releases regular security updates to its software to protect pcs. either pcs detect updates automatically or users manually download fixes through microsoft s site. those running pirated windows programs would not have access to other downloads and  add-ons  that the software giant offers.  people who try to manually download security patches will have to let microsoft run an automated checking procedure on their computer or give an identification number.  microsoft s regular patches which it releases for newly-found security flaws are important because they stop worms  viruses and other threats penetrating pcs. some security experts are concerned that restricting access to such patches could mean a rise in such attacks and threats  with more pcs left unprotected. but graham cluley  senior consultant at security firm sophos  told the bbc news website that it was a positive decision.  it sounds like their decision to allow critical security patches to remain available to both legitimate and illegitimate users of windows is good news for everyone who uses the net   he said. windows genuine advantage was first introduced as a pilot scheme in september 2004 for english-language versions of windows.  microsoft s windows operating system is heavily exploited by virus writers because it is so widespread and they are constantly seeking out new security loopholes to take advantage of. the company is trying to tackle security threats whilst cracking down on pirated software at the same time. software piracy has cost the company billions  it says. the company announced earlier in january that it was releasing security tools to clean up pcs harbouring viruses and spyware  which 90% of pcs are infected with. the virus-fighting program  updated monthly  is a precursor to microsoft s dedicated anti-virus software. last year it introduced the windows xp counterfeit project  a uk-based pilot scheme  which ran from november to december. the scheme meant that anyone with pre-installed copies of the operating system in pcs bought before november could replace counterfeit versions of windows xp with legal ones for free. it is also increasing efforts to squash software piracy in china  norway and the czech republic  where pirated software is a huge problem  by offering discounts on legitimate software to users of pirated copies windows.  china in particular is a problem  with piracy estimated at 92%   said mr cluley.',\n",
       "  array([9.9254006e-01, 2.0170414e-03, 2.2555693e-04, ..., 3.2389626e-06,\n",
       "         2.0256309e-06, 1.5039150e-06], dtype=float32),\n",
       "  array([-7.4879220e-03, -6.2061234e+00, -8.3969383e+00, ...,\n",
       "         -1.2640258e+01, -1.3109630e+01, -1.3407439e+01], dtype=float32),\n",
       "  'tech'),\n",
       " ('continental  may run out of cash  shares in continental airlines have tumbled after the firm warned it could run out of cash.  in a filing to us regulators the airline warned of  inadequate liquidity  if it fails to reduce wage costs by $500m by the end of february. continental also said that  if it did not make any cuts  it expects to lose  hundreds of millions of dollars  in 2005 in current market conditions. failure to make cutbacks may also push it to reduce its fleet  the group said. shares in the fifth biggest us carrier had fallen 6.87% on the news to $10.44 by 1830 gmt.  without the reduction in wage and benefit costs and a reasonable prospect of future profitability  we believe that our ability to raise additional money through financings would be uncertain   continental said in its filing to the us securities and exchange commission (sec).  airlines have faced tough conditions in recent years  amid terrorism fears since the 11 september world trade centre attack in 2001. but despite passengers returning to the skies  record-high fuel costs and fare wars prompted by competition from low cost carriers have taken their toll. houston-based continental now has debt and pension payments of nearly $984m which it must pay off this year. the company has been working to streamline its operations - and has managed to save $1.1bn in costs without cutting jobs. two weeks  ago the group also announced it would be able to shave a further $48m a year from its costs with changes to wage and benefits for most of its us-based management and clerical staff.',\n",
       "  array([3.2570673e-04, 8.0896643e-05, 2.1389255e-04, ..., 1.6330150e-06,\n",
       "         1.4408998e-06, 2.0412981e-06], dtype=float32),\n",
       "  array([ -8.029513 ,  -9.4223385,  -8.450037 , ..., -13.325083 ,\n",
       "         -13.450243 , -13.101925 ], dtype=float32),\n",
       "  'business'),\n",
       " ('souness eyes summer move for owen newcastle boss graeme souness is lining up a summer move for england and real madrid striker michael owen.  he sees owen as the ideal replacement for alan shearer  who is due to retire in the summer  although he hopes to persuade shearer to carry on.  michael is in the category of players who would excite the fans and we re monitoring him   he told bbc newcastle.  he is a great centre-forward and only 25 but i don t think we re the only ones monitoring the situation at real.  souness has also hinted he thinks shearer may carry on despite his stated intent to retire at the end of the season. he believes the prospect of breaking jackie milburn s club scoring record may influence the striker s decision.  milburn scored 200 league and cup goals between 1946 and 1957  while shearer currently has 187 goals to his name.  without giving too much away  i am confident he will be here next season   said souness.  i can t imagine him leaving without breaking jackie milburn s scoring record.  souness also revealed he tried to bring back nolberto solano during the january transfer window. the peruvian international was sold to aston villa a year ago but in the phone-in for bbc newcastle  souness said tried to re-sign him  but villa were not interested in selling.  the former rangers and liverpool boss is also looking to bring in a number of new acquisitions once the current campaign has been completed.  i m after three  four or five new players in the summer - we have got lots of targets   he said.  don t think we will wait to the last day of the season to say: `who are we going to target now',\n",
       "  array([3.3215158e-05, 1.1101693e-04, 9.9694484e-01, ..., 9.1278241e-07,\n",
       "         1.1883614e-06, 1.3679808e-06], dtype=float32),\n",
       "  array([-1.0312504e+01, -9.1058273e+00, -3.0598270e-03, ...,\n",
       "         -1.3906768e+01, -1.3642935e+01, -1.3502174e+01], dtype=float32),\n",
       "  'sport'),\n",
       " ('super size me wins writers  award super size me director morgan spurlock has won the writers guild of america s award for documentary feature writing.  the oscar-nominated film followed spurlock as he ate only mcdonald s fast food for an entire month. spurlock was given the award at a special ceremony at the roosevelt hotel in hollywood on tuesday. organisers said the rising popularity of documentary films led them to honour a writer for a documentary screenplay for the first time.  producer brian grazer presented the award to spurlock and the film s backers  roadside attractions  samuel goldwyn films and showtime independent films. spurlock set out to discover the effect of living on nothing but mcdonald s for a month  upgrading to supersize portions when offered. the film followed his 25lb weight gain and the health effects on his body  including his liver and cholesterol levels. mcdonald s announced it was to scrap its  supersized  meals last year  but denied the move was as a result of the negative publicity created by spurlock s film. spurlock was given his award on the same day the european court of human rights ruled that two uk activists should have been given legal aid in their long fight against a mcdonald s libel action. helen steel and david morris  from north london  dubbed the  mclibel two   were found guilty in a 1990s trial of libelling the company in a leaflet they had been handing out at the end of the case the high court in london ruled mcdonald s had been libelled and awarded the company £60 000 in damages  later reduced to £40 000 on appeal. but he found the leaflet was true in some aspects.',\n",
       "  array([5.3239515e-04, 9.9585968e-01, 2.0148826e-04, ..., 1.6959667e-06,\n",
       "         1.8727669e-06, 1.8894992e-06], dtype=float32),\n",
       "  array([-7.5381246e+00, -4.1489243e-03, -8.5097790e+00, ...,\n",
       "         -1.3287257e+01, -1.3188093e+01, -1.3179198e+01], dtype=float32),\n",
       "  'entertainment'),\n",
       " ('dublin hi-tech labs to shut down dublin s hi-tech research laboratory  media labs europe  is to shut down.  the research centre  which was started by the irish government and the massachusetts institute of technology  was a hotbed for technology concepts. since its opening in 2000  the centre has developed ideas  such as implants for teeth  and also aimed to be a digital hub for start-ups in the area. the centre was supposed to be self-funded  but has failed to attract the private cash injection it needs. in a statement  media labs europe said the decision to close was taken because neither the irish government nor the prestigious us-based massachusetts institute of technology (mit) was willing to fund it. prime minister bertie ahern had wanted to the centre to become a big draw for smaller hi-tech companies  in an attempt to regenerate the area.  about three dozen small firms were attracted to the area  but it is thought the effects of the dot.com recession damaged the labs  long-term survival. the labs needed about 10 million euros (us$13 million) a year from corporate sponsors to survive.  in the end  it was too deep and too long a recession   said simon jones  the labs  managing director. ian pearson  bt s futurologist  told the bbc news website that the closure was a  real shame . bt was just one of the companies that had worked with the labs  looking at rfid tag developments and video conferencing.  there were a lot of very talented  creative people there and they came up with some great ideas that were helping to ensure greater benefits of technology for society.  i have no doubt that the individuals will be quickly snapped up by other research labs  but the synergies from them working as a team will be lost.   noel dempsey  the government s communications minister  said mr ahern had been  very committed  to the project.  he is  i know  very disappointed it has come to this. at the time it seemed to be the right thing to do   he said.  unfortunately the model is not a sustainable one in the current climate.   during its five years  innovative and some unusual ideas for technologies were developed. in recent months  14 patent applications had been filed by the labs. many concepts fed into science  engineering  and psychology as well as technology  but it is thought too few of the ideas were commercially viable in the near-term. several research teams explored how which humans could react with technologies in ways which were entirely different. the human connectedness group  for example  developed the iband  a bracelet which stored and exchanged information about you and your relationships. this information could be beamed to another wearer when two people shook hands. other projects looked at using other human senses  like touch  to interact with devoices which could be embedded in the environment  or on the body itself. one project examined how brainwaves could directly control a computer game. the labs  set up in an old guinness brewery  housed around 100 people  made up of staff  researchers  students  collaborators and part-time undergraduate students. it is thought more than 50 people will lose their jobs when the labs close on 1 february. according to its latest accounts  media lab europe said it spent 8.16 million euros (about us$10.6 million) in 2003 and raised just 2.56 million euros (us$3.3 million).',\n",
       "  array([9.9240053e-01, 2.1258458e-03, 2.2660749e-04, ..., 3.2161806e-06,\n",
       "         2.0070836e-06, 1.4738474e-06], dtype=float32),\n",
       "  array([-7.6284762e-03, -6.1535854e+00, -8.3922911e+00, ...,\n",
       "         -1.2647316e+01, -1.3118828e+01, -1.3427634e+01], dtype=float32),\n",
       "  'tech'),\n",
       " ('kelly trails new discipline power teachers could get more powers to remove unruly pupils from classes under a  zero tolerance  drive  education secretary ruth kelly has suggested.  ms kelly told the bbc progress had been made against severely disruptive children but parents were still worried about lower level problems. the minister also confirmed she received  spiritual support  from the catholic movement opus dei. but she denied her faith meant she would refuse key government jobs.  the conservatives have made school discipline one of their five priority areas in the run-up to the next general election. ms kelly is expected to announce her plans on the issue in the next fortnight. she told bbc one s breakfast with frost:  it is really important to support head teachers and teachers in tackling disruption in the classroom.  we have made huge progress on the really difficult cases  the pupils who have severely disruptive behaviour.   but quite rightly what teachers are concerned about and what parents are concerned about is that this lower level disruption that goes on in the classroom now is tackled.  i would like to see the teacher being able to remove disruptive children from the classroom completely and have either alternative provision within the school or indeed off the school and may be working together with other schools in a particular area to provide that provision.  it is thought the plans may distinguish between excluding pupils from schools and taking them out of mainstream classes. head teachers can currently exclude pupils who commit or threaten violence in school  who sexually abuse pupils or other people  who sell illegal drugs or who have persistent and malicious disruptive behaviour. ms kelly entered the cabinet last month in the reshuffle forced by the resignation of the then home secretary david blunkett. her links to opus dei  which means  work of god  in latin  have provoked controversy.  critics say the organisation  which adheres strictly to catholic teachings  is secretive and elitist but its members reject such claims. asked if she was a member of the group  ms kelly said:  i do have spiritual support from opus dei and that is right.  but those are private spiritual matters and i m sure you ll respect that politicians are entitled to a private life.  she categorically denied reports that her beliefs on issues such as contraception would make her refuse to serve as a health or international development minister. her collective responsibility as a cabinet minister meant she also took responsibility for policies in those areas  she argued.  the government has yet to issue its official response to the tomlinson review  which recommended absorbing existing exam qualifications into a diploma. ms kelly said reforms should build on gcses and a-levels. her comments did not impress tory shadow education secretary tim collins.  ruth kelly wants to ditch the tomlinson report on exam structures but has absolutely no idea what to put in its place   he said.  she also talks of improving discipline but cannot make her mind up how. this is an all talk agenda that lets down children  teachers and parents.',\n",
       "  array([2.2757309e-04, 6.6830988e-05, 1.9245387e-04, ..., 2.3873915e-06,\n",
       "         1.5047415e-06, 1.4545590e-06], dtype=float32),\n",
       "  array([ -8.38804 ,  -9.613344,  -8.555655, ..., -12.94531 , -13.40689 ,\n",
       "         -13.440808], dtype=float32),\n",
       "  'politics'),\n",
       " ('clarke to unveil immigration plan new controls on economic migrants and tighter border patrols will be part of government plans unveiled on monday.  home secretary charles clarke wants to introduce a points system for economic migrants and increase deportations of failed asylum seekers. tony blair has said people are right to be concerned about abuses of the system but there is no  magic bullet . the tories say labour is acting too late while the lib dems say the plans may not produce an efficient system.  the government s new five-year plan is designed to show how labour would reform immigration and asylum controls if it wins the election  expected to be held in may. ministers deny they have been spurred into action by tory campaigning or because the prime minister is worried too little has been done.  instead  they say the plans are part of an  evolving  process aimed at winning public confidence. mr clarke is expected to announce an end to the automatic right to settle for immigrants  families  and the introduction of fingerprinting for all visa applicants. the prime minister on sunday said immigration would be  toughened up  to ensure only those immigrants with skills the uk really needs will be granted work permits. but he rejected the tories  call for a quota on economic migrants  saying no  arbitrary figure  could reflect the uk s needs.  mr blair told bbc radio 4 s westminster hour:  we should cut the number or increase it depending on the country s needs...  the public are worried about this  they are worried rightly  because there are abuses of the immigration and asylum system.  but he defended the uk s current regime  saying all systems around the world were subject to abuse. tory proposals to cap the number of asylum seekers and process all claims abroad would not work  argued mr blair.  he said:  we will not be... pretending there is some simple easy way of processing britain s asylum seekers in some other country  because no such other country exists.  conservative shadow home secretary david davis said the government had failed to remove 250 000 failed asylum seekers from the uk and limits on economic migrants had been a  shambles .  what we are seeing today is a rather panicky response from the government after eight years of failure   he said. liberal democrat home affairs spokesman mark oaten said labour was right to reject the tories  idea of quotas on asylum. but he said it was yet to be seen if mr clarke could deliver  a fair and efficient asylum system .',\n",
       "  array([2.2793353e-04, 6.4823726e-05, 1.9050918e-04, ..., 2.3761061e-06,\n",
       "         1.5105726e-06, 1.4458066e-06], dtype=float32),\n",
       "  array([ -8.3864565,  -9.643839 ,  -8.56581  , ..., -12.9500475,\n",
       "         -13.403022 , -13.446843 ], dtype=float32),\n",
       "  'politics'),\n",
       " ('english clubs make euro history all four of england s champions league representatives have reached the knockout stages for the first time.  arsenal and chelsea are seeded as group winners  while runners-up manchester united and liverpool are not. rules stipulate that teams from the same country or group will be kept apart in the draw on 17 december. the favourites are chelsea and barcelona  and real madrid  the two milan sides  juventus and bayern munich are among the 16 still in the hat.  steven gerrard s last-gasp wonder-strike secured qualification for  against olympiakos on wednesday evening.  ac milan  bayer leverkusen  internazionale  juventus  lyon.  who had already qualified  fielded a second-string side and went down 3-0 to fenerbahce.  ac milan  bayer leverkusen  internazionale  juventus  monaco.  on tuesday   finished top of their group with a 5-1 win over the rosenborg after drawing four of their first five matches.  barcelona  bayern munich  porto  real madrid  werder bremen    who had already qualified lost 2-1 to porto as jose mourinho made an unhappy return to his former club.  barcelona  bayern munich  psv eindhoven  real madrid  werder bremen.',\n",
       "  array([3.7320235e-05, 1.2908720e-04, 9.9693429e-01, ..., 8.9599354e-07,\n",
       "         1.1717888e-06, 1.3398759e-06], dtype=float32),\n",
       "  array([-1.0195975e+01, -8.9550228e+00, -3.0704045e-03, ...,\n",
       "         -1.3925333e+01, -1.3656980e+01, -1.3522934e+01], dtype=float32),\n",
       "  'sport'),\n",
       " ('dal maso in to replace bergamasco david dal maso has been handed the task of replacing the injured mauro bergamasco at flanker in italy s team to face scotland on saturday.  alessandro troncon continues at scrum-half despite the return to fitness of paul griffen. the experienced cristian stoica is recalled at centre at the expense of walter pozzebon.  we are going to scotland for the first away win and nothing else   said manager marco bollesan.  i really believe this is the team who will have all our faith for saturday s game.  we lost a player like mauro bergamasco who has been important for us  but (coach) john (kirwan) has put together the best team at present  if not ever.  r de marigny (parma); mirco bergamasco (stade francais)  c stoica (montpellier)  a masi (viadana)  l nitoglia (calvisano); l orquera (padova)  a troncon (treviso); a lo cicero (l aquilla)  f ongaro (treviso)  m castrogiovanni (calvisano)  s dellape (agen)  m bortolami (narbonne  capt)  a persico (agen)  d dal maso (treviso)  s parisse (treviso).  g intoppa (calvisano)  s perugini (calvisano)  ca del fava (parma)  s orlando (treviso)  p griffen (calvisano)  r pedrazzi (viadana)  k robertson (viadana).',\n",
       "  array([3.4822740e-05, 1.1257601e-04, 9.9694794e-01, ..., 9.1271477e-07,\n",
       "         1.1812690e-06, 1.3613801e-06], dtype=float32),\n",
       "  array([-1.0265240e+01, -9.0918818e+00, -3.0567371e-03, ...,\n",
       "         -1.3906842e+01, -1.3648921e+01, -1.3507011e+01], dtype=float32),\n",
       "  'sport'),\n",
       " ('golden rule  intact  says ex-aide chancellor gordon brown will meet his golden economic rule  with a margin to spare   according to his former chief economic adviser.  formerly one of mr brown s closest treasury aides  ed balls hinted at a budget giveaway on 16 march. he said he hoped more would be done to build on current tax credit rules. any rate rise ahead of an expected may election would not affect the labour party s chances of winning  he added. last july  mr balls won the right to step down from his treasury position and run for parliament  defending the labour stronghold of normanton in west yorkshire.  mr balls rejected the allegation that mr brown had been sidelined in the election campaign  saying he was playing a  different  role to the one he played in the last two elections. he rejected speculation that mr brown was considering becoming foreign secretary  saying his recent travels had been linked to efforts to boost international development. gordon brown s decision to announce the date of the budget while on a trip to china was a  sensible thing to do   since he was talking about skills and investment at the time  mr balls told the bbc. commenting on speculation of an interest rate rise  he said it was not within the remit of the bank of england s monetary policy committee (mpc) to factor a potential election into its rate decisions. expectations of a rate rise have gathered pace after figures showed that house prices are still rising. consumer borrowing rose at a near-record pace in january.  i don t believe it would be a big election issue in britain or a problem for labour   mr balls said. prime minister tony blair has yet to name the date of the election  but most pundits are betting on 5 may as the likely day.',\n",
       "  array([2.8299203e-04, 7.4471376e-05, 2.6795189e-04, ..., 2.5635704e-06,\n",
       "         1.6707902e-06, 1.5673857e-06], dtype=float32),\n",
       "  array([ -8.170092 ,  -9.5050955,  -8.224703 , ..., -12.874109 ,\n",
       "         -13.302214 , -13.366101 ], dtype=float32),\n",
       "  'politics'),\n",
       " ('yukos unit fetches $9bn at auction a little-known russian company has bought the main production unit of oil giant yukos at auction in moscow.  baikal finance group outbid favourite gazprom  the state-controlled gas monopoly  to buy yuganskneftegas. baikal paid 260.75bn roubles ($9.37bn: £4.8bn) for yugansk - nowhere near the $27bn russia says yukos owes in taxes. yukos reacted immediately by repeating its view that the auction was illegal in international and russian law  and said baikal had bought itself trouble.   the company considers that the victor of today s auction has bought itself a serious $9bn headache   said yukos spokesman alexander shadrin. he said the company would continue to make  every lawful move  to protect tens of thousands of shareholders in yukos from  this forcible and illegitimate removal of their property . meanwhile  tim osborne  head of yukos main shareholders  group menatep  said that yukos may have to declare itself bankrupt  and that legal action would be taken  outside russia  against the auction winners. reports from russia say baikal has paid a deposit of nearly $1.7bn from a sberbank (savings bank) account to the russian federal property fund  for yugansk.  the sale came despite a restraining order issued by a us court dealing with the firm s bankruptcy application for chapter 11 protection. yukos has always insisted the auction was state-sponsored theft but russian authorities argued they were imposing the law  trying to recover billions in unpaid taxes. there were originally four registered bidders  and with its close ties to the kremlin  state-backed gas monopoly gazprom had been seen as favourite. but just two companies turned up for the auction  gazprom and the unknown baikal finance group  named after a large freshwater lake in siberia. and  according to tass news agency  gazprom did not make a single bid  leaving the way open for baikal  which paid above the auction start price of 246.75bn roubles.  mystery firm baikal finance group is officially registered in the central russian region of tver  but many analysts believe it may be linked to gazprom. kaha kiknavelidze  analyst at troika dialog  said:  i think a decision that yugansk should end up with gazprom was taken a long time ago. so the main question was how to structure this transaction.   i would not exclude that the structure of the deal has slightly changed and gazprom now has a partner.  i would also not exclude that baikal will decline to pay in 14 days  that are given by law  and gazprom is then recognised as the winner. this would give gazprom an extra 14 days to accumulate the needed funds.  another surprise was that the winner paid a significant premium above the starting price.  however  gazprom has announced it is not linked to baikal in any way. and paul collison  chief analyst at brunswick ubs  said:  i see no plausible explanation for the theory that baikal was representing competing interests.  yugansk will most likely end up with gazprom but could still end up with the government. there is still potential for surprises.  yugansk is at the heart of yukos - pumping close to a million barrels of oil a day. the unit was seized by the government which claims the oil giant owes more than $27bn in taxes and fines. yukos says those tax demands are exorbitant  and had sought refuge in us courts.  the us bankruptcy court s initial order on thursday - to temporarily block the sale - in response to yukos filing for chapter 11 bankruptcy protection  was upheld in a second ruling on saturday. the protection  if recognised by the russian authorities  would have allowed yukos  current management to retain control of the business and block the sale of any company assets. yukos has said the sale amounts to expropriation - punishment for the political ambitions of its founder  mikhail khodorkovsky. mr khodorkovsky is now in jail  on separate fraud charges. but president vladimir putin has described the affair as a crackdown on corruption - and the bbc s sarah rainsford in moscow says most russians believe the destruction of yukos is now inevitable. hours before the auction lawyers for menatep  a group through which mr khodorkovsky and his associates control yukos  said they would take legal action in other countries. menatep lawyers  who were excluded from observing the auction  said they would retaliate by seeking injunctions in foreign courts to impound russian oil and gas exports.',\n",
       "  array([3.1613969e-04, 8.2428531e-05, 1.9872145e-04, ..., 1.6688585e-06,\n",
       "         1.4559777e-06, 2.0478758e-06], dtype=float32),\n",
       "  array([ -8.059326,  -9.403579,  -8.523606, ..., -13.30337 , -13.439833,\n",
       "         -13.098707], dtype=float32),\n",
       "  'business'),\n",
       " ('takeover rumour lifts exel shares shares in storage and delivery firm exel closed up 9% at a two-and-a-half year high on tuesday on speculation it is to receive an imminent takeover bid.  the talk in the city is that us giant united parcel services (ups) is the most likely bidder for the firm. yet other names mentioned in connection to buying exel are dhl-owner deutsche post and finance firm ge capital. with its shares closing tuesday at 873p  bracknell-based exel is currently valued at £2.6bn ($6.3bn).  exel employs 109 000 people in more than 120 countries and has itself been active in the consolidation of the logistics sector  paying £328m to buy fellow uk firm tibbett & britten last august. its customers include boots  burberry  mothercare and consumer products giant procter & gamble. andrew beh  of brokers ing  said ups and deutsche post were the most likely bidders and an offer of 950p a share would be fair if a bidding battle did not break out.  it s a great strategic fit for both companies   he said.  both are interested in expanding in logistics and you can make a decent case for cost synergies which could justify the premium and that s before you make any argument about revenue synergies.',\n",
       "  array([3.3329843e-04, 8.7679669e-05, 2.1194831e-04, ..., 1.6213610e-06,\n",
       "         1.4245217e-06, 2.0051957e-06], dtype=float32),\n",
       "  array([ -8.006473,  -9.341821,  -8.459168, ..., -13.332245, -13.461675,\n",
       "         -13.119769], dtype=float32),\n",
       "  'business'),\n",
       " ('fannie mae  should restate books  us mortgage company fannie mae should restate its earnings  a move that is likely to put a billion-dollar dent in its accounts  watchdogs have said.  the securities & exchange commission accused fannie mae of using techniques that  did not comply in material respects  with accounting standards. fannie mae last month warned that some records were incorrect. the other main us mortgage firm freddie mac restated earnings by $5bn (£2.6bn) last year after a probe of its books. the sec s comments are likely to increase pressure on congress to strengthen supervision of fannie mae and freddie mac.  the two firms are key parts of the us financial system and effectively underwrite the mortgage market  financing nearly half of all american house purchases and dealing actively in bonds and other financial instruments. the investigation of freddie mac in june 2003 sparked concerns about the wider health of the industry and raised questionsmarks over the role of the office of federal housing enterprise oversight (ofheo)  the industry s main regulator. having been pricked into action  the ofheo turned its attention to fannie may and in september this year said that the firm had tweaked its books to spread earnings more smoothly across quarters and play down the amount of risk it had taken on. the sec found similar problems. the watchdog s chief accountant donald nicolaisen said that  fannie mae s methodology of assessing  measuring and documenting hedge ineffectiveness was inadequate and was not supported  by generally accepted accounting principles.',\n",
       "  array([3.2228141e-04, 7.9557663e-05, 2.0002245e-04, ..., 1.6767195e-06,\n",
       "         1.4648672e-06, 2.0638108e-06], dtype=float32),\n",
       "  array([ -8.040086,  -9.439029,  -8.517081, ..., -13.298672, -13.433746,\n",
       "         -13.090957], dtype=float32),\n",
       "  'business'),\n",
       " ('yukos unit buyer faces loan claim the owners of embattled russian oil giant yukos are to ask the buyer of its former production unit to pay back a $900m (£479m) loan.  state-owned rosneft bought the yugansk unit for $9.3bn in a sale forced by russia to part settle a $27.5bn tax claim against yukos. yukos  owner menatep group says it will ask rosneft to repay a loan that yugansk had secured on its assets. rosneft already faces a similar $540m repayment demand from foreign banks. legal experts said rosneft s purchase of yugansk would include such obligations.  the pledged assets are with rosneft  so it will have to pay real money to the creditors to avoid seizure of yugansk assets   said moscow-based us lawyer jamie firestone  who is not connected to the case. menatep group s managing director tim osborne told the reuters news agency:  if they default  we will fight them where the rule of law exists under the international arbitration clauses of the credit.   rosneft officials were unavailable for comment. but the company has said it intends to take action against menatep to recover some of the tax claims and debts owed by yugansk. yukos had filed for bankruptcy protection in a us court in an attempt to prevent the forced sale of its main production arm. the sale went ahead in december and yugansk was sold to a little-known shell company which in turn was bought by rosneft. yukos claims its downfall was punishment for the political ambitions of its founder mikhail khodorkovsky and has vowed to sue any participant in the sale.',\n",
       "  array([2.9514113e-04, 8.0816084e-05, 2.0398005e-04, ..., 1.6804481e-06,\n",
       "         1.4761835e-06, 2.0795478e-06], dtype=float32),\n",
       "  array([ -8.128057,  -9.423334,  -8.497488, ..., -13.29645 , -13.42605 ,\n",
       "         -13.08336 ], dtype=float32),\n",
       "  'business'),\n",
       " ('disputed nirvana box set on sale a box set featuring 68 unreleased nirvana tracks has gone on sale in the us  after years of legal wrangles.  with the lights out was intended to be released in 2001  to mark the 10th anniversary of the album nevermind. it was blocked by courtney love  the widow of nirvana frontman kurt cobain  who did not want unreleased song you know you re right on the box set. the dispute between love and surviving band members krist novoselic and drummer dave grohl was settled in 2002. work began on the box set in 1998  but legal battles put the project on hold. the legal fight centred on a studio recording of the unreleased track you know you re right  regarded by fans as one of the unreleased gems of nirvana. the set  released on tuesday  features three cds and a dvd of rare performance and rehearsal footage. the dvd also includes the first performance of smells like teen spirit  the track that launched nirvana on to the international stage in 1991.  the band wasn t always pretty  or always in tune. this is not nirvana unplugged. it s nirvana unedited   said cobain biographer charles cross. the band s development ended tragically when songwriter kurt cobain committed suicide in april 1994.',\n",
       "  array([5.1786040e-04, 9.9586451e-01, 1.9885790e-04, ..., 1.7034671e-06,\n",
       "         1.9094891e-06, 1.9070341e-06], dtype=float32),\n",
       "  array([-7.5658050e+00, -4.1440572e-03, -8.5229197e+00, ...,\n",
       "         -1.3282845e+01, -1.3168674e+01, -1.3169961e+01], dtype=float32),\n",
       "  'entertainment'),\n",
       " ('weak end-of-year sales hit next next has said its annual profit will be £5m lower than previously expected because its end-of-year clearance sale has proved disappointing.   clearance rates in our end-of-season sale have been below our expectations   the company said. the high street retailer said it now expected to report annual profits of between £415m and £425m ($779m-798m). next s shares fell more than 3% following the release of the trading statement.  next chief executive simon wolfson admitted that festive sales were  below where we would expect a normal christmas to be   but said sales should still top analyst expectations.  among areas where next could have done better  mr wolfson said menswear ranges were  a little bit too similar to the previous year . mr wolfson also said that disappointing pre-christmas sales were  more to do with the fact that we went in with too much stock rather than (the fact that) demand wasn t there for the stock . next s like-for-like store sales in the five months from 3 august to 24 december were up 2.9% on a year earlier. this figure is for existing next stores  which were unaffected by new next store openings. like-for-like sales growth at the 49 next stores directly affected by new store openings in their locality was 0.5%.  overall sales across both its retail and mail order divisions were up 12.4%  next said. its next directory mail order division saw sales rise 13.4% during the five-month period.  in terms of all the worries about their trading pre-christmas  it s a result   said nick bubb  an analyst at evolution securities.  profits of around £420m would be well within the comfort zone.  however  one dealer  who asked not to be named  told reuters the seasonal sales performance was  not what people had hoped for .  christmas has been tough for the whole sector  and this is one of the best retailers   he said. next s trading statement comes a day after house of fraser and woolworths disappointed investors with their figures.',\n",
       "  array([3.2709882e-04, 8.7305198e-05, 2.1338116e-04, ..., 1.6244921e-06,\n",
       "         1.4319163e-06, 2.0283758e-06], dtype=float32),\n",
       "  array([ -8.025249,  -9.346101,  -8.452431, ..., -13.330316, -13.456497,\n",
       "         -13.108275], dtype=float32),\n",
       "  'business'),\n",
       " ('blair and blunkett sheffield trip tony blair is to join home secretary david blunkett in a visit to sheffield on thursday.  mr blunkett s conduct is being looked at to establish whether he abused his position in relation to his ex-lover. the parliamentary standards watchdog is looking at his decision to give kimberly quinn free rail tickets. he is also being investigated over the visa application of mrs quinn s ex-nanny. the visit to sheffield will be seen as a show of unity by mr blair.  on wednesday during prime minister s questions  tory leader michael howard went on the offensive over comments mr blunkett is alleged to have made in a new biography. he is understood to have made a series of criticisms about his cabinet colleagues from the prime minister down. mr howard said mr blunkett had complained he had inherited a  giant mess  when he took over at the home office from jack straw  now foreign secretary. the tory leader went on:  he doesn t stop there: he thinks the culture secretary s weak; he thinks the trade secretary doesn t think strategically and he thinks the education secretary hasn t developed as expected.  he says the prime minister doesn t like being told the truth and the chancellor - no doubt the prime minister will agree with this - is a bully.  mr blair retorted voters remembered the record of a government and no comments by politicians.  the home secretary has already admitted he was wrong to give the two first class tickets  given to him as an mp  to mrs quinn and has since paid the £180 back. he has apologised for  a genuine mistake  and says he will write to the watchdog to answer further questions. the rail tickets are meant to help mps  spouses get between westminster and their constituencies. after his inquiry  parliamentary watchdog sir philip mawer will report to the commons standards and privileges committee  the group of mps who will recommend to the full house of commons what action - if any - should be taken against mr blunkett.  the separate inquiry by ex-senior civil servant sir alan budd is investigating whether the home secretary helped fast-track a bid by mrs quinn s nanny  leoncia casalme  to stay in the uk. last week  mr blunkett won the first round of a high court battle with mrs quinn for access to her son. mr blunkett declined to comment about his own position  saying the inquiry was under way and the high court had stressed his right to privacy did not affect his job in improving security and stability. downing street has stressed mr blair s support for the home secretary.',\n",
       "  array([2.2188768e-04, 6.3000443e-05, 1.9432636e-04, ..., 2.3970301e-06,\n",
       "         1.5095015e-06, 1.4542037e-06], dtype=float32),\n",
       "  array([ -8.41334 ,  -9.672369,  -8.545972, ..., -12.94128 , -13.403731,\n",
       "         -13.441052], dtype=float32),\n",
       "  'politics'),\n",
       " ('baron kinnock makes lords debut former labour leader neil kinnock has officially been made a life peer during a ceremony in the house of lords.  he will be known baron kinnock of bedwellty - after his former constituency. lord kinnock - who led labour from 1983 until 1992 - was until recently one of britain s eu commissioners. a former critic of the house of lords  he has said he will use the upper house to advocate its reform and to talk on issues like higher education.  i accepted the kind invitation to enter the house of lords as a working peer for practical political reasons   he said when his peerage was first announced.  it is a good base for campaigning on national issues like education  sustainable transport  industrial change and the ageing society and global concerns  particularly poverty and oppression.  during his induction into the upper house  lord kinnock was accompanied by lords leader baroness amos and baroness royall of blaisdon  a former aide to the ex-labour leader. it has been a long journey for the new lord kinnock from his earliest days as a rebellious youngster in the south wales valleys. born in 1942 in tredegar to a miner father and nurse mother  he attended lewis boys  school in nearby pengam  known then as the  eton of the valleys . from there he went to cardiff university  where he met his future wife glenys  now a labour mep.  after a brief career as a tutor for the workers  educational association  he became an mp at the age of just 28 for his home seat of bedwellty (later islwyn). he gained a reputation as a left-wing firebrand  voting against his own labour government s spending cuts proposals in 1975  and later rejecting a junior post in james callaghan s administration. but he joined the shadow cabinet in 1980  and after labour s heavy defeat in the 1983 he was elected leader. he took on the far-left militant tendency and began the long process of returning his party to the centre ground. he was not expected to win the 1987 election  when margaret thatcher was still riding high  but was bitterly disappointed to lose the next one in 1992 to john major  and stepped down. he remained an mp until 1995  when he resigned to become european commission for transport. four years later he became vice-president of the european commission  with responsibility for internal reform. as he assumes the title of lord kinnock  he has also become chairman of the british council  which promotes the uk s reputation for arts  science and education.',\n",
       "  array([2.3364887e-04, 6.7243651e-05, 2.0395879e-04, ..., 2.3821831e-06,\n",
       "         1.4947437e-06, 1.4415639e-06], dtype=float32),\n",
       "  array([ -8.361691,  -9.607188,  -8.497593, ..., -12.947494, -13.413556,\n",
       "         -13.449782], dtype=float32),\n",
       "  'politics'),\n",
       " ('warnings on woeful wi-fi security companies are getting worse at keeping their wireless data networks secure.  a survey of wi-fi networks in london  frankfurt  new york and san francisco by rsa security found more than a third had basic security features turned off. by contrast last year s survey found that 15% of firms had failed to take basic steps to improve security. rsa warned that wi-fi s growing popularity made it much more likely that insecure networks would be found and exploited.  wireless or wi-fi networks have become hugely popular over the last few years in offices because they are easy to set up and make going online much more convenient. this popularity shows no sign of slowing reveals the annual rsa security and netsurity survey which found an annual 66% growth rate in the number of wireless nets being installed in london and frankfurt. although most firms do take steps to turn on the security functions built in to the wi-fi standard and protect themselves from attack  the survey found that a significant proportion were taking unnecessary risks. on average 33% of the wireless networks found by rsa and netsurity researchers in london  frankfurt  new york and san francisco had not used basic security systems. many firms were simply turning on their wireless net access points and use default settings that anyone familiar with wi-fi could easily find out. rsa said that 26% of wi-fi networks found london used default settings compared to 30% in frankfurt  31% in new york and 28% in san francisco. many users of wi-fi nets did not even turn on the encryption that scrambles data traffic between users and the access point helping them go online. this is despite a series of stories warning firms about the dangers of  drive-by hacking  in which computer criminals walk or drive around city centres using easy to use tools to spot wi-fi nets.  these figures are another stark warning to unsecured businesses to get their act together   said phil cracknell  chief technology officer at netsurity. as more public wi-fi hotspots appear and people become more familiar with using them  it was getting more likely that insecure would be found  warned mr cracknell.  accidental or intentional connection to a corporate network can bring with it a series of security issues including loss of confidential data and installation of malicious code   he said.',\n",
       "  array([9.9256426e-01, 1.9997449e-03, 2.2191595e-04, ..., 3.1909149e-06,\n",
       "         2.0058167e-06, 1.4774599e-06], dtype=float32),\n",
       "  array([-7.4635474e-03, -6.2147355e+00, -8.4132118e+00, ...,\n",
       "         -1.2655203e+01, -1.3119459e+01, -1.3425186e+01], dtype=float32),\n",
       "  'tech'),\n",
       " ('halo fans  hope for sequel xbox video game halo 2 has been released in the us on 9 november  with a uk release two days later. why is the game among the most anticipated of all time   halo is considered by many video game pundits to be one of the finest examples of interactive entertainment ever produced and more than 1.5 million people worldwide have pre-ordered the sequel. a science fiction epic  halo centred the action on a human cyborg  controlled by the player  who had to save his crew from an alien horde after a crash landing on a strange and exotic world contained on the interior surface of a giant ring in space. remembrance of things past it was not - but as a slice of schlock science fiction inspired by works such as larry niven s ringworld and the film starship troopers  it fit the bill perfectly. halo stood out from a crowd of similar titles - it was graphically impressive  had tremendous audio  using dolby digital  a decent storyline  instant playability and impressive physics.  but what marked halo as a classic were the thousands of details which brought a feeling of polish and the enormously-high production values not usually associated with video gaming.  produced by bungie software  renowned for their innovation in gaming  it caused a stir among the gaming fraternity when the developer was bought by microsoft and became an xbox exclusive. claude errera  editor of fansite halo.bungie.org  said:  bungie got everything right. they were really careful to make sure everything worked the way it was supposed to.  nothing distracts you when you were playing. there was nothing in halo that had not been done before but everything in there was as good as it could be.  he added:  graphically it was superior to everything else out there.   it also had a depth to it that made it stand out.  halo was unusually immersive  sucking the player into the action and blurring the interface between screen and controller. it also capitalised on the growing popularity of lan gaming in the pc world - for the first time it became easy to link multiple game consoles together  allowing up to 16 players to battle against each other at the same time.  the game instantly cultivated an online following  which continues today with a score of halo fan websites following every aspect of the sequel  halo 2. errera spends three to fours hours a day of his own time maintaining the hugely popular website  which attracts 600 000 page views a day from halo fans eager for the latest news.  when the xbox launched on november 15 2001 in the us  halo was one of the launch titles and had an immediate impact on critics and consumers.  halo is the most important launch game for any console ever   wrote the influential edge magazine in its review  giving it a rare 10 out of 10 mark. the game had its critics and while it is not a one-off original as a game  it brought many original touches and flourishes to the genre which have defined all other first person shooters since.  the first time i played it i just stood there watching the spent shells fall out of my gun   said errera  remarking on the level of detail in the game.  the game also inspired thousands of people to write their own fiction based on the storyline and produce downloadable video clips of the many weird and wonderful things that can be done in the game.  it blew me away the first time someone managed to climb to the top of halo   said errera  referring to a fan who had created a video of master chief scaling the landscape of the graphical world. video clips of the more outrageous stunts that are possible thanks to the game s amazing physics engine are incredibly popular and some have attained a cult following. speculation about the sequel has seen every titbit analysed and poured over with all the intent of a forensic scientist examining a body. when early screenshots of the game were released some people wrote essay-length articles highlighting everything from the texture of graphics to clues about the story line. errera said expectations of the sequel among fans were sky high.  it does not feel like a game release any more. somebody told me this was the biggest single release of any product in microsoft s history.  we re all just hoping that bungie has got it right again.   halo 2 is out on 9 november in the us and 11 november in the uk',\n",
       "  array([9.9227649e-01, 2.2545487e-03, 2.2990815e-04, ..., 3.3157171e-06,\n",
       "         2.0968341e-06, 1.5578544e-06], dtype=float32),\n",
       "  array([-7.7535152e-03, -6.0948052e+00, -8.3778305e+00, ...,\n",
       "         -1.2616837e+01, -1.3075082e+01, -1.3372201e+01], dtype=float32),\n",
       "  'tech'),\n",
       " ('johnny and denise lose passport johnny vaughan and denise van outen s saturday night entertainment show passport to paradise will not return to screens  the bbc has said.  the ex-big breakfast presenters were recruited to host the bbc one family variety show last july.  there are currently no plans for another series   a spokeswoman said. she added the pair  brought a real warmth to saturday night  but in the end we felt we had done enough with the format of the show .  passport to paradise involved a combination of games and outside broadcasts with a high level of audience participation. the first instalment attracted more than 4.1 million viewers - but that had dropped to fewer than 2.7 million by the time it ended. the bbc spokeswoman said graham norton s strictly dance fever would be a priority for 2005.  that s very much on the cards for next year  and we re concentrating at the moment on strictly come dancing  which is doing phenomenally well   she said.',\n",
       "  array([5.1613792e-04, 9.9586678e-01, 2.0078075e-04, ..., 1.6942701e-06,\n",
       "         1.9002540e-06, 1.9099471e-06], dtype=float32),\n",
       "  array([-7.5691366e+00, -4.1418015e-03, -8.5132971e+00, ...,\n",
       "         -1.3288259e+01, -1.3173523e+01, -1.3168435e+01], dtype=float32),\n",
       "  'entertainment'),\n",
       " ('hitler  row over welsh arts cash an artist critical of welsh arts funding being brought under assembly government control has denied comparing the idea with dictatorships in russia and germany.  shani rhys james is worried that the arts council of wales may be taken over by the welsh assembly government. culture minister alun pugh said it would be  crass and ignorant  to liken a quango review to hitler s germany. but ms james emphasised she had actually said artists needed freedom. the future of the arts council of wales has been in question since it was announced that most welsh quangos would eventually be abolished.  it was announced last july that three welsh quangos  education and training body elwa  the wales tourist board and the welsh development agency  would be brought under assembly government control. the arts council of wales may be among the next to come under the assembly government s umbrella. but ms james  who won the £30 000 jerwood painting prize in 2003  said arts funding should be separate from government. ms james told bbc radio wales:  it s quite dangerous when you involve politicians because it s not like the health service and it s not like the railways.  free expression is absolutely vital in a democratic society. you need distance  you do not need government interference because it could be taken the wrong way.   but she said reports that she had likened the assembly government to totalitarian regimes were inaccurate.  she told good morning wales:  just to put the record straight  that business in the paper where it said i likened the government to bolshevik russia or hitler s germany  the actual quote i gave was:  it is vital to a civilised society that we allow artists to express themselves without government control .  as we know from past european history  i.e. russia and germany in the early 20th century  artists will go underground or leave the country or rather than compromise their expression .  artists need a free voice to express themselves - they reflect a truth through their own art forms.   she said the assembly government was not best placed to run the arts in wales.  she added:  it would be a momentous change and devastating to the arts. it would set the arts scene back 60 years  because i really don t think the government has the expertise.  if you have the national assembly taking control  i fear you are going to be going back to the dragons and leeks and the choirs.   wales has moved on. it is international now. it is not set back in how green was my valley   responding to ms james  criticisms  mr pugh said:  the structure of unelected quangos is under review and we have made it clear that further announcements are due shortly.  comparing the welsh assembly government to hitler s germany is a crass and ignorant response to a real issue about democratic accountability.  ms james  whose father was welsh  was born in melbourne where her parents worked in the theatre. she moved to powys nearly 20 years ago where she works from her studio near llangadfan. she has won a number of arts prizes including the wales open in 1989 and the mostyn open in 1991.',\n",
       "  array([3.5207981e-04, 1.9495777e-04, 2.7255312e-04, ..., 2.7062067e-06,\n",
       "         1.6403756e-06, 1.6439039e-06], dtype=float32),\n",
       "  array([ -7.9516525,  -8.542727 ,  -8.207677 , ..., -12.8199625,\n",
       "         -13.320585 , -13.318437 ], dtype=float32),\n",
       "  'politics'),\n",
       " ('corbett attacks  dumbed-down tv  ronnie corbett has joined fellow comedy stars victoria wood and david jason in attacking the declining standards of british television programmes.  speaking to the radio times  the two ronnies star said there is too much bad language and reality tv.  you get fed up watching shows with not much care and love   he complained. corbett  soon to reunite with ronnie barker for a new two ronnies series  also criticised quiz shows like the bbc s they think it s all over.  it s just laughing at each other and thinking   aren t we clever    said the 74-year-old comedian. corbett is the latest comedy star to bemoan the  dumbing down  of modern tv programmes. in an interview published in the radio times in january  victoria wood slated comedian sacha baron cohen for his character ali g s  horrible  brand of  victim  humour.   with so many good writers and good performers  it s a shame people can t just write a script and have other people learn it   she said. and last week only fools and horses star david jason criticised british tv for being  too safe and too cheap .  we ve got to be careful not to dumb down for the audience   he said.  they shouldn t be sitting at home on the sofa vegetating.  corbett said he and barker were always mindful of their family audience while making the two ronnies.  our material was good-natured   he said.  we knew what would upset the average man in the street.  there s a lot of swearing on tv today. they even have documentaries with the f-word.   corbett goes on to criticise  reality programmes where they put people in a house for a fortnight and film them doing everything . the two ronnies ran from 1971 to 1987 and attracted 17 million viewers at its peak. its bespectacled stars will return later this year in the two ronnies sketchbook  which will combine classic sketches with newly recorded material. corbett claims he and barker differ from today s celebrities in that they did not allow their success to go to their heads.  we were never temperamental  fractious or walked out slamming doors   he said.  we were fussy though   he added.  we wanted everything done properly.',\n",
       "  array([5.1004998e-04, 9.9587291e-01, 2.0487154e-04, ..., 1.6850488e-06,\n",
       "         1.8971893e-06, 1.9019683e-06], dtype=float32),\n",
       "  array([-7.58100176e+00, -4.13562823e-03, -8.49312782e+00, ...,\n",
       "         -1.32937164e+01, -1.31751375e+01, -1.31726217e+01], dtype=float32),\n",
       "  'entertainment'),\n",
       " ('qantas considers offshore option australian airline qantas could transfer as many as 7 000 jobs out of its home country as it seeks to save costs  according to newspaper reports.  chief executive geoff dixon was quoted by the australian newspaper as saying the carrier could no longer afford to remain  all-australian . unions criticised the possible move - which may affect cabin and maintenance staff - saying qantas was profitable. more than 90% of the airline s staff are based in australia.  qantas confirmed it was looking at whether it might recruit and source products overseas - potentially through joint ventures - but said it would continue to create jobs in australia.  despite making a record australian dollars 648m ($492m) profit last year  qantas has argued that it needs to make considerable savings if it is to remain competitive.  we re going to have to get the lowest cost structure we can and that willmean sourcing things more and more from overseas   the newspaper quoted qantas chief executive geoff dixon as saying. early this year  qantas increased the number of flight attendants based in london from 370 to 870. if qantas were to follow the lead of other airlines moving staff  offshore  7 000 jobs could shift overseas  the newspaper reported. in a statement  qantas said it was looking to build its operations overseas. however  it stressed this would not result in large scale redundancies in its home market  where most of its 35 000 staff are employed.  we are totally committed to continuing to grow jobs in australia   mr dixon said.  we are  however  operating in a global market and there is no room for complacency simply because we are currently profitable and successful.   unions reacted angrily to the reported disclosure  arguing that qantas was profitable and did not need to take such action.  we could understand if qantas was a struggling airline about to go under   m"
      ]
     },
     "execution_count": 73,
     "metadata": {},
     "output_type": "execute_result"
    },
    {
     "data": {
      "text/html": [
       "<b>limit_output extension: Maximum message size of 100000 exceeded with 1095517 characters</b>"
      ]
     },
     "metadata": {},
     "output_type": "display_data"
    }
   ],
   "source": [
    "pred_list"
   ]
  },
  {
   "cell_type": "code",
   "execution_count": 84,
   "metadata": {},
   "outputs": [],
   "source": [
    "count = 0\n",
    "wrong_index_list = []"
   ]
  },
  {
   "cell_type": "code",
   "execution_count": 85,
   "metadata": {},
   "outputs": [],
   "source": [
    "for i in range(len(label_list)):\n",
    "    if pred_list[i][3] == label_list[i]:\n",
    "        count += 1\n",
    "    else:\n",
    "        wrong_index_list.append(i)"
   ]
  },
  {
   "cell_type": "code",
   "execution_count": 86,
   "metadata": {},
   "outputs": [
    {
     "data": {
      "text/plain": [
       "437"
      ]
     },
     "execution_count": 86,
     "metadata": {},
     "output_type": "execute_result"
    }
   ],
   "source": [
    "count"
   ]
  },
  {
   "cell_type": "code",
   "execution_count": 87,
   "metadata": {},
   "outputs": [
    {
     "data": {
      "text/plain": [
       "[29, 153, 278, 290, 292, 327, 403, 421]"
      ]
     },
     "execution_count": 87,
     "metadata": {},
     "output_type": "execute_result"
    }
   ],
   "source": [
    "wrong_index_list"
   ]
  },
  {
   "cell_type": "code",
   "execution_count": 89,
   "metadata": {},
   "outputs": [
    {
     "name": "stdout",
     "output_type": "stream",
     "text": [
      "[2.8299203e-04 7.4471376e-05 2.6795189e-04 ... 2.5635704e-06 1.6707902e-06\n",
      " 1.5673857e-06] politics\n",
      "business\n",
      "[9.9222106e-01 2.1787777e-03 2.4587207e-04 ... 3.1907182e-06 1.9897223e-06\n",
      " 1.4694775e-06] tech\n",
      "entertainment\n",
      "[9.9074239e-01 3.5093157e-03 2.4908755e-04 ... 3.4512168e-06 2.1912283e-06\n",
      " 1.6739731e-06] tech\n",
      "entertainment\n",
      "[9.9209714e-01 2.0372153e-03 2.4601843e-04 ... 3.0164433e-06 1.9516806e-06\n",
      " 1.4926341e-06] tech\n",
      "business\n",
      "[3.4128563e-04 9.9238074e-05 2.6661201e-04 ... 1.6293405e-06 1.4105582e-06\n",
      " 2.0499401e-06] business\n",
      "politics\n",
      "[9.9129522e-01 2.3980618e-03 2.5787676e-04 ... 3.2859991e-06 2.0351442e-06\n",
      " 1.5659091e-06] tech\n",
      "politics\n",
      "[3.4595803e-05 1.1230022e-04 9.9694616e-01 ... 9.0983224e-07 1.1827166e-06\n",
      " 1.3515552e-06] sport\n",
      "tech\n",
      "[2.1589080e-04 5.9627640e-05 2.0736073e-04 ... 2.4009939e-06 1.5489435e-06\n",
      " 1.4986083e-06] politics\n",
      "business\n"
     ]
    }
   ],
   "source": [
    "for i in wrong_index_list:\n",
    "    print(pred_list[i][1],pred_list[i][3])\n",
    "    print(label_list[i])"
   ]
  },
  {
   "cell_type": "code",
   "execution_count": null,
   "metadata": {},
   "outputs": [],
   "source": []
  }
 ],
 "metadata": {
  "kernelspec": {
   "display_name": "Python 3",
   "language": "python",
   "name": "python3"
  },
  "language_info": {
   "codemirror_mode": {
    "name": "ipython",
    "version": 3
   },
   "file_extension": ".py",
   "mimetype": "text/x-python",
   "name": "python",
   "nbconvert_exporter": "python",
   "pygments_lexer": "ipython3",
   "version": "3.5.2"
  }
 },
 "nbformat": 4,
 "nbformat_minor": 2
}
